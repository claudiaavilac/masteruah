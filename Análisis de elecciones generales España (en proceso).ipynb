{
 "cells": [
  {
   "cell_type": "markdown",
   "metadata": {},
   "source": [
    "### Análisis de Elecciones generales España\n",
    "No hace ni un mes que fueron las elecciones generales y en nada nos tocan las municipales… Y encima vamos a trabajar con datos del INE y del Ministerio de Interior para analizar los resultados de las elecciones generales de 2016."
   ]
  },
  {
   "cell_type": "markdown",
   "metadata": {},
   "source": [
    "1. Carga de ficheros"
   ]
  },
  {
   "cell_type": "code",
   "execution_count": 1,
   "metadata": {},
   "outputs": [],
   "source": [
    "from pyspark import SparkContext, SparkConf\n",
    "conf = SparkConf().setAppName(\"ejercicios\").setMaster(\"local\")\n",
    "sc = SparkContext(conf=conf)"
   ]
  },
  {
   "cell_type": "code",
   "execution_count": 2,
   "metadata": {},
   "outputs": [
    {
     "data": {
      "text/plain": [
       "hdfs://localhost:9000/user/bigdata/spark/PECElecciones.csv MapPartitionsRDD[1] at textFile at NativeMethodAccessorImpl.java:0"
      ]
     },
     "execution_count": 2,
     "metadata": {},
     "output_type": "execute_result"
    }
   ],
   "source": [
    "elec = sc.textFile(\"hdfs://localhost:9000/user/bigdata/spark/PECElecciones.csv\")\n",
    "elec"
   ]
  },
  {
   "cell_type": "code",
   "execution_count": 3,
   "metadata": {},
   "outputs": [
    {
     "data": {
      "text/plain": [
       "hdfs://localhost:9000/user/bigdata/spark/PECMunicipios.csv MapPartitionsRDD[3] at textFile at NativeMethodAccessorImpl.java:0"
      ]
     },
     "execution_count": 3,
     "metadata": {},
     "output_type": "execute_result"
    }
   ],
   "source": [
    "mun = sc.textFile(\"hdfs://localhost:9000/user/bigdata/spark/PECMunicipios.csv\")\n",
    "mun"
   ]
  },
  {
   "cell_type": "markdown",
   "metadata": {},
   "source": [
    "2. Cargar el fichero de municipios con Spark Core quitando la cabecera."
   ]
  },
  {
   "cell_type": "code",
   "execution_count": 4,
   "metadata": {},
   "outputs": [],
   "source": [
    "def f(idx, iter):\n",
    "    output = []\n",
    "    for sublist in iter:\n",
    "        output.append(sublist)\n",
    "    if idx>0:\n",
    "        return(output)\n",
    "    else:\n",
    "        return(output[1:])\n",
    "def p(x) : print(x)"
   ]
  },
  {
   "cell_type": "code",
   "execution_count": 5,
   "metadata": {},
   "outputs": [
    {
     "data": {
      "text/plain": [
       "PythonRDD[4] at RDD at PythonRDD.scala:53"
      ]
     },
     "execution_count": 5,
     "metadata": {},
     "output_type": "execute_result"
    }
   ],
   "source": [
    "mun_df = mun.map(lambda x: x.replace(\"\\\"\",\"\").split(\";\")).mapPartitionsWithIndex(f)\n",
    "mun_df"
   ]
  },
  {
   "cell_type": "markdown",
   "metadata": {},
   "source": [
    "3. Cargar el fichero de elecciones con Spark Core quitando la cabecera."
   ]
  },
  {
   "cell_type": "code",
   "execution_count": 6,
   "metadata": {},
   "outputs": [
    {
     "data": {
      "text/plain": [
       "PythonRDD[5] at RDD at PythonRDD.scala:53"
      ]
     },
     "execution_count": 6,
     "metadata": {},
     "output_type": "execute_result"
    }
   ],
   "source": [
    "elec_df = elec.map(lambda x: x.replace(\"\\\"\",\"\").split(\";\")).mapPartitionsWithIndex(f)\n",
    "elec_df"
   ]
  },
  {
   "cell_type": "markdown",
   "metadata": {},
   "source": [
    "4. Generar un dataframe a partir del RDD de municipios. Ajustar los tipos, borrar espacios, etc."
   ]
  },
  {
   "cell_type": "code",
   "execution_count": 7,
   "metadata": {},
   "outputs": [],
   "source": [
    "import pyspark\n",
    "from pyspark import SparkContext, SparkConf\n",
    "from pyspark.sql import SparkSession\n",
    "from pyspark.sql.functions import col, desc\n",
    "from pyspark.sql.types import StructField, StructType, StringType, IntegerType, DoubleType, FloatType\n",
    "\n",
    "sparkSQL = SparkSession \\\n",
    "    .builder \\\n",
    "    .appName(\"SparkSQL\") \\\n",
    "    .master(\"local\") \\\n",
    "    .getOrCreate()"
   ]
  },
  {
   "cell_type": "code",
   "execution_count": 8,
   "metadata": {},
   "outputs": [],
   "source": [
    "schema_mun = StructType([\n",
    "    StructField('codigo', StringType(), True),\n",
    "    StructField('comunidad', StringType(), True),\n",
    "    StructField('provincia', StringType(), True),\n",
    "    StructField('municipio', StringType(), True),\n",
    "    StructField('poblacion', StringType(), True),\n",
    "])"
   ]
  },
  {
   "cell_type": "code",
   "execution_count": 9,
   "metadata": {},
   "outputs": [],
   "source": [
    "mun2 = sparkSQL.createDataFrame(mun_df, schema_mun)"
   ]
  },
  {
   "cell_type": "code",
   "execution_count": 10,
   "metadata": {},
   "outputs": [],
   "source": [
    "from pyspark.sql.functions import rtrim\n",
    "mun2 = mun2.withColumn(\"comunidad\", rtrim(mun2.comunidad))\n",
    "mun2 = mun2.withColumn(\"provincia\", rtrim(mun2.provincia))\n",
    "mun2 = mun2.withColumn(\"municipio\", rtrim(mun2.municipio))\n",
    "#mun2 = mun2.withColumn(\"poblacion\", mun2[\"poblacion\"].cast(IntegerType()))\n",
    "#mun2 = mun2.withColumn(\"codigo\", mun2[\"codigo\"].cast(IntegerType()))"
   ]
  },
  {
   "cell_type": "code",
   "execution_count": 11,
   "metadata": {},
   "outputs": [
    {
     "name": "stdout",
     "output_type": "stream",
     "text": [
      "+------+---------+---------+--------------------+---------+\n",
      "|codigo|comunidad|provincia|           municipio|poblacion|\n",
      "+------+---------+---------+--------------------+---------+\n",
      "|  4001|Andaluc�a|  Almer�a|                Abla|     1342|\n",
      "|  4002|Andaluc�a|  Almer�a|            Abrucena|     1279|\n",
      "|  4003|Andaluc�a|  Almer�a|                Adra|    24670|\n",
      "|  4004|Andaluc�a|  Almer�a|           Alb�nchez|      805|\n",
      "|  4005|Andaluc�a|  Almer�a|           Alboloduy|      653|\n",
      "|  4006|Andaluc�a|  Almer�a|               Albox|    11429|\n",
      "|  4007|Andaluc�a|  Almer�a|             Alcolea|      812|\n",
      "|  4008|Andaluc�a|  Almer�a|            Alc�ntar|      570|\n",
      "|  4009|Andaluc�a|  Almer�a|Alcudia de Monteagud|      168|\n",
      "|  4010|Andaluc�a|  Almer�a|             Alhabia|      700|\n",
      "|  4011|Andaluc�a|  Almer�a|   Alhama de Almer�a|     3763|\n",
      "|  4012|Andaluc�a|  Almer�a|              Alic�n|      220|\n",
      "|  4013|Andaluc�a|  Almer�a|             Almer�a|   194203|\n",
      "|  4014|Andaluc�a|  Almer�a|            Alm�cita|      173|\n",
      "|  4015|Andaluc�a|  Almer�a|             Alsodux|      138|\n",
      "|  4016|Andaluc�a|  Almer�a|               Antas|     3195|\n",
      "|  4017|Andaluc�a|  Almer�a|            Arboleas|     4670|\n",
      "|  4018|Andaluc�a|  Almer�a| Armu�a de Almanzora|      332|\n",
      "|  4019|Andaluc�a|  Almer�a|             Bacares|      278|\n",
      "|  4020|Andaluc�a|  Almer�a|            Bay�rcal|      336|\n",
      "+------+---------+---------+--------------------+---------+\n",
      "only showing top 20 rows\n",
      "\n"
     ]
    }
   ],
   "source": [
    "mun2.show()"
   ]
  },
  {
   "cell_type": "markdown",
   "metadata": {},
   "source": [
    "5. Generar un dataframe a partir del RDD de elecciones. Ajustar los tipos, borrar espacios, etc."
   ]
  },
  {
   "cell_type": "code",
   "execution_count": 12,
   "metadata": {},
   "outputs": [],
   "source": [
    "from pyspark.sql.types import IntegerType"
   ]
  },
  {
   "cell_type": "code",
   "execution_count": 13,
   "metadata": {},
   "outputs": [],
   "source": [
    "schema_elec = StructType([\n",
    "    StructField('codigo', StringType(), True),\n",
    "    StructField('mesas', StringType(), True),\n",
    "    StructField('censo', StringType(), True),\n",
    "    StructField('votantes', StringType(), True),\n",
    "    StructField('validos', StringType(), True),\n",
    "    StructField('blanco', StringType(), True),\n",
    "    StructField('nulos', StringType(), True),\n",
    "    StructField('pp', StringType(), True),\n",
    "    StructField('psoe', StringType(), True),\n",
    "    StructField('podemosiuequo', StringType(), True),\n",
    "    StructField('ciudadanos', StringType(), True),\n",
    "    StructField('ecp', StringType(), True),\n",
    "    StructField('podemoscompromiseupv', StringType(), True),\n",
    "    StructField('erccasti', StringType(), True),\n",
    "    StructField('cdc', StringType(), True),\n",
    "    StructField('podemosenmareaanovaeu', StringType(), True),\n",
    "    StructField('eajpnv', StringType(), True),\n",
    "    StructField('ehbildu', StringType(), True),\n",
    "    StructField('ccapnc', StringType(), True),\n",
    "    StructField('pacma', StringType(), True),\n",
    "    StructField('recortescerogrupoverde', StringType(), True),\n",
    "    StructField('upyd', StringType(), True),\n",
    "    StructField('vox', StringType(), True),\n",
    "    StructField('bngnos', StringType(), True),\n",
    "    StructField('pcpe', StringType(), True),\n",
    "    StructField('gbai', StringType(), True),\n",
    "    StructField('eb', StringType(), True),\n",
    "    StructField('fedelasjons', StringType(), True),\n",
    "    StructField('si', StringType(), True),\n",
    "    StructField('somval', StringType(), True),\n",
    "    StructField('ccd', StringType(), True),\n",
    "    StructField('sain', StringType(), True),\n",
    "    StructField('ph', StringType(), True),\n",
    "    StructField('centromoderado', StringType(), True),\n",
    "    StructField('plib', StringType(), True),\n",
    "    StructField('ccdci', StringType(), True),\n",
    "    StructField('upl', StringType(), True),\n",
    "    StructField('pcoe', StringType(), True),\n",
    "    StructField('and', StringType(), True),\n",
    "    StructField('jxc', StringType(), True),\n",
    "    StructField('pfyv', StringType(), True),\n",
    "    StructField('cilus', StringType(), True),\n",
    "    StructField('pxc', StringType(), True),\n",
    "    StructField('mas', StringType(), True),\n",
    "    StructField('izar', StringType(), True),\n",
    "    StructField('unidaddelpueblo', StringType(), True),\n",
    "    StructField('prepal', StringType(), True),\n",
    "    StructField('ln', StringType(), True),\n",
    "    StructField('repo', StringType(), True),\n",
    "    StructField('independientesfia', StringType(), True),\n",
    "    StructField('entaban', StringType(), True),\n",
    "    StructField('imc', StringType(), True),\n",
    "    StructField('puede', StringType(), True),\n",
    "    StructField('fe', StringType(), True),\n",
    "    StructField('alcd', StringType(), True),\n",
    "    StructField('fme', StringType(), True),\n",
    "    StructField('hrtsln', StringType(), True),\n",
    "    StructField('udt', StringType(), True)\n",
    "    \n",
    "])"
   ]
  },
  {
   "cell_type": "code",
   "execution_count": 14,
   "metadata": {
    "scrolled": true
   },
   "outputs": [],
   "source": [
    "elec2 = sparkSQL.createDataFrame(elec_df, schema_elec)"
   ]
  },
  {
   "cell_type": "code",
   "execution_count": 15,
   "metadata": {},
   "outputs": [],
   "source": [
    "elec2 = elec2.withColumn(\"codigo\", elec2[\"codigo\"].cast(IntegerType()))\n",
    "elec2 = elec2.withColumn(\"mesas\", elec2[\"mesas\"].cast(IntegerType()))\n",
    "elec2 = elec2.withColumn(\"censo\", elec2[\"censo\"].cast(IntegerType()))\n",
    "elec2 = elec2.withColumn(\"votantes\", elec2[\"votantes\"].cast(IntegerType()))\n",
    "elec2 = elec2.withColumn(\"validos\", elec2[\"validos\"].cast(IntegerType()))\n",
    "elec2 = elec2.withColumn(\"blanco\", elec2[\"blanco\"].cast(IntegerType()))\n",
    "elec2 = elec2.withColumn(\"nulos\", elec2[\"nulos\"].cast(IntegerType()))\n",
    "elec2 = elec2.withColumn(\"pp\", elec2[\"pp\"].cast(IntegerType()))\n",
    "elec2 = elec2.withColumn(\"psoe\", elec2[\"psoe\"].cast(IntegerType()))\n",
    "elec2 = elec2.withColumn(\"podemosiuequo\", elec2[\"podemosiuequo\"].cast(IntegerType()))\n",
    "elec2 = elec2.withColumn(\"ciudadanos\", elec2[\"ciudadanos\"].cast(IntegerType()))\n",
    "elec2 = elec2.withColumn(\"ecp\", elec2[\"ecp\"].cast(IntegerType()))\n",
    "elec2 = elec2.withColumn(\"podemoscompromiseupv\", elec2[\"podemoscompromiseupv\"].cast(IntegerType()))\n",
    "elec2 = elec2.withColumn(\"erccasti\", elec2[\"erccasti\"].cast(IntegerType()))\n",
    "elec2 = elec2.withColumn(\"cdc\", elec2[\"cdc\"].cast(IntegerType()))\n",
    "elec2 = elec2.withColumn(\"podemosenmareaanovaeu\", elec2[\"podemosenmareaanovaeu\"].cast(IntegerType()))\n",
    "elec2 = elec2.withColumn(\"eajpnv\", elec2[\"eajpnv\"].cast(IntegerType()))\n",
    "elec2 = elec2.withColumn(\"ehbildu\", elec2[\"ehbildu\"].cast(IntegerType()))\n",
    "elec2 = elec2.withColumn(\"ccapnc\", elec2[\"ccapnc\"].cast(IntegerType()))\n",
    "elec2 = elec2.withColumn(\"pacma\", elec2[\"pacma\"].cast(IntegerType()))\n",
    "elec2 = elec2.withColumn(\"recortescerogrupoverde\", elec2[\"recortescerogrupoverde\"].cast(IntegerType()))\n",
    "elec2 = elec2.withColumn(\"upyd\", elec2[\"upyd\"].cast(IntegerType()))\n",
    "elec2 = elec2.withColumn(\"vox\", elec2[\"vox\"].cast(IntegerType()))\n",
    "elec2 = elec2.withColumn(\"bngnos\", elec2[\"bngnos\"].cast(IntegerType()))\n",
    "elec2 = elec2.withColumn(\"pcpe\", elec2[\"pcpe\"].cast(IntegerType()))\n",
    "elec2 = elec2.withColumn(\"gbai\", elec2[\"gbai\"].cast(IntegerType()))\n",
    "elec2 = elec2.withColumn(\"eb\", elec2[\"eb\"].cast(IntegerType()))\n",
    "elec2 = elec2.withColumn(\"fedelasjons\", elec2[\"fedelasjons\"].cast(IntegerType()))\n",
    "elec2 = elec2.withColumn(\"si\", elec2[\"si\"].cast(IntegerType()))\n",
    "elec2 = elec2.withColumn(\"somval\", elec2[\"somval\"].cast(IntegerType()))\n",
    "elec2 = elec2.withColumn(\"ccd\", elec2[\"ccd\"].cast(IntegerType()))\n",
    "elec2 = elec2.withColumn(\"sain\", elec2[\"sain\"].cast(IntegerType()))\n",
    "elec2 = elec2.withColumn(\"ph\", elec2[\"ph\"].cast(IntegerType()))\n",
    "elec2 = elec2.withColumn(\"centromoderado\", elec2[\"centromoderado\"].cast(IntegerType()))\n",
    "elec2 = elec2.withColumn(\"plib\", elec2[\"plib\"].cast(IntegerType()))\n",
    "elec2 = elec2.withColumn(\"ccdci\", elec2[\"ccdci\"].cast(IntegerType()))\n",
    "elec2 = elec2.withColumn(\"upl\", elec2[\"upl\"].cast(IntegerType()))\n",
    "elec2 = elec2.withColumn(\"pcoe\", elec2[\"pcoe\"].cast(IntegerType()))\n",
    "elec2 = elec2.withColumn(\"and\", elec2[\"and\"].cast(IntegerType()))\n",
    "elec2 = elec2.withColumn(\"jxc\", elec2[\"jxc\"].cast(IntegerType()))\n",
    "elec2 = elec2.withColumn(\"pfyv\", elec2[\"pfyv\"].cast(IntegerType()))\n",
    "elec2 = elec2.withColumn(\"cilus\", elec2[\"cilus\"].cast(IntegerType()))\n",
    "elec2 = elec2.withColumn(\"pxc\", elec2[\"pxc\"].cast(IntegerType()))\n",
    "elec2 = elec2.withColumn(\"mas\", elec2[\"mas\"].cast(IntegerType()))\n",
    "elec2 = elec2.withColumn(\"izar\", elec2[\"izar\"].cast(IntegerType()))\n",
    "elec2 = elec2.withColumn(\"unidaddelpueblo\", elec2[\"unidaddelpueblo\"].cast(IntegerType()))\n",
    "elec2 = elec2.withColumn(\"prepal\", elec2[\"prepal\"].cast(IntegerType()))\n",
    "elec2 = elec2.withColumn(\"ln\", elec2[\"ln\"].cast(IntegerType()))\n",
    "elec2 = elec2.withColumn(\"repo\", elec2[\"repo\"].cast(IntegerType()))\n",
    "elec2 = elec2.withColumn(\"independientesfia\", elec2[\"independientesfia\"].cast(IntegerType()))\n",
    "elec2 = elec2.withColumn(\"entaban\", elec2[\"entaban\"].cast(IntegerType()))\n",
    "elec2 = elec2.withColumn(\"imc\", elec2[\"imc\"].cast(IntegerType()))\n",
    "elec2 = elec2.withColumn(\"puede\", elec2[\"puede\"].cast(IntegerType()))\n",
    "elec2 = elec2.withColumn(\"fe\", elec2[\"fe\"].cast(IntegerType()))\n",
    "elec2 = elec2.withColumn(\"alcd\", elec2[\"alcd\"].cast(IntegerType()))\n",
    "elec2 = elec2.withColumn(\"fme\", elec2[\"fme\"].cast(IntegerType()))\n",
    "elec2 = elec2.withColumn(\"hrtsln\", elec2[\"hrtsln\"].cast(IntegerType()))\n",
    "elec2 = elec2.withColumn(\"udt\", elec2[\"udt\"].cast(IntegerType()))\n"
   ]
  },
  {
   "cell_type": "markdown",
   "metadata": {},
   "source": [
    "Creamos el join de los ficheros de elecciones y municipios"
   ]
  },
  {
   "cell_type": "code",
   "execution_count": 16,
   "metadata": {},
   "outputs": [],
   "source": [
    "df=elec2.join(mun2, ['codigo'], how='full')\n"
   ]
  },
  {
   "cell_type": "markdown",
   "metadata": {},
   "source": [
    "6.Generar un dataframe a partir del dataframe de elecciones con el código de municipio y normalizando los votos a partidos. Deberían quedar tres campos (municipio, partido, votos)."
   ]
  },
  {
   "cell_type": "code",
   "execution_count": 17,
   "metadata": {},
   "outputs": [],
   "source": [
    "df2=df.drop(\"mesas\",\"censo\",\"votantes\",\"validos\",\"blanco\",\"nulos\",\"comunidad\",\"provincia\").drop(\"codigo\")"
   ]
  },
  {
   "cell_type": "code",
   "execution_count": 18,
   "metadata": {},
   "outputs": [
    {
     "name": "stdout",
     "output_type": "stream",
     "text": [
      "+---------+--------------------+-----+\n",
      "|municipio|            partidos|votos|\n",
      "+---------+--------------------+-----+\n",
      "|   Viator|                  pp| 1017|\n",
      "|   Viator|                psoe| 1116|\n",
      "|   Viator|       podemosiuequo|  272|\n",
      "|   Viator|          ciudadanos|  408|\n",
      "|   Viator|                 ecp|    0|\n",
      "|   Viator|podemoscompromiseupv|    0|\n",
      "|   Viator|            erccasti|    0|\n",
      "|   Viator|                 cdc|    0|\n",
      "|   Viator|podemosenmareaano...|    0|\n",
      "|   Viator|              eajpnv|    0|\n",
      "|   Viator|             ehbildu|    0|\n",
      "|   Viator|              ccapnc|    0|\n",
      "|   Viator|               pacma|   18|\n",
      "|   Viator|recortescerogrupo...|    2|\n",
      "|   Viator|                upyd|    2|\n",
      "|   Viator|                 vox|    3|\n",
      "|   Viator|              bngnos|    0|\n",
      "|   Viator|                pcpe|    3|\n",
      "|   Viator|                gbai|    0|\n",
      "|   Viator|                  eb|    5|\n",
      "+---------+--------------------+-----+\n",
      "only showing top 20 rows\n",
      "\n"
     ]
    }
   ],
   "source": [
    "dfs= df2.selectExpr(\"municipio\",\"stack(51,'pp',pp,'psoe',psoe,'podemosiuequo',podemosiuequo,'ciudadanos',ciudadanos,'ecp',ecp,'podemoscompromiseupv',podemoscompromiseupv,'erccasti',erccasti,'cdc',cdc,'podemosenmareaanovaeu',podemosenmareaanovaeu,'eajpnv',eajpnv,'ehbildu',ehbildu,'ccapnc',ccapnc,'pacma',pacma,'recortescerogrupoverde',recortescerogrupoverde,'upyd',upyd,'vox',vox,'bngnos',bngnos,'pcpe',pcpe,'gbai',gbai,'eb',eb,'fedelasjons',fedelasjons,'si',si,'somval',somval,'ccd',ccd,'sain',sain,'ph',ph,'centromoderado',centromoderado,'plib',plib,'ccdci',ccdci,'upl',upl,'pcoe',pcoe,'and',and,'jxc',jxc,'pfyv',pfyv,'cilus',cilus,'pxc',pxc,'mas',mas,'izar',izar,'unidaddelpueblo',unidaddelpueblo,'prepal',prepal,'ln',ln,'repo',repo,'independientesfia',independientesfia,'entaban',entaban,'imc',imc,'puede',puede,'fe',fe,'alcd',alcd,'fme',fme,'hrtsln',hrtsln,'udt',udt) as (partidos, votos)\").where(\"votos is not null\").show()"
   ]
  },
  {
   "cell_type": "markdown",
   "metadata": {},
   "source": [
    "7. Generar un fichero con el top 10 de población de municipios de España y otro con el bottom 10 de población. Necesitamos el nombre de los municipios y su población sólo. (1 punto extra) Sacar además del nombre la autonomía y provincia."
   ]
  },
  {
   "cell_type": "code",
   "execution_count": 19,
   "metadata": {},
   "outputs": [
    {
     "name": "stdout",
     "output_type": "stream",
     "text": [
      "+--------------------+-------------------+--------------------+---------------+\n",
      "|           comunidad|          provincia|           municipio|top10_poblacion|\n",
      "+--------------------+-------------------+--------------------+---------------+\n",
      "| Comunidad de Madrid|             Madrid|              Madrid|      3141991.0|\n",
      "|           Catalunya|          Barcelona|           Barcelona|      1604555.0|\n",
      "|Comunitat Valenciana|Valencia / Val�ncia|            Valencia|       786189.0|\n",
      "|           Andaluc�a|            Sevilla|             Sevilla|       693878.0|\n",
      "|              Arag�n|           Zaragoza|            Zaragoza|       664953.0|\n",
      "|           Andaluc�a|             M�laga|              M�laga|       569130.0|\n",
      "|    Regi�n de Murcia|             Murcia|              Murcia|       439889.0|\n",
      "|       Illes Balears|      Illes Balears|   Palma de Mallorca|       400578.0|\n",
      "|            Canarias|         Las Palmas|Las Palmas de Gra...|       379766.0|\n",
      "|          Pa�s Vasco|            Bizkaia|              Bilbao|       345141.0|\n",
      "+--------------------+-------------------+--------------------+---------------+\n",
      "only showing top 10 rows\n",
      "\n",
      "+--------------------+-----------+--------------------+---------------+\n",
      "|           comunidad|  provincia|           municipio|bot10_poblacion|\n",
      "+--------------------+-----------+--------------------+---------------+\n",
      "|     Castilla y Le�n|     Burgos|   Jaramillo Quemado|            5.0|\n",
      "|Castilla - La Mancha|     Toledo|      Ill�n de Vacas|            6.0|\n",
      "|     Castilla y Le�n|      Soria|  Estepa de San Juan|            7.0|\n",
      "|            La Rioja|   La Rioja|         Valdemadera|            8.0|\n",
      "|Castilla - La Mancha|Guadalajara|         Castilnuevo|            8.0|\n",
      "|            La Rioja|   La Rioja|          Villarroya|            8.0|\n",
      "|     Castilla y Le�n|      Soria|Villanueva de Gormaz|            8.0|\n",
      "|     Castilla y Le�n|      Soria|          Qui�oner�a|            9.0|\n",
      "|     Castilla y Le�n|     Burgos|             Reinoso|           11.0|\n",
      "|Castilla - La Mancha|Guadalajara|       Torremochuela|           11.0|\n",
      "+--------------------+-----------+--------------------+---------------+\n",
      "only showing top 10 rows\n",
      "\n"
     ]
    }
   ],
   "source": [
    "#mun2 = mun2.withColumn(\"poblacion\", mun2[\"poblacion\"].cast(IntegerType()))\n",
    "import pyspark.sql.functions as psf\n",
    "mun2.groupBy(\"comunidad\",\"provincia\",\"municipio\")\\\n",
    "    .agg(psf.sum(\"poblacion\").alias(\"top10_poblacion\"))\\\n",
    "    .sort(desc(\"top10_poblacion\"))\\\n",
    "    .show(10)\n",
    "\n",
    "mun2.groupBy(\"comunidad\",\"provincia\",\"municipio\")\\\n",
    "    .agg(psf.sum(\"poblacion\").alias(\"bot10_poblacion\"))\\\n",
    "    .sort(\"bot10_poblacion\")\\\n",
    "    .show(10)"
   ]
  },
  {
   "cell_type": "markdown",
   "metadata": {},
   "source": [
    "8. Queremos saber los 10 municipios donde ha habido más participación (el porcentaje de votos respecto el censo es más alto) y donde ha habido más abstención. Generaremos un fichero del top y uno del bottom con los datos del municipio y el % de participación. se divide votantes/censo y se ordena el porcentaje "
   ]
  },
  {
   "cell_type": "code",
   "execution_count": 21,
   "metadata": {},
   "outputs": [],
   "source": [
    "df_partic=df.select(\"municipio\",\"censo\",\"votantes\")\n",
    "df_partic = df_partic.withColumn(\"porc_participac\", (df_partic[\"votantes\"]/df_partic[\"censo\"]))"
   ]
  },
  {
   "cell_type": "markdown",
   "metadata": {},
   "source": [
    "Se observa que los municipios con mayor participación son ..."
   ]
  },
  {
   "cell_type": "code",
   "execution_count": 22,
   "metadata": {},
   "outputs": [
    {
     "name": "stdout",
     "output_type": "stream",
     "text": [
      "+--------------------+-----+--------+---------------+\n",
      "|           municipio|censo|votantes|porc_participac|\n",
      "+--------------------+-----+--------+---------------+\n",
      "|  Estepa de San Juan|    8|       8|            1.0|\n",
      "|  Belmonte de Campos|   30|      30|            1.0|\n",
      "|             La Zoma|   25|      25|            1.0|\n",
      "|             Cidam�n|   22|      22|            1.0|\n",
      "|Alcolea de las Pe�as|    8|       8|            1.0|\n",
      "|          Salcedillo|   10|      10|            1.0|\n",
      "|  Arevalillo de Cega|   27|      27|            1.0|\n",
      "|         Castilnuevo|    8|       8|            1.0|\n",
      "|       Torremochuela|   10|      10|            1.0|\n",
      "|            Almohaja|   19|      19|            1.0|\n",
      "+--------------------+-----+--------+---------------+\n",
      "only showing top 10 rows\n",
      "\n"
     ]
    }
   ],
   "source": [
    "df_partic.sort(desc(\"porc_participac\")).show(10)"
   ]
  },
  {
   "cell_type": "code",
   "execution_count": 23,
   "metadata": {},
   "outputs": [
    {
     "name": "stdout",
     "output_type": "stream",
     "text": [
      "+-------------------+-----+--------+-------------------+\n",
      "|          municipio|censo|votantes|    porc_participac|\n",
      "+-------------------+-----+--------+-------------------+\n",
      "|              Arano|   99|      42|0.42424242424242425|\n",
      "|Les Valls de Valira|  590|     258|0.43728813559322033|\n",
      "|         Baliarrain|   95|      44| 0.4631578947368421|\n",
      "|             Bele�a|  180|      84| 0.4666666666666667|\n",
      "|            Llobera|  175|      83| 0.4742857142857143|\n",
      "|             Balboa|  322|     153| 0.4751552795031056|\n",
      "|           Albiztur|  252|     121| 0.4801587301587302|\n",
      "|          Hernialde|  255|     123| 0.4823529411764706|\n",
      "|            Ezkurra|  143|      69| 0.4825174825174825|\n",
      "|           Purujosa|   35|      17| 0.4857142857142857|\n",
      "+-------------------+-----+--------+-------------------+\n",
      "only showing top 10 rows\n",
      "\n"
     ]
    }
   ],
   "source": [
    "df_partic.sort(\"porc_participac\").show(10)"
   ]
  },
  {
   "cell_type": "code",
   "execution_count": 29,
   "metadata": {},
   "outputs": [],
   "source": [
    "df2=df.drop(\"mesas\",\"censo\",\"votantes\",\"blanco\",\"nulos\",\"comunidad\",\"provincia\").drop(\"codigo\")\n",
    "df_stack= df2.selectExpr(\"municipio\",\"validos\",\"stack(51,'pp',pp,'psoe',psoe,'podemosiuequo',podemosiuequo,'ciudadanos',ciudadanos,'ecp',ecp,'podemoscompromiseupv',podemoscompromiseupv,'erccasti',erccasti,'cdc',cdc,'podemosenmareaanovaeu',podemosenmareaanovaeu,'eajpnv',eajpnv,'ehbildu',ehbildu,'ccapnc',ccapnc,'pacma',pacma,'recortescerogrupoverde',recortescerogrupoverde,'upyd',upyd,'vox',vox,'bngnos',bngnos,'pcpe',pcpe,'gbai',gbai,'eb',eb,'fedelasjons',fedelasjons,'si',si,'somval',somval,'ccd',ccd,'sain',sain,'ph',ph,'centromoderado',centromoderado,'plib',plib,'ccdci',ccdci,'upl',upl,'pcoe',pcoe,'and',and,'jxc',jxc,'pfyv',pfyv,'cilus',cilus,'pxc',pxc,'mas',mas,'izar',izar,'unidaddelpueblo',unidaddelpueblo,'prepal',prepal,'ln',ln,'repo',repo,'independientesfia',independientesfia,'entaban',entaban,'imc',imc,'puede',puede,'fe',fe,'alcd',alcd,'fme',fme,'hrtsln',hrtsln,'udt',udt) as (partidos, votos)\").where(\"votos is not null\")"
   ]
  },
  {
   "cell_type": "code",
   "execution_count": 30,
   "metadata": {},
   "outputs": [
    {
     "name": "stdout",
     "output_type": "stream",
     "text": [
      "+--------------------+-------+--------+-----+\n",
      "|           municipio|validos|partidos|votos|\n",
      "+--------------------+-------+--------+-----+\n",
      "|         Castilnuevo|      7|      pp|    7|\n",
      "|         Congostrina|     10|      pp|   10|\n",
      "|   Portillo de Soria|     12|      pp|   12|\n",
      "|         Valdemadera|      7|      pp|    7|\n",
      "|    La Vid de Bureba|     11|      pp|   11|\n",
      "|Rebollosa de Jadr...|      9|      pp|    9|\n",
      "+--------------------+-------+--------+-----+\n",
      "\n"
     ]
    }
   ],
   "source": [
    "from pyspark.sql import SparkSession\n",
    "from pyspark.sql.functions import col, desc\n",
    "df_stack.filter(col('validos')==col('votos')).show()"
   ]
  }
 ],
 "metadata": {
  "kernelspec": {
   "display_name": "Python 3",
   "language": "python",
   "name": "python3"
  },
  "language_info": {
   "codemirror_mode": {
    "name": "ipython",
    "version": 3
   },
   "file_extension": ".py",
   "mimetype": "text/x-python",
   "name": "python",
   "nbconvert_exporter": "python",
   "pygments_lexer": "ipython3",
   "version": "3.6.8"
  }
 },
 "nbformat": 4,
 "nbformat_minor": 2
}
