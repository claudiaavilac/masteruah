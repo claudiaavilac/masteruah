{
 "cells": [
  {
   "cell_type": "markdown",
   "metadata": {},
   "source": [
    "### Objetivo:  Explorar factores socio-económicos que influyen en la decisión de optar entre universidad o instituto. Para lo cual el notebook se divide en tres secciones:\n",
    "SECCIÓN A: Carga,limpieza y trabajo de las bases de datos analizadas \n",
    "\n",
    "SECCIÓN B: Análisis de las bases de datos\n",
    "\n",
    "SECCIÓN C: Conclusiones"
   ]
  },
  {
   "cell_type": "markdown",
   "metadata": {},
   "source": [
    "### SECCIÓN A: Carga, limpieza y trabajo de las bases de datos analizadas:\n",
    "#### El presente análisis hace uso de las bases de datos de encuestas nacionales de hogares del 2017 del Perú. Para ello, se realizó la unión de los módulos de características individuales (Base 200), del nivel educativo (Base 300) y de ingresos (Base sumaria). Adicionalmente, se ha utilizado la base de ubigeos y shapes  para mapear los departamentos en el 2017. Por último, se añadió una base con los nombres de universidades e institutos, los que permitieron identificar si son privados o públicos.\n",
    "1. Limpieza y creación de indicadores con BASE 200\n",
    "2. Limpieza y creación de indicadores con BASE 300\n",
    "3. Unión de bases 200, 300 y Sumaria\n",
    "4. Limpieza y creación de indicadores con BASE geográfica (shape)\n",
    "5. Limpieza y creación de indicadores con BASE de nombres de las instituciones educativas"
   ]
  },
  {
   "cell_type": "markdown",
   "metadata": {},
   "source": [
    "#### 1. LIMPIEZA BASE 200. CARACTERISTICAS INDIVIDUALES\n",
    "#### En este módulo nos vamos a quedar con las características individuales de interés de los estudiantes (edad, sexo, parentesco) "
   ]
  },
  {
   "cell_type": "code",
   "execution_count": 2,
   "metadata": {},
   "outputs": [
    {
     "name": "stderr",
     "output_type": "stream",
     "text": [
      "C:\\Users\\claud\\Anaconda3\\lib\\site-packages\\pandas\\core\\frame.py:3781: SettingWithCopyWarning: \n",
      "A value is trying to be set on a copy of a slice from a DataFrame\n",
      "\n",
      "See the caveats in the documentation: http://pandas.pydata.org/pandas-docs/stable/indexing.html#indexing-view-versus-copy\n",
      "  return super(DataFrame, self).rename(**kwargs)\n"
     ]
    }
   ],
   "source": [
    "import numpy as np\n",
    "import pandas as pd\n",
    "import os\n",
    "data200o=pd.read_stata(\"https://www.dropbox.com/s/5cx86wzwf1fjhb0/enaho01-2017-200.dta?dl=1\")\n",
    "data200 = data200o[['ubigeo','dominio','conglome','vivienda','hogar','codperso','facpob07', 'p203','p204','p207','p208a', 'p208a1','p208a2', 'p209']]\n",
    "data200.rename(columns={'p203':'parentesco','p204':'mieho', 'p207':'sexo', 'p208a':'edad','p208a1':'nacio_dist','p208a2':'lugar_nac', 'p209':'est_civil'}, inplace=True)\n"
   ]
  },
  {
   "cell_type": "code",
   "execution_count": 3,
   "metadata": {},
   "outputs": [
    {
     "data": {
      "text/html": [
       "<div>\n",
       "<style scoped>\n",
       "    .dataframe tbody tr th:only-of-type {\n",
       "        vertical-align: middle;\n",
       "    }\n",
       "\n",
       "    .dataframe tbody tr th {\n",
       "        vertical-align: top;\n",
       "    }\n",
       "\n",
       "    .dataframe thead th {\n",
       "        text-align: right;\n",
       "    }\n",
       "</style>\n",
       "<table border=\"1\" class=\"dataframe\">\n",
       "  <thead>\n",
       "    <tr style=\"text-align: right;\">\n",
       "      <th></th>\n",
       "      <th>ubigeo</th>\n",
       "      <th>dominio</th>\n",
       "      <th>conglome</th>\n",
       "      <th>vivienda</th>\n",
       "      <th>hogar</th>\n",
       "      <th>codperso</th>\n",
       "      <th>facpob07</th>\n",
       "      <th>mieho</th>\n",
       "      <th>sexo</th>\n",
       "      <th>edad</th>\n",
       "      <th>nacio_dist</th>\n",
       "      <th>lugar_nac</th>\n",
       "      <th>est_civil</th>\n",
       "    </tr>\n",
       "  </thead>\n",
       "  <tbody>\n",
       "    <tr>\n",
       "      <th>17</th>\n",
       "      <td>010101</td>\n",
       "      <td>sierra norte</td>\n",
       "      <td>005001</td>\n",
       "      <td>088</td>\n",
       "      <td>11</td>\n",
       "      <td>03</td>\n",
       "      <td>76.290199</td>\n",
       "      <td>si</td>\n",
       "      <td>hombre</td>\n",
       "      <td>18.0</td>\n",
       "      <td>nació en este distrito</td>\n",
       "      <td>010101</td>\n",
       "      <td>soltero(a)</td>\n",
       "    </tr>\n",
       "    <tr>\n",
       "      <th>18</th>\n",
       "      <td>010101</td>\n",
       "      <td>sierra norte</td>\n",
       "      <td>005001</td>\n",
       "      <td>088</td>\n",
       "      <td>11</td>\n",
       "      <td>04</td>\n",
       "      <td>76.290199</td>\n",
       "      <td>si</td>\n",
       "      <td>mujer</td>\n",
       "      <td>30.0</td>\n",
       "      <td>nació en este distrito</td>\n",
       "      <td>010101</td>\n",
       "      <td>separado(a)</td>\n",
       "    </tr>\n",
       "    <tr>\n",
       "      <th>28</th>\n",
       "      <td>010101</td>\n",
       "      <td>sierra norte</td>\n",
       "      <td>005002</td>\n",
       "      <td>034</td>\n",
       "      <td>11</td>\n",
       "      <td>02</td>\n",
       "      <td>75.795334</td>\n",
       "      <td>si</td>\n",
       "      <td>mujer</td>\n",
       "      <td>21.0</td>\n",
       "      <td>nació en este distrito</td>\n",
       "      <td>010101</td>\n",
       "      <td>soltero(a)</td>\n",
       "    </tr>\n",
       "    <tr>\n",
       "      <th>29</th>\n",
       "      <td>010101</td>\n",
       "      <td>sierra norte</td>\n",
       "      <td>005002</td>\n",
       "      <td>034</td>\n",
       "      <td>11</td>\n",
       "      <td>03</td>\n",
       "      <td>75.795334</td>\n",
       "      <td>si</td>\n",
       "      <td>mujer</td>\n",
       "      <td>20.0</td>\n",
       "      <td>nació en este distrito</td>\n",
       "      <td>010101</td>\n",
       "      <td>soltero(a)</td>\n",
       "    </tr>\n",
       "    <tr>\n",
       "      <th>30</th>\n",
       "      <td>010101</td>\n",
       "      <td>sierra norte</td>\n",
       "      <td>005002</td>\n",
       "      <td>034</td>\n",
       "      <td>11</td>\n",
       "      <td>04</td>\n",
       "      <td>75.795334</td>\n",
       "      <td>si</td>\n",
       "      <td>mujer</td>\n",
       "      <td>18.0</td>\n",
       "      <td>nació en este distrito</td>\n",
       "      <td>010101</td>\n",
       "      <td>soltero(a)</td>\n",
       "    </tr>\n",
       "  </tbody>\n",
       "</table>\n",
       "</div>"
      ],
      "text/plain": [
       "    ubigeo       dominio conglome vivienda hogar codperso   facpob07 mieho  \\\n",
       "17  010101  sierra norte   005001      088    11       03  76.290199    si   \n",
       "18  010101  sierra norte   005001      088    11       04  76.290199    si   \n",
       "28  010101  sierra norte   005002      034    11       02  75.795334    si   \n",
       "29  010101  sierra norte   005002      034    11       03  75.795334    si   \n",
       "30  010101  sierra norte   005002      034    11       04  75.795334    si   \n",
       "\n",
       "      sexo  edad              nacio_dist lugar_nac    est_civil  \n",
       "17  hombre  18.0  nació en este distrito    010101   soltero(a)  \n",
       "18   mujer  30.0  nació en este distrito    010101  separado(a)  \n",
       "28   mujer  21.0  nació en este distrito    010101   soltero(a)  \n",
       "29   mujer  20.0  nació en este distrito    010101   soltero(a)  \n",
       "30   mujer  18.0  nació en este distrito    010101   soltero(a)  "
      ]
     },
     "execution_count": 3,
     "metadata": {},
     "output_type": "execute_result"
    }
   ],
   "source": [
    "data200 = data200[(data200['mieho']=='si')]\n",
    "data200 = data200[(data200['parentesco']=='hijo/hija')]\n",
    "data200 = data200.drop(columns=['parentesco'])\n",
    "data200 = data200[(data200['edad']>=17) & (data200['edad']<=35)]\n",
    "data200.head()"
   ]
  },
  {
   "cell_type": "markdown",
   "metadata": {},
   "source": [
    "#### 2. LIMPIEZA BASE 300. CARACTERISTICAS DE EDUCACIÓN\n",
    "#### En este módulo nos vamos a quedar con las características relacionadas al nivel educativo de los estudiantes (nivel en el que está matriculado). Además se crea una variable dicotómica, que identifique al estudiante que alcanza el nivel educativo superior universitario o no universitario (técnico), y el resto nulo. Ello, nos permitirá hacer distintos graficos más adelante."
   ]
  },
  {
   "cell_type": "code",
   "execution_count": 4,
   "metadata": {},
   "outputs": [
    {
     "data": {
      "text/html": [
       "<div>\n",
       "<style scoped>\n",
       "    .dataframe tbody tr th:only-of-type {\n",
       "        vertical-align: middle;\n",
       "    }\n",
       "\n",
       "    .dataframe tbody tr th {\n",
       "        vertical-align: top;\n",
       "    }\n",
       "\n",
       "    .dataframe thead th {\n",
       "        text-align: right;\n",
       "    }\n",
       "</style>\n",
       "<table border=\"1\" class=\"dataframe\">\n",
       "  <thead>\n",
       "    <tr style=\"text-align: right;\">\n",
       "      <th></th>\n",
       "      <th>ubigeo</th>\n",
       "      <th>dominio</th>\n",
       "      <th>conglome</th>\n",
       "      <th>vivienda</th>\n",
       "      <th>hogar</th>\n",
       "      <th>codperso</th>\n",
       "      <th>factor07</th>\n",
       "      <th>p203</th>\n",
       "      <th>p308a</th>\n",
       "      <th>p301b1</th>\n",
       "      <th>p304a</th>\n",
       "      <th>p301d</th>\n",
       "    </tr>\n",
       "  </thead>\n",
       "  <tbody>\n",
       "    <tr>\n",
       "      <th>1</th>\n",
       "      <td>010101</td>\n",
       "      <td>sierra norte</td>\n",
       "      <td>005001</td>\n",
       "      <td>002</td>\n",
       "      <td>11</td>\n",
       "      <td>02</td>\n",
       "      <td>76.290199</td>\n",
       "      <td>hijo/hija</td>\n",
       "      <td>NaN</td>\n",
       "      <td>NaN</td>\n",
       "      <td>NaN</td>\n",
       "      <td>estatal</td>\n",
       "    </tr>\n",
       "    <tr>\n",
       "      <th>2</th>\n",
       "      <td>010101</td>\n",
       "      <td>sierra norte</td>\n",
       "      <td>005001</td>\n",
       "      <td>002</td>\n",
       "      <td>11</td>\n",
       "      <td>03</td>\n",
       "      <td>76.290199</td>\n",
       "      <td>hijo/hija</td>\n",
       "      <td>NaN</td>\n",
       "      <td>NaN</td>\n",
       "      <td>NaN</td>\n",
       "      <td>estatal</td>\n",
       "    </tr>\n",
       "    <tr>\n",
       "      <th>5</th>\n",
       "      <td>010101</td>\n",
       "      <td>sierra norte</td>\n",
       "      <td>005001</td>\n",
       "      <td>023</td>\n",
       "      <td>11</td>\n",
       "      <td>03</td>\n",
       "      <td>76.290199</td>\n",
       "      <td>hijo/hija</td>\n",
       "      <td>secundaria</td>\n",
       "      <td>NaN</td>\n",
       "      <td>primaria</td>\n",
       "      <td>estatal</td>\n",
       "    </tr>\n",
       "    <tr>\n",
       "      <th>6</th>\n",
       "      <td>010101</td>\n",
       "      <td>sierra norte</td>\n",
       "      <td>005001</td>\n",
       "      <td>023</td>\n",
       "      <td>11</td>\n",
       "      <td>04</td>\n",
       "      <td>76.290199</td>\n",
       "      <td>hijo/hija</td>\n",
       "      <td>primaria</td>\n",
       "      <td>NaN</td>\n",
       "      <td>primaria</td>\n",
       "      <td>estatal</td>\n",
       "    </tr>\n",
       "    <tr>\n",
       "      <th>7</th>\n",
       "      <td>010101</td>\n",
       "      <td>sierra norte</td>\n",
       "      <td>005001</td>\n",
       "      <td>023</td>\n",
       "      <td>11</td>\n",
       "      <td>05</td>\n",
       "      <td>76.290199</td>\n",
       "      <td>hijo/hija</td>\n",
       "      <td>educacion inicial</td>\n",
       "      <td>NaN</td>\n",
       "      <td>educación inicial</td>\n",
       "      <td>estatal</td>\n",
       "    </tr>\n",
       "  </tbody>\n",
       "</table>\n",
       "</div>"
      ],
      "text/plain": [
       "   ubigeo       dominio conglome vivienda hogar codperso   factor07  \\\n",
       "1  010101  sierra norte   005001      002    11       02  76.290199   \n",
       "2  010101  sierra norte   005001      002    11       03  76.290199   \n",
       "5  010101  sierra norte   005001      023    11       03  76.290199   \n",
       "6  010101  sierra norte   005001      023    11       04  76.290199   \n",
       "7  010101  sierra norte   005001      023    11       05  76.290199   \n",
       "\n",
       "        p203              p308a  p301b1              p304a    p301d  \n",
       "1  hijo/hija                NaN     NaN                NaN  estatal  \n",
       "2  hijo/hija                NaN     NaN                NaN  estatal  \n",
       "5  hijo/hija         secundaria     NaN           primaria  estatal  \n",
       "6  hijo/hija           primaria     NaN           primaria  estatal  \n",
       "7  hijo/hija  educacion inicial     NaN  educación inicial  estatal  "
      ]
     },
     "execution_count": 4,
     "metadata": {},
     "output_type": "execute_result"
    }
   ],
   "source": [
    "data300o=pd.read_stata(\"https://www.dropbox.com/s/wl15uutlnnu0g0c/enaho01a-2017-300.dta?dl=1\")\n",
    "data300 = data300o[['ubigeo','dominio','conglome','vivienda','hogar','codperso','factor07','p203', 'p308a','p301b1', 'p304a', 'p301d']]\n",
    "data300 = data300[(data300['p203']=='hijo/hija')]\n",
    "data300.head()"
   ]
  },
  {
   "cell_type": "code",
   "execution_count": 5,
   "metadata": {},
   "outputs": [
    {
     "data": {
      "text/plain": [
       "[NaN, superior universitaria, superior no universitaria]\n",
       "Categories (2, object): [superior no universitaria < superior universitaria]"
      ]
     },
     "execution_count": 5,
     "metadata": {},
     "output_type": "execute_result"
    }
   ],
   "source": [
    "data300['centro_pub_priv']=data300[(data300['p301d']=='estatal') | (data300['p301d']=='no estatal')]['p301d']\n",
    "data300['niv_superior_hijo']=data300[(data300['p308a']=='superior universitaria') | (data300['p308a']=='superior no universitaria')]['p308a']\n",
    "data300['niv_superior_hijo'].unique()"
   ]
  },
  {
   "cell_type": "code",
   "execution_count": 6,
   "metadata": {},
   "outputs": [
    {
     "data": {
      "text/html": [
       "<div>\n",
       "<style scoped>\n",
       "    .dataframe tbody tr th:only-of-type {\n",
       "        vertical-align: middle;\n",
       "    }\n",
       "\n",
       "    .dataframe tbody tr th {\n",
       "        vertical-align: top;\n",
       "    }\n",
       "\n",
       "    .dataframe thead th {\n",
       "        text-align: right;\n",
       "    }\n",
       "</style>\n",
       "<table border=\"1\" class=\"dataframe\">\n",
       "  <thead>\n",
       "    <tr style=\"text-align: right;\">\n",
       "      <th></th>\n",
       "      <th>ubigeo</th>\n",
       "      <th>dominio</th>\n",
       "      <th>conglome</th>\n",
       "      <th>vivienda</th>\n",
       "      <th>hogar</th>\n",
       "      <th>codperso</th>\n",
       "      <th>factor07</th>\n",
       "      <th>nivel_educat_hijo</th>\n",
       "      <th>cod_centro</th>\n",
       "      <th>centro_pub_priv</th>\n",
       "      <th>niv_superior_hijo</th>\n",
       "    </tr>\n",
       "  </thead>\n",
       "  <tbody>\n",
       "    <tr>\n",
       "      <th>1</th>\n",
       "      <td>010101</td>\n",
       "      <td>sierra norte</td>\n",
       "      <td>005001</td>\n",
       "      <td>002</td>\n",
       "      <td>11</td>\n",
       "      <td>02</td>\n",
       "      <td>76.290199</td>\n",
       "      <td>NaN</td>\n",
       "      <td>NaN</td>\n",
       "      <td>estatal</td>\n",
       "      <td>NaN</td>\n",
       "    </tr>\n",
       "    <tr>\n",
       "      <th>2</th>\n",
       "      <td>010101</td>\n",
       "      <td>sierra norte</td>\n",
       "      <td>005001</td>\n",
       "      <td>002</td>\n",
       "      <td>11</td>\n",
       "      <td>03</td>\n",
       "      <td>76.290199</td>\n",
       "      <td>NaN</td>\n",
       "      <td>NaN</td>\n",
       "      <td>estatal</td>\n",
       "      <td>NaN</td>\n",
       "    </tr>\n",
       "    <tr>\n",
       "      <th>5</th>\n",
       "      <td>010101</td>\n",
       "      <td>sierra norte</td>\n",
       "      <td>005001</td>\n",
       "      <td>023</td>\n",
       "      <td>11</td>\n",
       "      <td>03</td>\n",
       "      <td>76.290199</td>\n",
       "      <td>secundaria</td>\n",
       "      <td>NaN</td>\n",
       "      <td>estatal</td>\n",
       "      <td>NaN</td>\n",
       "    </tr>\n",
       "    <tr>\n",
       "      <th>6</th>\n",
       "      <td>010101</td>\n",
       "      <td>sierra norte</td>\n",
       "      <td>005001</td>\n",
       "      <td>023</td>\n",
       "      <td>11</td>\n",
       "      <td>04</td>\n",
       "      <td>76.290199</td>\n",
       "      <td>primaria</td>\n",
       "      <td>NaN</td>\n",
       "      <td>estatal</td>\n",
       "      <td>NaN</td>\n",
       "    </tr>\n",
       "    <tr>\n",
       "      <th>7</th>\n",
       "      <td>010101</td>\n",
       "      <td>sierra norte</td>\n",
       "      <td>005001</td>\n",
       "      <td>023</td>\n",
       "      <td>11</td>\n",
       "      <td>05</td>\n",
       "      <td>76.290199</td>\n",
       "      <td>educacion inicial</td>\n",
       "      <td>NaN</td>\n",
       "      <td>estatal</td>\n",
       "      <td>NaN</td>\n",
       "    </tr>\n",
       "  </tbody>\n",
       "</table>\n",
       "</div>"
      ],
      "text/plain": [
       "   ubigeo       dominio conglome vivienda hogar codperso   factor07  \\\n",
       "1  010101  sierra norte   005001      002    11       02  76.290199   \n",
       "2  010101  sierra norte   005001      002    11       03  76.290199   \n",
       "5  010101  sierra norte   005001      023    11       03  76.290199   \n",
       "6  010101  sierra norte   005001      023    11       04  76.290199   \n",
       "7  010101  sierra norte   005001      023    11       05  76.290199   \n",
       "\n",
       "   nivel_educat_hijo  cod_centro centro_pub_priv niv_superior_hijo  \n",
       "1                NaN         NaN         estatal               NaN  \n",
       "2                NaN         NaN         estatal               NaN  \n",
       "5         secundaria         NaN         estatal               NaN  \n",
       "6           primaria         NaN         estatal               NaN  \n",
       "7  educacion inicial         NaN         estatal               NaN  "
      ]
     },
     "execution_count": 6,
     "metadata": {},
     "output_type": "execute_result"
    }
   ],
   "source": [
    "data300.rename(columns={'p308a':'nivel_educat_hijo', 'p301b1':'cod_centro'}, inplace=True)\n",
    "data300 = data300.drop(columns=['p203','p301d','p304a'])\n",
    "data300.head()"
   ]
  },
  {
   "cell_type": "markdown",
   "metadata": {},
   "source": [
    "#### Data 300jh: nivel educativo del jefe del hogar\n",
    "##### En esta sección, identificamos el nivel educativo alcanzado del jefe o jefa del hogar. Dado que es una variable frecuente y que queremos cruzar con el nivel educativo del hijo/hija, se procede a realizar un merge por hogar.\n"
   ]
  },
  {
   "cell_type": "code",
   "execution_count": 7,
   "metadata": {},
   "outputs": [],
   "source": [
    "data300jh = data300o[['ubigeo','dominio','conglome','vivienda','hogar','codperso','factor07','p203','p301a']]\n",
    "data300jh = data300jh[(data300jh['p203']=='jefe/jefa')]\n",
    "data300jh = data300jh.drop(columns=['p203'])"
   ]
  },
  {
   "cell_type": "code",
   "execution_count": 8,
   "metadata": {},
   "outputs": [
    {
     "data": {
      "text/html": [
       "<div>\n",
       "<style scoped>\n",
       "    .dataframe tbody tr th:only-of-type {\n",
       "        vertical-align: middle;\n",
       "    }\n",
       "\n",
       "    .dataframe tbody tr th {\n",
       "        vertical-align: top;\n",
       "    }\n",
       "\n",
       "    .dataframe thead th {\n",
       "        text-align: right;\n",
       "    }\n",
       "</style>\n",
       "<table border=\"1\" class=\"dataframe\">\n",
       "  <thead>\n",
       "    <tr style=\"text-align: right;\">\n",
       "      <th></th>\n",
       "      <th>conglome</th>\n",
       "      <th>vivienda</th>\n",
       "      <th>hogar</th>\n",
       "      <th>nivel_educat_jh</th>\n",
       "      <th>cnivel_educat_jh</th>\n",
       "    </tr>\n",
       "  </thead>\n",
       "  <tbody>\n",
       "    <tr>\n",
       "      <th>0</th>\n",
       "      <td>005001</td>\n",
       "      <td>002</td>\n",
       "      <td>11</td>\n",
       "      <td>primaria completa</td>\n",
       "      <td>1.0</td>\n",
       "    </tr>\n",
       "    <tr>\n",
       "      <th>3</th>\n",
       "      <td>005001</td>\n",
       "      <td>023</td>\n",
       "      <td>11</td>\n",
       "      <td>secundaria incompleta</td>\n",
       "      <td>1.0</td>\n",
       "    </tr>\n",
       "    <tr>\n",
       "      <th>8</th>\n",
       "      <td>005001</td>\n",
       "      <td>035</td>\n",
       "      <td>11</td>\n",
       "      <td>sin nivel</td>\n",
       "      <td>1.0</td>\n",
       "    </tr>\n",
       "    <tr>\n",
       "      <th>10</th>\n",
       "      <td>005001</td>\n",
       "      <td>046</td>\n",
       "      <td>11</td>\n",
       "      <td>primaria incompleta</td>\n",
       "      <td>1.0</td>\n",
       "    </tr>\n",
       "    <tr>\n",
       "      <th>13</th>\n",
       "      <td>005001</td>\n",
       "      <td>067</td>\n",
       "      <td>11</td>\n",
       "      <td>primaria incompleta</td>\n",
       "      <td>1.0</td>\n",
       "    </tr>\n",
       "  </tbody>\n",
       "</table>\n",
       "</div>"
      ],
      "text/plain": [
       "   conglome vivienda hogar        nivel_educat_jh  cnivel_educat_jh\n",
       "0    005001      002    11      primaria completa               1.0\n",
       "3    005001      023    11  secundaria incompleta               1.0\n",
       "8    005001      035    11              sin nivel               1.0\n",
       "10   005001      046    11    primaria incompleta               1.0\n",
       "13   005001      067    11    primaria incompleta               1.0"
      ]
     },
     "execution_count": 8,
     "metadata": {},
     "output_type": "execute_result"
    }
   ],
   "source": [
    "#nivel educativo del padre\n",
    "data300jh['cnivel_educat_jh']=data300jh['p301a']\n",
    "nivel_educat={'cnivel_educat_jh':{'sin nivel':1,'educación inicial':1,'primaria incompleta':1,'primaria completa':1,'secundaria incompleta':1,'secundaria completa':1,'superior no universitaria incompleta':2,'superior no universitaria completa':2,'superior universitaria incompleta':3,'superior universitaria completa':3,'postgrado universitario':3}}\n",
    "data300jh.replace(nivel_educat,inplace=True)\n",
    "data300jh.rename(columns={'p301a':'nivel_educat_jh'}, inplace=True)\n",
    "data300jh = data300jh[['conglome','vivienda','hogar','nivel_educat_jh','cnivel_educat_jh']]\n",
    "data300jh.head()"
   ]
  },
  {
   "cell_type": "code",
   "execution_count": 9,
   "metadata": {},
   "outputs": [
    {
     "data": {
      "text/html": [
       "<div>\n",
       "<style scoped>\n",
       "    .dataframe tbody tr th:only-of-type {\n",
       "        vertical-align: middle;\n",
       "    }\n",
       "\n",
       "    .dataframe tbody tr th {\n",
       "        vertical-align: top;\n",
       "    }\n",
       "\n",
       "    .dataframe thead th {\n",
       "        text-align: right;\n",
       "    }\n",
       "</style>\n",
       "<table border=\"1\" class=\"dataframe\">\n",
       "  <thead>\n",
       "    <tr style=\"text-align: right;\">\n",
       "      <th></th>\n",
       "      <th>conglome</th>\n",
       "      <th>vivienda</th>\n",
       "      <th>hogar</th>\n",
       "      <th>codperso</th>\n",
       "      <th>factor07</th>\n",
       "      <th>nivel_educat_hijo</th>\n",
       "      <th>cod_centro</th>\n",
       "      <th>centro_pub_priv</th>\n",
       "      <th>niv_superior_hijo</th>\n",
       "      <th>nivel_educat_jh</th>\n",
       "      <th>cnivel_educat_jh</th>\n",
       "    </tr>\n",
       "  </thead>\n",
       "  <tbody>\n",
       "    <tr>\n",
       "      <th>0</th>\n",
       "      <td>005001</td>\n",
       "      <td>002</td>\n",
       "      <td>11</td>\n",
       "      <td>02</td>\n",
       "      <td>76.290199</td>\n",
       "      <td>NaN</td>\n",
       "      <td>NaN</td>\n",
       "      <td>estatal</td>\n",
       "      <td>NaN</td>\n",
       "      <td>primaria completa</td>\n",
       "      <td>1.0</td>\n",
       "    </tr>\n",
       "    <tr>\n",
       "      <th>0</th>\n",
       "      <td>005001</td>\n",
       "      <td>002</td>\n",
       "      <td>11</td>\n",
       "      <td>03</td>\n",
       "      <td>76.290199</td>\n",
       "      <td>NaN</td>\n",
       "      <td>NaN</td>\n",
       "      <td>estatal</td>\n",
       "      <td>NaN</td>\n",
       "      <td>primaria completa</td>\n",
       "      <td>1.0</td>\n",
       "    </tr>\n",
       "    <tr>\n",
       "      <th>3</th>\n",
       "      <td>005001</td>\n",
       "      <td>023</td>\n",
       "      <td>11</td>\n",
       "      <td>03</td>\n",
       "      <td>76.290199</td>\n",
       "      <td>secundaria</td>\n",
       "      <td>NaN</td>\n",
       "      <td>estatal</td>\n",
       "      <td>NaN</td>\n",
       "      <td>secundaria incompleta</td>\n",
       "      <td>1.0</td>\n",
       "    </tr>\n",
       "    <tr>\n",
       "      <th>3</th>\n",
       "      <td>005001</td>\n",
       "      <td>023</td>\n",
       "      <td>11</td>\n",
       "      <td>04</td>\n",
       "      <td>76.290199</td>\n",
       "      <td>primaria</td>\n",
       "      <td>NaN</td>\n",
       "      <td>estatal</td>\n",
       "      <td>NaN</td>\n",
       "      <td>secundaria incompleta</td>\n",
       "      <td>1.0</td>\n",
       "    </tr>\n",
       "    <tr>\n",
       "      <th>3</th>\n",
       "      <td>005001</td>\n",
       "      <td>023</td>\n",
       "      <td>11</td>\n",
       "      <td>05</td>\n",
       "      <td>76.290199</td>\n",
       "      <td>educacion inicial</td>\n",
       "      <td>NaN</td>\n",
       "      <td>estatal</td>\n",
       "      <td>NaN</td>\n",
       "      <td>secundaria incompleta</td>\n",
       "      <td>1.0</td>\n",
       "    </tr>\n",
       "  </tbody>\n",
       "</table>\n",
       "</div>"
      ],
      "text/plain": [
       "  conglome vivienda hogar codperso   factor07  nivel_educat_hijo  cod_centro  \\\n",
       "0   005001      002    11       02  76.290199                NaN         NaN   \n",
       "0   005001      002    11       03  76.290199                NaN         NaN   \n",
       "3   005001      023    11       03  76.290199         secundaria         NaN   \n",
       "3   005001      023    11       04  76.290199           primaria         NaN   \n",
       "3   005001      023    11       05  76.290199  educacion inicial         NaN   \n",
       "\n",
       "  centro_pub_priv niv_superior_hijo        nivel_educat_jh  cnivel_educat_jh  \n",
       "0         estatal               NaN      primaria completa               1.0  \n",
       "0         estatal               NaN      primaria completa               1.0  \n",
       "3         estatal               NaN  secundaria incompleta               1.0  \n",
       "3         estatal               NaN  secundaria incompleta               1.0  \n",
       "3         estatal               NaN  secundaria incompleta               1.0  "
      ]
     },
     "execution_count": 9,
     "metadata": {},
     "output_type": "execute_result"
    }
   ],
   "source": [
    "data_300_300jh=pd.merge(data300,data300jh, how='outer',on=['conglome','vivienda','hogar'],indicator=True,left_index=True)\n",
    "data_300_300jh = data_300_300jh[(data_300_300jh['_merge']=='both')]\n",
    "data_300_300jh = data_300_300jh.drop(columns=['_merge','ubigeo','dominio'])\n",
    "data_300_300jh.head()"
   ]
  },
  {
   "cell_type": "markdown",
   "metadata": {},
   "source": [
    "### 3. Unión de las tres bases de interés de los módulos 200 con 300 y Sumaria"
   ]
  },
  {
   "cell_type": "code",
   "execution_count": 10,
   "metadata": {},
   "outputs": [
    {
     "data": {
      "text/html": [
       "<div>\n",
       "<style scoped>\n",
       "    .dataframe tbody tr th:only-of-type {\n",
       "        vertical-align: middle;\n",
       "    }\n",
       "\n",
       "    .dataframe tbody tr th {\n",
       "        vertical-align: top;\n",
       "    }\n",
       "\n",
       "    .dataframe thead th {\n",
       "        text-align: right;\n",
       "    }\n",
       "</style>\n",
       "<table border=\"1\" class=\"dataframe\">\n",
       "  <thead>\n",
       "    <tr style=\"text-align: right;\">\n",
       "      <th></th>\n",
       "      <th>conglome</th>\n",
       "      <th>vivienda</th>\n",
       "      <th>hogar</th>\n",
       "      <th>codperso</th>\n",
       "      <th>factor07</th>\n",
       "      <th>nivel_educat_hijo</th>\n",
       "      <th>cod_centro</th>\n",
       "      <th>centro_pub_priv</th>\n",
       "      <th>niv_superior_hijo</th>\n",
       "      <th>nivel_educat_jh</th>\n",
       "      <th>cnivel_educat_jh</th>\n",
       "      <th>ubigeo</th>\n",
       "      <th>dominio</th>\n",
       "      <th>facpob07</th>\n",
       "      <th>mieho</th>\n",
       "      <th>sexo</th>\n",
       "      <th>edad</th>\n",
       "      <th>nacio_dist</th>\n",
       "      <th>lugar_nac</th>\n",
       "      <th>est_civil</th>\n",
       "    </tr>\n",
       "  </thead>\n",
       "  <tbody>\n",
       "    <tr>\n",
       "      <th>17</th>\n",
       "      <td>005001</td>\n",
       "      <td>088</td>\n",
       "      <td>11</td>\n",
       "      <td>03</td>\n",
       "      <td>76.290199</td>\n",
       "      <td>secundaria</td>\n",
       "      <td>NaN</td>\n",
       "      <td>estatal</td>\n",
       "      <td>NaN</td>\n",
       "      <td>primaria incompleta</td>\n",
       "      <td>1.0</td>\n",
       "      <td>010101</td>\n",
       "      <td>sierra norte</td>\n",
       "      <td>76.290199</td>\n",
       "      <td>si</td>\n",
       "      <td>hombre</td>\n",
       "      <td>18.0</td>\n",
       "      <td>nació en este distrito</td>\n",
       "      <td>010101</td>\n",
       "      <td>soltero(a)</td>\n",
       "    </tr>\n",
       "    <tr>\n",
       "      <th>18</th>\n",
       "      <td>005001</td>\n",
       "      <td>088</td>\n",
       "      <td>11</td>\n",
       "      <td>04</td>\n",
       "      <td>76.290199</td>\n",
       "      <td>NaN</td>\n",
       "      <td>160000076.0</td>\n",
       "      <td>estatal</td>\n",
       "      <td>NaN</td>\n",
       "      <td>primaria incompleta</td>\n",
       "      <td>1.0</td>\n",
       "      <td>010101</td>\n",
       "      <td>sierra norte</td>\n",
       "      <td>76.290199</td>\n",
       "      <td>si</td>\n",
       "      <td>mujer</td>\n",
       "      <td>30.0</td>\n",
       "      <td>nació en este distrito</td>\n",
       "      <td>010101</td>\n",
       "      <td>separado(a)</td>\n",
       "    </tr>\n",
       "    <tr>\n",
       "      <th>28</th>\n",
       "      <td>005002</td>\n",
       "      <td>034</td>\n",
       "      <td>11</td>\n",
       "      <td>02</td>\n",
       "      <td>75.795334</td>\n",
       "      <td>superior universitaria</td>\n",
       "      <td>160000076.0</td>\n",
       "      <td>estatal</td>\n",
       "      <td>superior universitaria</td>\n",
       "      <td>secundaria completa</td>\n",
       "      <td>1.0</td>\n",
       "      <td>010101</td>\n",
       "      <td>sierra norte</td>\n",
       "      <td>75.795334</td>\n",
       "      <td>si</td>\n",
       "      <td>mujer</td>\n",
       "      <td>21.0</td>\n",
       "      <td>nació en este distrito</td>\n",
       "      <td>010101</td>\n",
       "      <td>soltero(a)</td>\n",
       "    </tr>\n",
       "    <tr>\n",
       "      <th>29</th>\n",
       "      <td>005002</td>\n",
       "      <td>034</td>\n",
       "      <td>11</td>\n",
       "      <td>03</td>\n",
       "      <td>75.795334</td>\n",
       "      <td>superior universitaria</td>\n",
       "      <td>160000076.0</td>\n",
       "      <td>estatal</td>\n",
       "      <td>superior universitaria</td>\n",
       "      <td>secundaria completa</td>\n",
       "      <td>1.0</td>\n",
       "      <td>010101</td>\n",
       "      <td>sierra norte</td>\n",
       "      <td>75.795334</td>\n",
       "      <td>si</td>\n",
       "      <td>mujer</td>\n",
       "      <td>20.0</td>\n",
       "      <td>nació en este distrito</td>\n",
       "      <td>010101</td>\n",
       "      <td>soltero(a)</td>\n",
       "    </tr>\n",
       "    <tr>\n",
       "      <th>30</th>\n",
       "      <td>005002</td>\n",
       "      <td>034</td>\n",
       "      <td>11</td>\n",
       "      <td>04</td>\n",
       "      <td>75.795334</td>\n",
       "      <td>superior universitaria</td>\n",
       "      <td>160000076.0</td>\n",
       "      <td>estatal</td>\n",
       "      <td>superior universitaria</td>\n",
       "      <td>secundaria completa</td>\n",
       "      <td>1.0</td>\n",
       "      <td>010101</td>\n",
       "      <td>sierra norte</td>\n",
       "      <td>75.795334</td>\n",
       "      <td>si</td>\n",
       "      <td>mujer</td>\n",
       "      <td>18.0</td>\n",
       "      <td>nació en este distrito</td>\n",
       "      <td>010101</td>\n",
       "      <td>soltero(a)</td>\n",
       "    </tr>\n",
       "  </tbody>\n",
       "</table>\n",
       "</div>"
      ],
      "text/plain": [
       "   conglome vivienda hogar codperso   factor07       nivel_educat_hijo  \\\n",
       "17   005001      088    11       03  76.290199              secundaria   \n",
       "18   005001      088    11       04  76.290199                     NaN   \n",
       "28   005002      034    11       02  75.795334  superior universitaria   \n",
       "29   005002      034    11       03  75.795334  superior universitaria   \n",
       "30   005002      034    11       04  75.795334  superior universitaria   \n",
       "\n",
       "     cod_centro centro_pub_priv       niv_superior_hijo      nivel_educat_jh  \\\n",
       "17          NaN         estatal                     NaN  primaria incompleta   \n",
       "18  160000076.0         estatal                     NaN  primaria incompleta   \n",
       "28  160000076.0         estatal  superior universitaria  secundaria completa   \n",
       "29  160000076.0         estatal  superior universitaria  secundaria completa   \n",
       "30  160000076.0         estatal  superior universitaria  secundaria completa   \n",
       "\n",
       "    cnivel_educat_jh  ubigeo       dominio   facpob07 mieho    sexo  edad  \\\n",
       "17               1.0  010101  sierra norte  76.290199    si  hombre  18.0   \n",
       "18               1.0  010101  sierra norte  76.290199    si   mujer  30.0   \n",
       "28               1.0  010101  sierra norte  75.795334    si   mujer  21.0   \n",
       "29               1.0  010101  sierra norte  75.795334    si   mujer  20.0   \n",
       "30               1.0  010101  sierra norte  75.795334    si   mujer  18.0   \n",
       "\n",
       "                nacio_dist lugar_nac    est_civil  \n",
       "17  nació en este distrito    010101   soltero(a)  \n",
       "18  nació en este distrito    010101  separado(a)  \n",
       "28  nació en este distrito    010101   soltero(a)  \n",
       "29  nació en este distrito    010101   soltero(a)  \n",
       "30  nació en este distrito    010101   soltero(a)  "
      ]
     },
     "execution_count": 10,
     "metadata": {},
     "output_type": "execute_result"
    }
   ],
   "source": [
    "data_200_300=pd.merge(data_300_300jh,data200, how='outer',on=['conglome','vivienda','hogar','codperso'],indicator=True,left_index=True)\n",
    "data_200_300 = data_200_300[(data_200_300['_merge']=='both')]\n",
    "data_200_300 = data_200_300.drop(columns=['_merge'])\n",
    "data_200_300.head()"
   ]
  },
  {
   "cell_type": "markdown",
   "metadata": {},
   "source": [
    "#### Se une bases modulo 200 - 300 con Sumaria (ingresos del hogar)"
   ]
  },
  {
   "cell_type": "code",
   "execution_count": 11,
   "metadata": {},
   "outputs": [],
   "source": [
    "sumariao=pd.read_stata(\"https://www.dropbox.com/s/j5aclz6k7fi454z/sumaria-2017.dta?dl=1\")\n",
    "sumaria=sumariao[['conglome','vivienda','hogar','factor07','gashog2d','linea','mieperho','pobreza', 'estrsocial']]\n"
   ]
  },
  {
   "cell_type": "code",
   "execution_count": 12,
   "metadata": {},
   "outputs": [
    {
     "data": {
      "text/html": [
       "<div>\n",
       "<style scoped>\n",
       "    .dataframe tbody tr th:only-of-type {\n",
       "        vertical-align: middle;\n",
       "    }\n",
       "\n",
       "    .dataframe tbody tr th {\n",
       "        vertical-align: top;\n",
       "    }\n",
       "\n",
       "    .dataframe thead th {\n",
       "        text-align: right;\n",
       "    }\n",
       "</style>\n",
       "<table border=\"1\" class=\"dataframe\">\n",
       "  <thead>\n",
       "    <tr style=\"text-align: right;\">\n",
       "      <th></th>\n",
       "      <th>conglome</th>\n",
       "      <th>vivienda</th>\n",
       "      <th>hogar</th>\n",
       "      <th>codperso</th>\n",
       "      <th>nivel_educat_hijo</th>\n",
       "      <th>cod_centro</th>\n",
       "      <th>centro_pub_priv</th>\n",
       "      <th>niv_superior_hijo</th>\n",
       "      <th>nivel_educat_jh</th>\n",
       "      <th>cnivel_educat_jh</th>\n",
       "      <th>...</th>\n",
       "      <th>dominio</th>\n",
       "      <th>facpob07</th>\n",
       "      <th>mieho</th>\n",
       "      <th>sexo</th>\n",
       "      <th>edad</th>\n",
       "      <th>nacio_dist</th>\n",
       "      <th>gashog2d</th>\n",
       "      <th>mieperho</th>\n",
       "      <th>pobreza</th>\n",
       "      <th>estrsocial</th>\n",
       "    </tr>\n",
       "  </thead>\n",
       "  <tbody>\n",
       "    <tr>\n",
       "      <th>5</th>\n",
       "      <td>005001</td>\n",
       "      <td>088</td>\n",
       "      <td>11</td>\n",
       "      <td>03</td>\n",
       "      <td>secundaria</td>\n",
       "      <td>NaN</td>\n",
       "      <td>estatal</td>\n",
       "      <td>NaN</td>\n",
       "      <td>primaria incompleta</td>\n",
       "      <td>1.0</td>\n",
       "      <td>...</td>\n",
       "      <td>sierra norte</td>\n",
       "      <td>76.290199</td>\n",
       "      <td>si</td>\n",
       "      <td>hombre</td>\n",
       "      <td>18.0</td>\n",
       "      <td>nació en este distrito</td>\n",
       "      <td>29938.256674</td>\n",
       "      <td>6</td>\n",
       "      <td>no pobre</td>\n",
       "      <td>e</td>\n",
       "    </tr>\n",
       "    <tr>\n",
       "      <th>5</th>\n",
       "      <td>005001</td>\n",
       "      <td>088</td>\n",
       "      <td>11</td>\n",
       "      <td>04</td>\n",
       "      <td>NaN</td>\n",
       "      <td>160000076.0</td>\n",
       "      <td>estatal</td>\n",
       "      <td>NaN</td>\n",
       "      <td>primaria incompleta</td>\n",
       "      <td>1.0</td>\n",
       "      <td>...</td>\n",
       "      <td>sierra norte</td>\n",
       "      <td>76.290199</td>\n",
       "      <td>si</td>\n",
       "      <td>mujer</td>\n",
       "      <td>30.0</td>\n",
       "      <td>nació en este distrito</td>\n",
       "      <td>29938.256674</td>\n",
       "      <td>6</td>\n",
       "      <td>no pobre</td>\n",
       "      <td>e</td>\n",
       "    </tr>\n",
       "    <tr>\n",
       "      <th>7</th>\n",
       "      <td>005002</td>\n",
       "      <td>034</td>\n",
       "      <td>11</td>\n",
       "      <td>02</td>\n",
       "      <td>superior universitaria</td>\n",
       "      <td>160000076.0</td>\n",
       "      <td>estatal</td>\n",
       "      <td>superior universitaria</td>\n",
       "      <td>secundaria completa</td>\n",
       "      <td>1.0</td>\n",
       "      <td>...</td>\n",
       "      <td>sierra norte</td>\n",
       "      <td>75.795334</td>\n",
       "      <td>si</td>\n",
       "      <td>mujer</td>\n",
       "      <td>21.0</td>\n",
       "      <td>nació en este distrito</td>\n",
       "      <td>28569.724534</td>\n",
       "      <td>4</td>\n",
       "      <td>no pobre</td>\n",
       "      <td>d</td>\n",
       "    </tr>\n",
       "    <tr>\n",
       "      <th>7</th>\n",
       "      <td>005002</td>\n",
       "      <td>034</td>\n",
       "      <td>11</td>\n",
       "      <td>03</td>\n",
       "      <td>superior universitaria</td>\n",
       "      <td>160000076.0</td>\n",
       "      <td>estatal</td>\n",
       "      <td>superior universitaria</td>\n",
       "      <td>secundaria completa</td>\n",
       "      <td>1.0</td>\n",
       "      <td>...</td>\n",
       "      <td>sierra norte</td>\n",
       "      <td>75.795334</td>\n",
       "      <td>si</td>\n",
       "      <td>mujer</td>\n",
       "      <td>20.0</td>\n",
       "      <td>nació en este distrito</td>\n",
       "      <td>28569.724534</td>\n",
       "      <td>4</td>\n",
       "      <td>no pobre</td>\n",
       "      <td>d</td>\n",
       "    </tr>\n",
       "    <tr>\n",
       "      <th>7</th>\n",
       "      <td>005002</td>\n",
       "      <td>034</td>\n",
       "      <td>11</td>\n",
       "      <td>04</td>\n",
       "      <td>superior universitaria</td>\n",
       "      <td>160000076.0</td>\n",
       "      <td>estatal</td>\n",
       "      <td>superior universitaria</td>\n",
       "      <td>secundaria completa</td>\n",
       "      <td>1.0</td>\n",
       "      <td>...</td>\n",
       "      <td>sierra norte</td>\n",
       "      <td>75.795334</td>\n",
       "      <td>si</td>\n",
       "      <td>mujer</td>\n",
       "      <td>18.0</td>\n",
       "      <td>nació en este distrito</td>\n",
       "      <td>28569.724534</td>\n",
       "      <td>4</td>\n",
       "      <td>no pobre</td>\n",
       "      <td>d</td>\n",
       "    </tr>\n",
       "  </tbody>\n",
       "</table>\n",
       "<p>5 rows × 21 columns</p>\n",
       "</div>"
      ],
      "text/plain": [
       "  conglome vivienda hogar codperso       nivel_educat_hijo   cod_centro  \\\n",
       "5   005001      088    11       03              secundaria          NaN   \n",
       "5   005001      088    11       04                     NaN  160000076.0   \n",
       "7   005002      034    11       02  superior universitaria  160000076.0   \n",
       "7   005002      034    11       03  superior universitaria  160000076.0   \n",
       "7   005002      034    11       04  superior universitaria  160000076.0   \n",
       "\n",
       "  centro_pub_priv       niv_superior_hijo      nivel_educat_jh  \\\n",
       "5         estatal                     NaN  primaria incompleta   \n",
       "5         estatal                     NaN  primaria incompleta   \n",
       "7         estatal  superior universitaria  secundaria completa   \n",
       "7         estatal  superior universitaria  secundaria completa   \n",
       "7         estatal  superior universitaria  secundaria completa   \n",
       "\n",
       "   cnivel_educat_jh    ...           dominio   facpob07  mieho    sexo  edad  \\\n",
       "5               1.0    ...      sierra norte  76.290199     si  hombre  18.0   \n",
       "5               1.0    ...      sierra norte  76.290199     si   mujer  30.0   \n",
       "7               1.0    ...      sierra norte  75.795334     si   mujer  21.0   \n",
       "7               1.0    ...      sierra norte  75.795334     si   mujer  20.0   \n",
       "7               1.0    ...      sierra norte  75.795334     si   mujer  18.0   \n",
       "\n",
       "               nacio_dist      gashog2d  mieperho   pobreza estrsocial  \n",
       "5  nació en este distrito  29938.256674         6  no pobre          e  \n",
       "5  nació en este distrito  29938.256674         6  no pobre          e  \n",
       "7  nació en este distrito  28569.724534         4  no pobre          d  \n",
       "7  nació en este distrito  28569.724534         4  no pobre          d  \n",
       "7  nació en este distrito  28569.724534         4  no pobre          d  \n",
       "\n",
       "[5 rows x 21 columns]"
      ]
     },
     "execution_count": 12,
     "metadata": {},
     "output_type": "execute_result"
    }
   ],
   "source": [
    "data_200_300_sum=pd.merge(data_200_300,sumaria, how='outer',on=['conglome','vivienda','hogar'],indicator=True,left_index=True)\n",
    "data_200_300_sum = data_200_300_sum[(data_200_300_sum['_merge']=='both')]\n",
    "data_200_300_sum = data_200_300_sum.drop(columns=['_merge'])\n",
    "data_200_300_sum=data_200_300_sum.drop(columns=['factor07_y','factor07_x','lugar_nac','linea','est_civil'])\n",
    "data_200_300_sum.head()"
   ]
  },
  {
   "cell_type": "code",
   "execution_count": 13,
   "metadata": {},
   "outputs": [],
   "source": [
    "data_200_300_sum.to_excel('data_enaho2017.xlsx', sheet_name='sheet1', index=False)"
   ]
  },
  {
   "cell_type": "markdown",
   "metadata": {},
   "source": [
    "### 4. Se crea una base de los datos 2017 de los estudiantes con la data shape de los límites departamentales del Perú"
   ]
  },
  {
   "cell_type": "code",
   "execution_count": 14,
   "metadata": {},
   "outputs": [],
   "source": [
    "import numpy as np\n",
    "import pandas as pd\n",
    "import os\n",
    "\n",
    "data2017=pd.read_excel(\"https://www.dropbox.com/s/mmk5gp8xf9loin2/data_enaho2017.xlsx?dl=1\", sheet_name='sheet1', index=False)\n"
   ]
  },
  {
   "cell_type": "code",
   "execution_count": 15,
   "metadata": {},
   "outputs": [],
   "source": [
    "data2017['ubigeo']=data2017['ubigeo'].apply(str)\n",
    "data2017['ubigeo_dpto']=np.where((data2017['ubigeo'].apply(len))==5,data2017['ubigeo'].str[0:1],data2017['ubigeo'].str[0:2])\n",
    "data2017['ubigeo_dpto2']=data2017['ubigeo_dpto']"
   ]
  },
  {
   "cell_type": "code",
   "execution_count": 16,
   "metadata": {},
   "outputs": [],
   "source": [
    "Yeap={\"ubigeo_dpto2\":{\"1\":\"AMAZONAS\",\"2\":\"ANCASH\",\"3\":\"APURIMAC\",\"4\":\"AREQUIPA\",\"5\":\"AYACUCHO\",\"6\":\"CAJAMARCA\",\"7\":\"CALLAO\",\n",
    "                     \"8\":\"CUSCO\",\"9\":\"HUANCAVELICA\",\"10\":\"HUANUCO\",\"11\":\"ICA\",\"12\":\"JUNIN\",\"13\":\"LA LIBERTAD\",\"14\":\"LAMBAYEQUE\",\n",
    "                      \"15\":\"LIMA\",\"16\":\"LORETO\",\"17\":\"MADRE DE DIOS\",\"18\":\"MOQUEGUA\",\"19\":\"PASCO\",\"20\":\"PIURA\",\"21\":\"PUNO\",\n",
    "                     \"22\":\"SAN MARTIN\",\"23\":\"TACNA\",\"24\":\"TUMBES\", \"25\":\"UCAYALI\"}}\n",
    "data2017.replace(Yeap,inplace=True)"
   ]
  },
  {
   "cell_type": "code",
   "execution_count": 17,
   "metadata": {},
   "outputs": [
    {
     "data": {
      "text/html": [
       "<div>\n",
       "<style scoped>\n",
       "    .dataframe tbody tr th:only-of-type {\n",
       "        vertical-align: middle;\n",
       "    }\n",
       "\n",
       "    .dataframe tbody tr th {\n",
       "        vertical-align: top;\n",
       "    }\n",
       "\n",
       "    .dataframe thead th {\n",
       "        text-align: right;\n",
       "    }\n",
       "</style>\n",
       "<table border=\"1\" class=\"dataframe\">\n",
       "  <thead>\n",
       "    <tr style=\"text-align: right;\">\n",
       "      <th>niv_superior_hijo</th>\n",
       "      <th>NOMBDEP</th>\n",
       "      <th>superior no universitaria</th>\n",
       "      <th>superior universitaria</th>\n",
       "    </tr>\n",
       "  </thead>\n",
       "  <tbody>\n",
       "    <tr>\n",
       "      <th>0</th>\n",
       "      <td>AMAZONAS</td>\n",
       "      <td>39</td>\n",
       "      <td>125</td>\n",
       "    </tr>\n",
       "    <tr>\n",
       "      <th>1</th>\n",
       "      <td>ANCASH</td>\n",
       "      <td>49</td>\n",
       "      <td>138</td>\n",
       "    </tr>\n",
       "    <tr>\n",
       "      <th>2</th>\n",
       "      <td>APURIMAC</td>\n",
       "      <td>20</td>\n",
       "      <td>74</td>\n",
       "    </tr>\n",
       "    <tr>\n",
       "      <th>3</th>\n",
       "      <td>AREQUIPA</td>\n",
       "      <td>90</td>\n",
       "      <td>171</td>\n",
       "    </tr>\n",
       "    <tr>\n",
       "      <th>4</th>\n",
       "      <td>AYACUCHO</td>\n",
       "      <td>35</td>\n",
       "      <td>70</td>\n",
       "    </tr>\n",
       "  </tbody>\n",
       "</table>\n",
       "</div>"
      ],
      "text/plain": [
       "niv_superior_hijo   NOMBDEP  superior no universitaria  superior universitaria\n",
       "0                  AMAZONAS                         39                     125\n",
       "1                    ANCASH                         49                     138\n",
       "2                  APURIMAC                         20                      74\n",
       "3                  AREQUIPA                         90                     171\n",
       "4                  AYACUCHO                         35                      70"
      ]
     },
     "execution_count": 17,
     "metadata": {},
     "output_type": "execute_result"
    }
   ],
   "source": [
    "data2017_dpto=data2017.pivot_table(\"codperso\",index=[\"ubigeo_dpto2\"],columns=[\"niv_superior_hijo\"],aggfunc=\"count\")\n",
    "data2017_dpto = data2017_dpto.reset_index()\n",
    "data2017_dpto.rename(columns={'ubigeo_dpto2':'NOMBDEP'}, inplace=True)\n",
    "data2017_dpto.to_excel('data2017_dpto.xlsx', sheet_name='sheet1', index=False)\n",
    "data2017_dpto.head()"
   ]
  },
  {
   "cell_type": "markdown",
   "metadata": {},
   "source": [
    "### 5. Se une la base 2017 con los datos de los estudiantes, los nombres y tipo de gestión (privada o pública) de las universidades e institutos"
   ]
  },
  {
   "cell_type": "code",
   "execution_count": 18,
   "metadata": {},
   "outputs": [
    {
     "data": {
      "text/html": [
       "<div>\n",
       "<style scoped>\n",
       "    .dataframe tbody tr th:only-of-type {\n",
       "        vertical-align: middle;\n",
       "    }\n",
       "\n",
       "    .dataframe tbody tr th {\n",
       "        vertical-align: top;\n",
       "    }\n",
       "\n",
       "    .dataframe thead th {\n",
       "        text-align: right;\n",
       "    }\n",
       "</style>\n",
       "<table border=\"1\" class=\"dataframe\">\n",
       "  <thead>\n",
       "    <tr style=\"text-align: right;\">\n",
       "      <th></th>\n",
       "      <th>Unnamed: 0</th>\n",
       "      <th>Unnamed: 1</th>\n",
       "      <th>Unnamed: 2</th>\n",
       "      <th>Unnamed: 3</th>\n",
       "    </tr>\n",
       "  </thead>\n",
       "  <tbody>\n",
       "    <tr>\n",
       "      <th>0</th>\n",
       "      <td>NaN</td>\n",
       "      <td>16- Universidades Públicas</td>\n",
       "      <td>NaN</td>\n",
       "      <td>NaN</td>\n",
       "    </tr>\n",
       "    <tr>\n",
       "      <th>1</th>\n",
       "      <td>NaN</td>\n",
       "      <td>NaN</td>\n",
       "      <td>NaN</td>\n",
       "      <td>NaN</td>\n",
       "    </tr>\n",
       "    <tr>\n",
       "      <th>2</th>\n",
       "      <td>NaN</td>\n",
       "      <td>NaN</td>\n",
       "      <td>160000022.0</td>\n",
       "      <td>Universidad Nacional Agraria de la Selva</td>\n",
       "    </tr>\n",
       "    <tr>\n",
       "      <th>3</th>\n",
       "      <td>NaN</td>\n",
       "      <td>NaN</td>\n",
       "      <td>160000007.0</td>\n",
       "      <td>Universidad Nacional Agraria La Molina</td>\n",
       "    </tr>\n",
       "    <tr>\n",
       "      <th>4</th>\n",
       "      <td>NaN</td>\n",
       "      <td>NaN</td>\n",
       "      <td>160000075.0</td>\n",
       "      <td>Universidad Nacional Amazónica de Madre de Dios</td>\n",
       "    </tr>\n",
       "  </tbody>\n",
       "</table>\n",
       "</div>"
      ],
      "text/plain": [
       "  Unnamed: 0                  Unnamed: 1   Unnamed: 2  \\\n",
       "0        NaN  16- Universidades Públicas          NaN   \n",
       "1        NaN                         NaN          NaN   \n",
       "2        NaN                         NaN  160000022.0   \n",
       "3        NaN                         NaN  160000007.0   \n",
       "4        NaN                         NaN  160000075.0   \n",
       "\n",
       "                                        Unnamed: 3  \n",
       "0                                              NaN  \n",
       "1                                              NaN  \n",
       "2         Universidad Nacional Agraria de la Selva  \n",
       "3           Universidad Nacional Agraria La Molina  \n",
       "4  Universidad Nacional Amazónica de Madre de Dios  "
      ]
     },
     "execution_count": 18,
     "metadata": {},
     "output_type": "execute_result"
    }
   ],
   "source": [
    "import numpy as np\n",
    "import pandas as pd\n",
    "import os\n",
    "\n",
    "instituciones=pd.read_excel(\"https://www.dropbox.com/s/a633g38mat4p74u/ENAHO-CODIGO%20DE%20INSTITUCIONES%20EDUCATIVAS.xlsx?dl=1\", \n",
    "                        sheet_name='códigos', \n",
    "                        skiprows=2)\n",
    "instituciones.head()"
   ]
  },
  {
   "cell_type": "code",
   "execution_count": 19,
   "metadata": {},
   "outputs": [
    {
     "data": {
      "text/html": [
       "<div>\n",
       "<style scoped>\n",
       "    .dataframe tbody tr th:only-of-type {\n",
       "        vertical-align: middle;\n",
       "    }\n",
       "\n",
       "    .dataframe tbody tr th {\n",
       "        vertical-align: top;\n",
       "    }\n",
       "\n",
       "    .dataframe thead th {\n",
       "        text-align: right;\n",
       "    }\n",
       "</style>\n",
       "<table border=\"1\" class=\"dataframe\">\n",
       "  <thead>\n",
       "    <tr style=\"text-align: right;\">\n",
       "      <th></th>\n",
       "      <th>Unnamed: 1</th>\n",
       "      <th>codigo</th>\n",
       "      <th>nombre</th>\n",
       "    </tr>\n",
       "  </thead>\n",
       "  <tbody>\n",
       "    <tr>\n",
       "      <th>0</th>\n",
       "      <td>16- Universidades Públicas</td>\n",
       "      <td>NaN</td>\n",
       "      <td>NaN</td>\n",
       "    </tr>\n",
       "    <tr>\n",
       "      <th>1</th>\n",
       "      <td>NaN</td>\n",
       "      <td>NaN</td>\n",
       "      <td>NaN</td>\n",
       "    </tr>\n",
       "    <tr>\n",
       "      <th>2</th>\n",
       "      <td>NaN</td>\n",
       "      <td>160000022.0</td>\n",
       "      <td>Universidad Nacional Agraria de la Selva</td>\n",
       "    </tr>\n",
       "    <tr>\n",
       "      <th>3</th>\n",
       "      <td>NaN</td>\n",
       "      <td>160000007.0</td>\n",
       "      <td>Universidad Nacional Agraria La Molina</td>\n",
       "    </tr>\n",
       "    <tr>\n",
       "      <th>4</th>\n",
       "      <td>NaN</td>\n",
       "      <td>160000075.0</td>\n",
       "      <td>Universidad Nacional Amazónica de Madre de Dios</td>\n",
       "    </tr>\n",
       "  </tbody>\n",
       "</table>\n",
       "</div>"
      ],
      "text/plain": [
       "                   Unnamed: 1       codigo  \\\n",
       "0  16- Universidades Públicas          NaN   \n",
       "1                         NaN          NaN   \n",
       "2                         NaN  160000022.0   \n",
       "3                         NaN  160000007.0   \n",
       "4                         NaN  160000075.0   \n",
       "\n",
       "                                            nombre  \n",
       "0                                              NaN  \n",
       "1                                              NaN  \n",
       "2         Universidad Nacional Agraria de la Selva  \n",
       "3           Universidad Nacional Agraria La Molina  \n",
       "4  Universidad Nacional Amazónica de Madre de Dios  "
      ]
     },
     "execution_count": 19,
     "metadata": {},
     "output_type": "execute_result"
    }
   ],
   "source": [
    "instituciones['Unnamed: 1'].unique()\n",
    "instituciones = instituciones.drop(columns=['Unnamed: 0'])\n",
    "instituciones.rename(columns={'Unnamed: 2':'codigo','Unnamed: 3':'nombre'}, inplace=True)\n",
    "instituciones.head()"
   ]
  },
  {
   "cell_type": "code",
   "execution_count": 20,
   "metadata": {},
   "outputs": [
    {
     "data": {
      "text/html": [
       "<div>\n",
       "<style scoped>\n",
       "    .dataframe tbody tr th:only-of-type {\n",
       "        vertical-align: middle;\n",
       "    }\n",
       "\n",
       "    .dataframe tbody tr th {\n",
       "        vertical-align: top;\n",
       "    }\n",
       "\n",
       "    .dataframe thead th {\n",
       "        text-align: right;\n",
       "    }\n",
       "</style>\n",
       "<table border=\"1\" class=\"dataframe\">\n",
       "  <thead>\n",
       "    <tr style=\"text-align: right;\">\n",
       "      <th></th>\n",
       "      <th>Unnamed: 1</th>\n",
       "      <th>codigo</th>\n",
       "      <th>nombre</th>\n",
       "      <th>codigo1</th>\n",
       "      <th>codigo0</th>\n",
       "    </tr>\n",
       "  </thead>\n",
       "  <tbody>\n",
       "    <tr>\n",
       "      <th>0</th>\n",
       "      <td>16- Universidades Públicas</td>\n",
       "      <td>NaN</td>\n",
       "      <td>NaN</td>\n",
       "      <td>na</td>\n",
       "      <td>na</td>\n",
       "    </tr>\n",
       "    <tr>\n",
       "      <th>1</th>\n",
       "      <td>NaN</td>\n",
       "      <td>NaN</td>\n",
       "      <td>NaN</td>\n",
       "      <td>na</td>\n",
       "      <td>na</td>\n",
       "    </tr>\n",
       "    <tr>\n",
       "      <th>2</th>\n",
       "      <td>NaN</td>\n",
       "      <td>160000022.0</td>\n",
       "      <td>Universidad Nacional Agraria de la Selva</td>\n",
       "      <td>16</td>\n",
       "      <td>16</td>\n",
       "    </tr>\n",
       "    <tr>\n",
       "      <th>3</th>\n",
       "      <td>NaN</td>\n",
       "      <td>160000007.0</td>\n",
       "      <td>Universidad Nacional Agraria La Molina</td>\n",
       "      <td>16</td>\n",
       "      <td>16</td>\n",
       "    </tr>\n",
       "    <tr>\n",
       "      <th>4</th>\n",
       "      <td>NaN</td>\n",
       "      <td>160000075.0</td>\n",
       "      <td>Universidad Nacional Amazónica de Madre de Dios</td>\n",
       "      <td>16</td>\n",
       "      <td>16</td>\n",
       "    </tr>\n",
       "  </tbody>\n",
       "</table>\n",
       "</div>"
      ],
      "text/plain": [
       "                   Unnamed: 1       codigo  \\\n",
       "0  16- Universidades Públicas          NaN   \n",
       "1                         NaN          NaN   \n",
       "2                         NaN  160000022.0   \n",
       "3                         NaN  160000007.0   \n",
       "4                         NaN  160000075.0   \n",
       "\n",
       "                                            nombre codigo1 codigo0  \n",
       "0                                              NaN      na      na  \n",
       "1                                              NaN      na      na  \n",
       "2         Universidad Nacional Agraria de la Selva      16      16  \n",
       "3           Universidad Nacional Agraria La Molina      16      16  \n",
       "4  Universidad Nacional Amazónica de Madre de Dios      16      16  "
      ]
     },
     "execution_count": 20,
     "metadata": {},
     "output_type": "execute_result"
    }
   ],
   "source": [
    "instituciones['codigo1']=instituciones['codigo'].astype(str).str[0:2]\n",
    "instituciones['codigo0']=instituciones['codigo1']\n",
    "instituciones.head()"
   ]
  },
  {
   "cell_type": "code",
   "execution_count": 21,
   "metadata": {},
   "outputs": [],
   "source": [
    "tipos={'codigo0':{'16': 'Universidades Públicas',\n",
    "       '15': 'Instituto Superior Pedagógico Públicos',\n",
    "       '14': 'Institutos de Educación Superior Tecnológica (IEST) Públicos',\n",
    "       '13': 'Centros de Educación Técnico Productiva (CETPRO) Públicos',\n",
    "       '17': 'Educación Superior de Formación Artísitca Pública',\n",
    "       '18': 'Escuelas e Institutos de Educación Superior Tecnológicos de las Fuerzas Armadas y Policiales',\n",
    "       '26': 'Universidades Privadas',\n",
    "       '25': 'Instituto Superior Pedagógico Privado',\n",
    "       '24': 'Instituto de Educación Superior Tecnológica (IEST) Privado',\n",
    "       '23': 'Centros de Educación Técnico Productiva (CETPRO) Privado',\n",
    "       '27': 'Educación Superior de Formación Artística'}}\n",
    "\n",
    "instituciones.replace(tipos,inplace=True)"
   ]
  },
  {
   "cell_type": "code",
   "execution_count": 22,
   "metadata": {},
   "outputs": [
    {
     "data": {
      "text/html": [
       "<div>\n",
       "<style scoped>\n",
       "    .dataframe tbody tr th:only-of-type {\n",
       "        vertical-align: middle;\n",
       "    }\n",
       "\n",
       "    .dataframe tbody tr th {\n",
       "        vertical-align: top;\n",
       "    }\n",
       "\n",
       "    .dataframe thead th {\n",
       "        text-align: right;\n",
       "    }\n",
       "</style>\n",
       "<table border=\"1\" class=\"dataframe\">\n",
       "  <thead>\n",
       "    <tr style=\"text-align: right;\">\n",
       "      <th></th>\n",
       "      <th>cod_centro</th>\n",
       "      <th>nombre</th>\n",
       "      <th>codigo1</th>\n",
       "      <th>codigo0</th>\n",
       "    </tr>\n",
       "  </thead>\n",
       "  <tbody>\n",
       "    <tr>\n",
       "      <th>2</th>\n",
       "      <td>160000022.0</td>\n",
       "      <td>Universidad Nacional Agraria de la Selva</td>\n",
       "      <td>16</td>\n",
       "      <td>Universidades Públicas</td>\n",
       "    </tr>\n",
       "    <tr>\n",
       "      <th>3</th>\n",
       "      <td>160000007.0</td>\n",
       "      <td>Universidad Nacional Agraria La Molina</td>\n",
       "      <td>16</td>\n",
       "      <td>Universidades Públicas</td>\n",
       "    </tr>\n",
       "    <tr>\n",
       "      <th>4</th>\n",
       "      <td>160000075.0</td>\n",
       "      <td>Universidad Nacional Amazónica de Madre de Dios</td>\n",
       "      <td>16</td>\n",
       "      <td>Universidades Públicas</td>\n",
       "    </tr>\n",
       "    <tr>\n",
       "      <th>5</th>\n",
       "      <td>160000127.0</td>\n",
       "      <td>Universidad Nacional Autónoma Altoandina de Tarma</td>\n",
       "      <td>16</td>\n",
       "      <td>Universidades Públicas</td>\n",
       "    </tr>\n",
       "    <tr>\n",
       "      <th>6</th>\n",
       "      <td>160000126.0</td>\n",
       "      <td>Universidad Nacional Autónoma de Alto Amazonas</td>\n",
       "      <td>16</td>\n",
       "      <td>Universidades Públicas</td>\n",
       "    </tr>\n",
       "  </tbody>\n",
       "</table>\n",
       "</div>"
      ],
      "text/plain": [
       "    cod_centro                                             nombre codigo1  \\\n",
       "2  160000022.0           Universidad Nacional Agraria de la Selva      16   \n",
       "3  160000007.0             Universidad Nacional Agraria La Molina      16   \n",
       "4  160000075.0    Universidad Nacional Amazónica de Madre de Dios      16   \n",
       "5  160000127.0  Universidad Nacional Autónoma Altoandina de Tarma      16   \n",
       "6  160000126.0     Universidad Nacional Autónoma de Alto Amazonas      16   \n",
       "\n",
       "                  codigo0  \n",
       "2  Universidades Públicas  \n",
       "3  Universidades Públicas  \n",
       "4  Universidades Públicas  \n",
       "5  Universidades Públicas  \n",
       "6  Universidades Públicas  "
      ]
     },
     "execution_count": 22,
     "metadata": {},
     "output_type": "execute_result"
    }
   ],
   "source": [
    "instituciones=instituciones.drop(columns=['Unnamed: 1'])\n",
    "instituciones=instituciones.dropna(axis=0)\n",
    "instituciones.rename(columns={'codigo':'cod_centro'}, inplace=True)\n",
    "instituciones.rename(columns={'codigo':'cod_centro'}, inplace=True)\n",
    "instituciones.head()"
   ]
  },
  {
   "cell_type": "code",
   "execution_count": 23,
   "metadata": {},
   "outputs": [
    {
     "data": {
      "text/html": [
       "<div>\n",
       "<style scoped>\n",
       "    .dataframe tbody tr th:only-of-type {\n",
       "        vertical-align: middle;\n",
       "    }\n",
       "\n",
       "    .dataframe tbody tr th {\n",
       "        vertical-align: top;\n",
       "    }\n",
       "\n",
       "    .dataframe thead th {\n",
       "        text-align: right;\n",
       "    }\n",
       "</style>\n",
       "<table border=\"1\" class=\"dataframe\">\n",
       "  <thead>\n",
       "    <tr style=\"text-align: right;\">\n",
       "      <th></th>\n",
       "      <th>conglome</th>\n",
       "      <th>vivienda</th>\n",
       "      <th>hogar</th>\n",
       "      <th>codperso</th>\n",
       "      <th>nivel_educat_hijo</th>\n",
       "      <th>cod_centro</th>\n",
       "      <th>centro_pub_priv</th>\n",
       "      <th>niv_superior_hijo</th>\n",
       "      <th>nivel_educat_jh</th>\n",
       "      <th>cnivel_educat_jh</th>\n",
       "      <th>...</th>\n",
       "      <th>edad</th>\n",
       "      <th>nacio_dist</th>\n",
       "      <th>gashog2d</th>\n",
       "      <th>mieperho</th>\n",
       "      <th>pobreza</th>\n",
       "      <th>estrsocial</th>\n",
       "      <th>nombre</th>\n",
       "      <th>codigo1</th>\n",
       "      <th>codigo0</th>\n",
       "      <th>_merge</th>\n",
       "    </tr>\n",
       "  </thead>\n",
       "  <tbody>\n",
       "    <tr>\n",
       "      <th>51</th>\n",
       "      <td>5001.0</td>\n",
       "      <td>88.0</td>\n",
       "      <td>11.0</td>\n",
       "      <td>4.0</td>\n",
       "      <td>NaN</td>\n",
       "      <td>160000076.0</td>\n",
       "      <td>estatal</td>\n",
       "      <td>NaN</td>\n",
       "      <td>primaria incompleta</td>\n",
       "      <td>1.0</td>\n",
       "      <td>...</td>\n",
       "      <td>30.0</td>\n",
       "      <td>nació en este distrito</td>\n",
       "      <td>29938.256674</td>\n",
       "      <td>6.0</td>\n",
       "      <td>no pobre</td>\n",
       "      <td>e</td>\n",
       "      <td>Universidad Nacional Toribio Rodríguez de Mend...</td>\n",
       "      <td>16</td>\n",
       "      <td>Universidades Públicas</td>\n",
       "      <td>both</td>\n",
       "    </tr>\n",
       "    <tr>\n",
       "      <th>51</th>\n",
       "      <td>5002.0</td>\n",
       "      <td>34.0</td>\n",
       "      <td>11.0</td>\n",
       "      <td>2.0</td>\n",
       "      <td>superior universitaria</td>\n",
       "      <td>160000076.0</td>\n",
       "      <td>estatal</td>\n",
       "      <td>superior universitaria</td>\n",
       "      <td>secundaria completa</td>\n",
       "      <td>1.0</td>\n",
       "      <td>...</td>\n",
       "      <td>21.0</td>\n",
       "      <td>nació en este distrito</td>\n",
       "      <td>28569.724534</td>\n",
       "      <td>4.0</td>\n",
       "      <td>no pobre</td>\n",
       "      <td>d</td>\n",
       "      <td>Universidad Nacional Toribio Rodríguez de Mend...</td>\n",
       "      <td>16</td>\n",
       "      <td>Universidades Públicas</td>\n",
       "      <td>both</td>\n",
       "    </tr>\n",
       "    <tr>\n",
       "      <th>51</th>\n",
       "      <td>5002.0</td>\n",
       "      <td>34.0</td>\n",
       "      <td>11.0</td>\n",
       "      <td>3.0</td>\n",
       "      <td>superior universitaria</td>\n",
       "      <td>160000076.0</td>\n",
       "      <td>estatal</td>\n",
       "      <td>superior universitaria</td>\n",
       "      <td>secundaria completa</td>\n",
       "      <td>1.0</td>\n",
       "      <td>...</td>\n",
       "      <td>20.0</td>\n",
       "      <td>nació en este distrito</td>\n",
       "      <td>28569.724534</td>\n",
       "      <td>4.0</td>\n",
       "      <td>no pobre</td>\n",
       "      <td>d</td>\n",
       "      <td>Universidad Nacional Toribio Rodríguez de Mend...</td>\n",
       "      <td>16</td>\n",
       "      <td>Universidades Públicas</td>\n",
       "      <td>both</td>\n",
       "    </tr>\n",
       "    <tr>\n",
       "      <th>51</th>\n",
       "      <td>5002.0</td>\n",
       "      <td>34.0</td>\n",
       "      <td>11.0</td>\n",
       "      <td>4.0</td>\n",
       "      <td>superior universitaria</td>\n",
       "      <td>160000076.0</td>\n",
       "      <td>estatal</td>\n",
       "      <td>superior universitaria</td>\n",
       "      <td>secundaria completa</td>\n",
       "      <td>1.0</td>\n",
       "      <td>...</td>\n",
       "      <td>18.0</td>\n",
       "      <td>nació en este distrito</td>\n",
       "      <td>28569.724534</td>\n",
       "      <td>4.0</td>\n",
       "      <td>no pobre</td>\n",
       "      <td>d</td>\n",
       "      <td>Universidad Nacional Toribio Rodríguez de Mend...</td>\n",
       "      <td>16</td>\n",
       "      <td>Universidades Públicas</td>\n",
       "      <td>both</td>\n",
       "    </tr>\n",
       "    <tr>\n",
       "      <th>51</th>\n",
       "      <td>5002.0</td>\n",
       "      <td>71.0</td>\n",
       "      <td>11.0</td>\n",
       "      <td>3.0</td>\n",
       "      <td>NaN</td>\n",
       "      <td>160000076.0</td>\n",
       "      <td>estatal</td>\n",
       "      <td>NaN</td>\n",
       "      <td>secundaria incompleta</td>\n",
       "      <td>1.0</td>\n",
       "      <td>...</td>\n",
       "      <td>31.0</td>\n",
       "      <td>pase</td>\n",
       "      <td>32406.811589</td>\n",
       "      <td>3.0</td>\n",
       "      <td>no pobre</td>\n",
       "      <td>d</td>\n",
       "      <td>Universidad Nacional Toribio Rodríguez de Mend...</td>\n",
       "      <td>16</td>\n",
       "      <td>Universidades Públicas</td>\n",
       "      <td>both</td>\n",
       "    </tr>\n",
       "  </tbody>\n",
       "</table>\n",
       "<p>5 rows × 25 columns</p>\n",
       "</div>"
      ],
      "text/plain": [
       "    conglome  vivienda  hogar  codperso       nivel_educat_hijo   cod_centro  \\\n",
       "51    5001.0      88.0   11.0       4.0                     NaN  160000076.0   \n",
       "51    5002.0      34.0   11.0       2.0  superior universitaria  160000076.0   \n",
       "51    5002.0      34.0   11.0       3.0  superior universitaria  160000076.0   \n",
       "51    5002.0      34.0   11.0       4.0  superior universitaria  160000076.0   \n",
       "51    5002.0      71.0   11.0       3.0                     NaN  160000076.0   \n",
       "\n",
       "   centro_pub_priv       niv_superior_hijo        nivel_educat_jh  \\\n",
       "51         estatal                     NaN    primaria incompleta   \n",
       "51         estatal  superior universitaria    secundaria completa   \n",
       "51         estatal  superior universitaria    secundaria completa   \n",
       "51         estatal  superior universitaria    secundaria completa   \n",
       "51         estatal                     NaN  secundaria incompleta   \n",
       "\n",
       "    cnivel_educat_jh  ...    edad              nacio_dist      gashog2d  \\\n",
       "51               1.0  ...    30.0  nació en este distrito  29938.256674   \n",
       "51               1.0  ...    21.0  nació en este distrito  28569.724534   \n",
       "51               1.0  ...    20.0  nació en este distrito  28569.724534   \n",
       "51               1.0  ...    18.0  nació en este distrito  28569.724534   \n",
       "51               1.0  ...    31.0                    pase  32406.811589   \n",
       "\n",
       "   mieperho   pobreza  estrsocial  \\\n",
       "51      6.0  no pobre           e   \n",
       "51      4.0  no pobre           d   \n",
       "51      4.0  no pobre           d   \n",
       "51      4.0  no pobre           d   \n",
       "51      3.0  no pobre           d   \n",
       "\n",
       "                                               nombre  codigo1  \\\n",
       "51  Universidad Nacional Toribio Rodríguez de Mend...       16   \n",
       "51  Universidad Nacional Toribio Rodríguez de Mend...       16   \n",
       "51  Universidad Nacional Toribio Rodríguez de Mend...       16   \n",
       "51  Universidad Nacional Toribio Rodríguez de Mend...       16   \n",
       "51  Universidad Nacional Toribio Rodríguez de Mend...       16   \n",
       "\n",
       "                   codigo0 _merge  \n",
       "51  Universidades Públicas   both  \n",
       "51  Universidades Públicas   both  \n",
       "51  Universidades Públicas   both  \n",
       "51  Universidades Públicas   both  \n",
       "51  Universidades Públicas   both  \n",
       "\n",
       "[5 rows x 25 columns]"
      ]
     },
     "execution_count": 23,
     "metadata": {},
     "output_type": "execute_result"
    }
   ],
   "source": [
    "data2017=pd.read_excel(\"https://www.dropbox.com/s/mmk5gp8xf9loin2/data_enaho2017.xlsx?dl=1\", \n",
    "                        sheet_name='sheet1')\n",
    "data2=pd.merge(data2017,instituciones, how='outer',on=['cod_centro'],indicator=True,left_index=True)\n",
    "data2 = data2[(data2['_merge']=='both')]\n",
    "data2.head()"
   ]
  },
  {
   "cell_type": "code",
   "execution_count": 24,
   "metadata": {},
   "outputs": [
    {
     "name": "stderr",
     "output_type": "stream",
     "text": [
      "C:\\Users\\claud\\Anaconda3\\lib\\site-packages\\pandas\\core\\generic.py:5821: SettingWithCopyWarning: \n",
      "A value is trying to be set on a copy of a slice from a DataFrame.\n",
      "Try using .loc[row_indexer,col_indexer] = value instead\n",
      "\n",
      "See the caveats in the documentation: http://pandas.pydata.org/pandas-docs/stable/indexing.html#indexing-view-versus-copy\n",
      "  regex=regex)\n"
     ]
    }
   ],
   "source": [
    "data2['codigo1'] = data2['codigo1'].apply(pd.to_numeric, errors='coerce')\n",
    "data3 = data2[(data2['codigo1']==16)|(data2['codigo1']==26)|(data2['codigo1']==14)|(data2['codigo1']==24)]\n",
    "insti={'codigo1':{14:'IEST Púb.',16: 'U. Púb.',24: 'IEST Priv.',26:'U. Priv'}}\n",
    "data3.replace(insti, inplace = True)"
   ]
  },
  {
   "cell_type": "code",
   "execution_count": 25,
   "metadata": {},
   "outputs": [
    {
     "name": "stderr",
     "output_type": "stream",
     "text": [
      "C:\\Users\\claud\\Anaconda3\\lib\\site-packages\\ipykernel_launcher.py:1: SettingWithCopyWarning: \n",
      "A value is trying to be set on a copy of a slice from a DataFrame.\n",
      "Try using .loc[row_indexer,col_indexer] = value instead\n",
      "\n",
      "See the caveats in the documentation: http://pandas.pydata.org/pandas-docs/stable/indexing.html#indexing-view-versus-copy\n",
      "  \"\"\"Entry point for launching an IPython kernel.\n",
      "C:\\Users\\claud\\Anaconda3\\lib\\site-packages\\ipykernel_launcher.py:2: SettingWithCopyWarning: \n",
      "A value is trying to be set on a copy of a slice from a DataFrame.\n",
      "Try using .loc[row_indexer,col_indexer] = value instead\n",
      "\n",
      "See the caveats in the documentation: http://pandas.pydata.org/pandas-docs/stable/indexing.html#indexing-view-versus-copy\n",
      "  \n"
     ]
    }
   ],
   "source": [
    "data3['niv_superior_hijo2'] = data3['niv_superior_hijo']\n",
    "data3['niv_superior_hijo2'] = np.where((data3['codigo1']=='IEST Púb') & (data3['niv_superior_hijo']=='superior universitaria'), '', 'niv_superior_hijo')"
   ]
  },
  {
   "cell_type": "code",
   "execution_count": 26,
   "metadata": {},
   "outputs": [
    {
     "name": "stderr",
     "output_type": "stream",
     "text": [
      "C:\\Users\\claud\\Anaconda3\\lib\\site-packages\\ipykernel_launcher.py:6: SettingWithCopyWarning: \n",
      "A value is trying to be set on a copy of a slice from a DataFrame.\n",
      "Try using .loc[row_indexer,col_indexer] = value instead\n",
      "\n",
      "See the caveats in the documentation: http://pandas.pydata.org/pandas-docs/stable/indexing.html#indexing-view-versus-copy\n",
      "  \n"
     ]
    }
   ],
   "source": [
    "conditions  = [ (data3['codigo1']=='IEST Púb.') & (data3['niv_superior_hijo']=='superior universitaria'),\n",
    "               (data3['codigo1']=='IEST Priv.') & (data3['niv_superior_hijo']=='superior universitaria'),\n",
    "               (data3['codigo1']=='U. Púb.') & (data3['niv_superior_hijo']=='superior no universitaria'),\n",
    "              (data3['codigo1']=='U. Priv') & (data3['niv_superior_hijo']=='superior no universitaria')]\n",
    "choices     = [ np.nan, np.nan, np.nan,np.nan ]\n",
    "data3[\"niv2\"] = np.select(conditions, choices, default=data3['niv_superior_hijo'])\n",
    "data3.to_excel('data3.xlsx', sheet_name='sheet1', index=False)"
   ]
  },
  {
   "cell_type": "code",
   "execution_count": 27,
   "metadata": {},
   "outputs": [
    {
     "data": {
      "text/html": [
       "<div>\n",
       "<style scoped>\n",
       "    .dataframe tbody tr th:only-of-type {\n",
       "        vertical-align: middle;\n",
       "    }\n",
       "\n",
       "    .dataframe tbody tr th {\n",
       "        vertical-align: top;\n",
       "    }\n",
       "\n",
       "    .dataframe thead th {\n",
       "        text-align: right;\n",
       "    }\n",
       "</style>\n",
       "<table border=\"1\" class=\"dataframe\">\n",
       "  <thead>\n",
       "    <tr style=\"text-align: right;\">\n",
       "      <th></th>\n",
       "      <th>conglome</th>\n",
       "      <th>vivienda</th>\n",
       "      <th>hogar</th>\n",
       "      <th>codperso</th>\n",
       "      <th>nivel_educat_hijo</th>\n",
       "      <th>cod_centro</th>\n",
       "      <th>centro_pub_priv</th>\n",
       "      <th>niv_superior_hijo</th>\n",
       "      <th>nivel_educat_jh</th>\n",
       "      <th>cnivel_educat_jh</th>\n",
       "      <th>...</th>\n",
       "      <th>niv_superior_hijo2</th>\n",
       "      <th>niv2</th>\n",
       "      <th>Ubigeo</th>\n",
       "      <th>Distrito</th>\n",
       "      <th>Provincia</th>\n",
       "      <th>Departamento</th>\n",
       "      <th>Poblacion</th>\n",
       "      <th>Superficie</th>\n",
       "      <th>Y</th>\n",
       "      <th>X</th>\n",
       "    </tr>\n",
       "  </thead>\n",
       "  <tbody>\n",
       "    <tr>\n",
       "      <th>0</th>\n",
       "      <td>5001.0</td>\n",
       "      <td>88.0</td>\n",
       "      <td>11.0</td>\n",
       "      <td>4.0</td>\n",
       "      <td>NaN</td>\n",
       "      <td>160000076.0</td>\n",
       "      <td>estatal</td>\n",
       "      <td>NaN</td>\n",
       "      <td>primaria incompleta</td>\n",
       "      <td>1.0</td>\n",
       "      <td>...</td>\n",
       "      <td>niv_superior_hijo</td>\n",
       "      <td>NaN</td>\n",
       "      <td>10101.0</td>\n",
       "      <td>Chachapoyas</td>\n",
       "      <td>Chachapoyas</td>\n",
       "      <td>Amazonas</td>\n",
       "      <td>29171.0</td>\n",
       "      <td>153.78</td>\n",
       "      <td>-6.2294</td>\n",
       "      <td>-77.8714</td>\n",
       "    </tr>\n",
       "    <tr>\n",
       "      <th>0</th>\n",
       "      <td>5002.0</td>\n",
       "      <td>34.0</td>\n",
       "      <td>11.0</td>\n",
       "      <td>2.0</td>\n",
       "      <td>superior universitaria</td>\n",
       "      <td>160000076.0</td>\n",
       "      <td>estatal</td>\n",
       "      <td>superior universitaria</td>\n",
       "      <td>secundaria completa</td>\n",
       "      <td>1.0</td>\n",
       "      <td>...</td>\n",
       "      <td>niv_superior_hijo</td>\n",
       "      <td>superior universitaria</td>\n",
       "      <td>10101.0</td>\n",
       "      <td>Chachapoyas</td>\n",
       "      <td>Chachapoyas</td>\n",
       "      <td>Amazonas</td>\n",
       "      <td>29171.0</td>\n",
       "      <td>153.78</td>\n",
       "      <td>-6.2294</td>\n",
       "      <td>-77.8714</td>\n",
       "    </tr>\n",
       "    <tr>\n",
       "      <th>0</th>\n",
       "      <td>5002.0</td>\n",
       "      <td>34.0</td>\n",
       "      <td>11.0</td>\n",
       "      <td>3.0</td>\n",
       "      <td>superior universitaria</td>\n",
       "      <td>160000076.0</td>\n",
       "      <td>estatal</td>\n",
       "      <td>superior universitaria</td>\n",
       "      <td>secundaria completa</td>\n",
       "      <td>1.0</td>\n",
       "      <td>...</td>\n",
       "      <td>niv_superior_hijo</td>\n",
       "      <td>superior universitaria</td>\n",
       "      <td>10101.0</td>\n",
       "      <td>Chachapoyas</td>\n",
       "      <td>Chachapoyas</td>\n",
       "      <td>Amazonas</td>\n",
       "      <td>29171.0</td>\n",
       "      <td>153.78</td>\n",
       "      <td>-6.2294</td>\n",
       "      <td>-77.8714</td>\n",
       "    </tr>\n",
       "    <tr>\n",
       "      <th>0</th>\n",
       "      <td>5002.0</td>\n",
       "      <td>34.0</td>\n",
       "      <td>11.0</td>\n",
       "      <td>4.0</td>\n",
       "      <td>superior universitaria</td>\n",
       "      <td>160000076.0</td>\n",
       "      <td>estatal</td>\n",
       "      <td>superior universitaria</td>\n",
       "      <td>secundaria completa</td>\n",
       "      <td>1.0</td>\n",
       "      <td>...</td>\n",
       "      <td>niv_superior_hijo</td>\n",
       "      <td>superior universitaria</td>\n",
       "      <td>10101.0</td>\n",
       "      <td>Chachapoyas</td>\n",
       "      <td>Chachapoyas</td>\n",
       "      <td>Amazonas</td>\n",
       "      <td>29171.0</td>\n",
       "      <td>153.78</td>\n",
       "      <td>-6.2294</td>\n",
       "      <td>-77.8714</td>\n",
       "    </tr>\n",
       "    <tr>\n",
       "      <th>0</th>\n",
       "      <td>5002.0</td>\n",
       "      <td>71.0</td>\n",
       "      <td>11.0</td>\n",
       "      <td>3.0</td>\n",
       "      <td>NaN</td>\n",
       "      <td>160000076.0</td>\n",
       "      <td>estatal</td>\n",
       "      <td>NaN</td>\n",
       "      <td>secundaria incompleta</td>\n",
       "      <td>1.0</td>\n",
       "      <td>...</td>\n",
       "      <td>niv_superior_hijo</td>\n",
       "      <td>NaN</td>\n",
       "      <td>10101.0</td>\n",
       "      <td>Chachapoyas</td>\n",
       "      <td>Chachapoyas</td>\n",
       "      <td>Amazonas</td>\n",
       "      <td>29171.0</td>\n",
       "      <td>153.78</td>\n",
       "      <td>-6.2294</td>\n",
       "      <td>-77.8714</td>\n",
       "    </tr>\n",
       "  </tbody>\n",
       "</table>\n",
       "<p>5 rows × 35 columns</p>\n",
       "</div>"
      ],
      "text/plain": [
       "   conglome  vivienda  hogar  codperso       nivel_educat_hijo   cod_centro  \\\n",
       "0    5001.0      88.0   11.0       4.0                     NaN  160000076.0   \n",
       "0    5002.0      34.0   11.0       2.0  superior universitaria  160000076.0   \n",
       "0    5002.0      34.0   11.0       3.0  superior universitaria  160000076.0   \n",
       "0    5002.0      34.0   11.0       4.0  superior universitaria  160000076.0   \n",
       "0    5002.0      71.0   11.0       3.0                     NaN  160000076.0   \n",
       "\n",
       "  centro_pub_priv       niv_superior_hijo        nivel_educat_jh  \\\n",
       "0         estatal                     NaN    primaria incompleta   \n",
       "0         estatal  superior universitaria    secundaria completa   \n",
       "0         estatal  superior universitaria    secundaria completa   \n",
       "0         estatal  superior universitaria    secundaria completa   \n",
       "0         estatal                     NaN  secundaria incompleta   \n",
       "\n",
       "   cnivel_educat_jh   ...     niv_superior_hijo2                    niv2  \\\n",
       "0               1.0   ...      niv_superior_hijo                     NaN   \n",
       "0               1.0   ...      niv_superior_hijo  superior universitaria   \n",
       "0               1.0   ...      niv_superior_hijo  superior universitaria   \n",
       "0               1.0   ...      niv_superior_hijo  superior universitaria   \n",
       "0               1.0   ...      niv_superior_hijo                     NaN   \n",
       "\n",
       "    Ubigeo     Distrito    Provincia  Departamento Poblacion  Superficie  \\\n",
       "0  10101.0  Chachapoyas  Chachapoyas      Amazonas   29171.0      153.78   \n",
       "0  10101.0  Chachapoyas  Chachapoyas      Amazonas   29171.0      153.78   \n",
       "0  10101.0  Chachapoyas  Chachapoyas      Amazonas   29171.0      153.78   \n",
       "0  10101.0  Chachapoyas  Chachapoyas      Amazonas   29171.0      153.78   \n",
       "0  10101.0  Chachapoyas  Chachapoyas      Amazonas   29171.0      153.78   \n",
       "\n",
       "        Y        X  \n",
       "0 -6.2294 -77.8714  \n",
       "0 -6.2294 -77.8714  \n",
       "0 -6.2294 -77.8714  \n",
       "0 -6.2294 -77.8714  \n",
       "0 -6.2294 -77.8714  \n",
       "\n",
       "[5 rows x 35 columns]"
      ]
     },
     "execution_count": 27,
     "metadata": {},
     "output_type": "execute_result"
    }
   ],
   "source": [
    "ubigeos=pd.read_excel(\"https://www.dropbox.com/s/z7b8s6e31yo34yr/ubigeos.xlsx?dl=1\", \n",
    "                        sheet_name='ubigeo_inei')\n",
    "data3=pd.merge(data3,ubigeos, how='outer',on=['ubigeo'],left_index=True)\n",
    "data3.head()"
   ]
  },
  {
   "cell_type": "markdown",
   "metadata": {},
   "source": [
    "### B. SECCIÓN ANÁLISIS \n",
    "Una vez realizado la limpieza y creación de indicadores de interés con las bases del 2017. En esta sección se analiza las cruces y resultados de las variables como : \n",
    " 1. A nivel individual (edad y sexo)\n",
    " 2. A nivel del hogar (nivel de ingresos, pobreza, y estrato social)\n",
    " 3. A nivel de los padres (nivel educativo alcanzado),  \n",
    " 4. Otros factores como si asistió o no a una escuela pública, y si migró o no del lugar de origen.\n",
    " 5. A nivel de la ubicación geográfica (según departamentos y dominios de costa, sierra y selva) \n",
    " 6. Según si la oferta educativa es privada o pública"
   ]
  },
  {
   "cell_type": "code",
   "execution_count": 28,
   "metadata": {},
   "outputs": [],
   "source": [
    "import numpy as np\n",
    "import pandas as pd\n",
    "import os\n",
    "import matplotlib.pyplot as plt\n",
    "import seaborn as sns\n",
    "\n",
    "data2017=pd.read_excel(\"https://www.dropbox.com/s/mmk5gp8xf9loin2/data_enaho2017.xlsx?dl=1\", sheet_name='sheet1', index=False)"
   ]
  },
  {
   "cell_type": "code",
   "execution_count": 29,
   "metadata": {},
   "outputs": [
    {
     "data": {
      "text/html": [
       "<div>\n",
       "<style scoped>\n",
       "    .dataframe tbody tr th:only-of-type {\n",
       "        vertical-align: middle;\n",
       "    }\n",
       "\n",
       "    .dataframe tbody tr th {\n",
       "        vertical-align: top;\n",
       "    }\n",
       "\n",
       "    .dataframe thead th {\n",
       "        text-align: right;\n",
       "    }\n",
       "</style>\n",
       "<table border=\"1\" class=\"dataframe\">\n",
       "  <thead>\n",
       "    <tr style=\"text-align: right;\">\n",
       "      <th></th>\n",
       "      <th>conglome</th>\n",
       "      <th>vivienda</th>\n",
       "      <th>hogar</th>\n",
       "      <th>codperso</th>\n",
       "      <th>nivel_educat_hijo</th>\n",
       "      <th>cod_centro</th>\n",
       "      <th>centro_pub_priv</th>\n",
       "      <th>niv_superior_hijo</th>\n",
       "      <th>nivel_educat_jh</th>\n",
       "      <th>cnivel_educat_jh</th>\n",
       "      <th>...</th>\n",
       "      <th>dominio</th>\n",
       "      <th>facpob07</th>\n",
       "      <th>mieho</th>\n",
       "      <th>sexo</th>\n",
       "      <th>edad</th>\n",
       "      <th>nacio_dist</th>\n",
       "      <th>gashog2d</th>\n",
       "      <th>mieperho</th>\n",
       "      <th>pobreza</th>\n",
       "      <th>estrsocial</th>\n",
       "    </tr>\n",
       "  </thead>\n",
       "  <tbody>\n",
       "    <tr>\n",
       "      <th>0</th>\n",
       "      <td>5001</td>\n",
       "      <td>88</td>\n",
       "      <td>11</td>\n",
       "      <td>3</td>\n",
       "      <td>secundaria</td>\n",
       "      <td>NaN</td>\n",
       "      <td>estatal</td>\n",
       "      <td>NaN</td>\n",
       "      <td>primaria incompleta</td>\n",
       "      <td>1</td>\n",
       "      <td>...</td>\n",
       "      <td>sierra norte</td>\n",
       "      <td>76.290199</td>\n",
       "      <td>si</td>\n",
       "      <td>hombre</td>\n",
       "      <td>18</td>\n",
       "      <td>nació en este distrito</td>\n",
       "      <td>29938.256674</td>\n",
       "      <td>6</td>\n",
       "      <td>no pobre</td>\n",
       "      <td>e</td>\n",
       "    </tr>\n",
       "    <tr>\n",
       "      <th>1</th>\n",
       "      <td>5001</td>\n",
       "      <td>88</td>\n",
       "      <td>11</td>\n",
       "      <td>4</td>\n",
       "      <td>NaN</td>\n",
       "      <td>160000076.0</td>\n",
       "      <td>estatal</td>\n",
       "      <td>NaN</td>\n",
       "      <td>primaria incompleta</td>\n",
       "      <td>1</td>\n",
       "      <td>...</td>\n",
       "      <td>sierra norte</td>\n",
       "      <td>76.290199</td>\n",
       "      <td>si</td>\n",
       "      <td>mujer</td>\n",
       "      <td>30</td>\n",
       "      <td>nació en este distrito</td>\n",
       "      <td>29938.256674</td>\n",
       "      <td>6</td>\n",
       "      <td>no pobre</td>\n",
       "      <td>e</td>\n",
       "    </tr>\n",
       "    <tr>\n",
       "      <th>2</th>\n",
       "      <td>5002</td>\n",
       "      <td>34</td>\n",
       "      <td>11</td>\n",
       "      <td>2</td>\n",
       "      <td>superior universitaria</td>\n",
       "      <td>160000076.0</td>\n",
       "      <td>estatal</td>\n",
       "      <td>superior universitaria</td>\n",
       "      <td>secundaria completa</td>\n",
       "      <td>1</td>\n",
       "      <td>...</td>\n",
       "      <td>sierra norte</td>\n",
       "      <td>75.795334</td>\n",
       "      <td>si</td>\n",
       "      <td>mujer</td>\n",
       "      <td>21</td>\n",
       "      <td>nació en este distrito</td>\n",
       "      <td>28569.724534</td>\n",
       "      <td>4</td>\n",
       "      <td>no pobre</td>\n",
       "      <td>d</td>\n",
       "    </tr>\n",
       "    <tr>\n",
       "      <th>3</th>\n",
       "      <td>5002</td>\n",
       "      <td>34</td>\n",
       "      <td>11</td>\n",
       "      <td>3</td>\n",
       "      <td>superior universitaria</td>\n",
       "      <td>160000076.0</td>\n",
       "      <td>estatal</td>\n",
       "      <td>superior universitaria</td>\n",
       "      <td>secundaria completa</td>\n",
       "      <td>1</td>\n",
       "      <td>...</td>\n",
       "      <td>sierra norte</td>\n",
       "      <td>75.795334</td>\n",
       "      <td>si</td>\n",
       "      <td>mujer</td>\n",
       "      <td>20</td>\n",
       "      <td>nació en este distrito</td>\n",
       "      <td>28569.724534</td>\n",
       "      <td>4</td>\n",
       "      <td>no pobre</td>\n",
       "      <td>d</td>\n",
       "    </tr>\n",
       "    <tr>\n",
       "      <th>4</th>\n",
       "      <td>5002</td>\n",
       "      <td>34</td>\n",
       "      <td>11</td>\n",
       "      <td>4</td>\n",
       "      <td>superior universitaria</td>\n",
       "      <td>160000076.0</td>\n",
       "      <td>estatal</td>\n",
       "      <td>superior universitaria</td>\n",
       "      <td>secundaria completa</td>\n",
       "      <td>1</td>\n",
       "      <td>...</td>\n",
       "      <td>sierra norte</td>\n",
       "      <td>75.795334</td>\n",
       "      <td>si</td>\n",
       "      <td>mujer</td>\n",
       "      <td>18</td>\n",
       "      <td>nació en este distrito</td>\n",
       "      <td>28569.724534</td>\n",
       "      <td>4</td>\n",
       "      <td>no pobre</td>\n",
       "      <td>d</td>\n",
       "    </tr>\n",
       "  </tbody>\n",
       "</table>\n",
       "<p>5 rows × 21 columns</p>\n",
       "</div>"
      ],
      "text/plain": [
       "   conglome  vivienda  hogar  codperso       nivel_educat_hijo   cod_centro  \\\n",
       "0      5001        88     11         3              secundaria          NaN   \n",
       "1      5001        88     11         4                     NaN  160000076.0   \n",
       "2      5002        34     11         2  superior universitaria  160000076.0   \n",
       "3      5002        34     11         3  superior universitaria  160000076.0   \n",
       "4      5002        34     11         4  superior universitaria  160000076.0   \n",
       "\n",
       "  centro_pub_priv       niv_superior_hijo      nivel_educat_jh  \\\n",
       "0         estatal                     NaN  primaria incompleta   \n",
       "1         estatal                     NaN  primaria incompleta   \n",
       "2         estatal  superior universitaria  secundaria completa   \n",
       "3         estatal  superior universitaria  secundaria completa   \n",
       "4         estatal  superior universitaria  secundaria completa   \n",
       "\n",
       "   cnivel_educat_jh    ...           dominio   facpob07  mieho    sexo edad  \\\n",
       "0                 1    ...      sierra norte  76.290199     si  hombre   18   \n",
       "1                 1    ...      sierra norte  76.290199     si   mujer   30   \n",
       "2                 1    ...      sierra norte  75.795334     si   mujer   21   \n",
       "3                 1    ...      sierra norte  75.795334     si   mujer   20   \n",
       "4                 1    ...      sierra norte  75.795334     si   mujer   18   \n",
       "\n",
       "               nacio_dist      gashog2d  mieperho   pobreza estrsocial  \n",
       "0  nació en este distrito  29938.256674         6  no pobre          e  \n",
       "1  nació en este distrito  29938.256674         6  no pobre          e  \n",
       "2  nació en este distrito  28569.724534         4  no pobre          d  \n",
       "3  nació en este distrito  28569.724534         4  no pobre          d  \n",
       "4  nació en este distrito  28569.724534         4  no pobre          d  \n",
       "\n",
       "[5 rows x 21 columns]"
      ]
     },
     "execution_count": 29,
     "metadata": {},
     "output_type": "execute_result"
    }
   ],
   "source": [
    "data2017.head()"
   ]
  },
  {
   "cell_type": "markdown",
   "metadata": {},
   "source": [
    "### 1. Análisis exploratorio a partir de las características individuales:\n",
    "#### Se observa que el porcentaje de estudiantes en educación universitaria (69.7%) casi duplica a la educación técnica (30.3%)"
   ]
  },
  {
   "cell_type": "code",
   "execution_count": 30,
   "metadata": {
    "scrolled": true
   },
   "outputs": [
    {
     "name": "stdout",
     "output_type": "stream",
     "text": [
      "niv_superior_hijo\n",
      "superior no universitaria    1392\n",
      "superior universitaria       3197\n",
      "Name: codperso, dtype: int64\n"
     ]
    },
    {
     "data": {
      "text/plain": [
       "Text(0.5, 1.0, 'Distribución porcentual de estudiantes en educación superior')"
      ]
     },
     "execution_count": 30,
     "metadata": {},
     "output_type": "execute_result"
    },
    {
     "data": {
      "image/png": "[encoded data removed]",
      "text/plain": [
       "<Figure size 432x288 with 1 Axes>"
      ]
     },
     "metadata": {},
     "output_type": "display_data"
    }
   ],
   "source": [
    "import matplotlib.pyplot as plt\n",
    "estudiantes_superior = data2017.groupby(\"niv_superior_hijo\").codperso.count()\n",
    "print(estudiantes_superior)\n",
    "estudiantes_superior.plot.pie(autopct='%1.1f%%', pctdistance=0.5, labeldistance=1.3, shadow=True, startangle=90, radius=0.9)\n",
    "plt.title(\"Distribución porcentual de estudiantes en educación superior\")"
   ]
  },
  {
   "cell_type": "markdown",
   "metadata": {},
   "source": [
    "#### Según sexo,  aproximadamente 210 mil hombres y 200 mil mujeres entre 17 y 35 años matriculadas en educación técnica, mientras que 439 mil hombres y 486 mil mujeres en educación universitaria. Ello quiere decir que la educación técnica sería predominantemente masculina, mientras que la universitaria, femenina."
   ]
  },
  {
   "cell_type": "code",
   "execution_count": 31,
   "metadata": {},
   "outputs": [
    {
     "data": {
      "text/html": [
       "<div>\n",
       "<style scoped>\n",
       "    .dataframe tbody tr th:only-of-type {\n",
       "        vertical-align: middle;\n",
       "    }\n",
       "\n",
       "    .dataframe tbody tr th {\n",
       "        vertical-align: top;\n",
       "    }\n",
       "\n",
       "    .dataframe thead th {\n",
       "        text-align: right;\n",
       "    }\n",
       "</style>\n",
       "<table border=\"1\" class=\"dataframe\">\n",
       "  <thead>\n",
       "    <tr style=\"text-align: right;\">\n",
       "      <th></th>\n",
       "      <th>niv_superior_hijo</th>\n",
       "      <th>sexo</th>\n",
       "      <th>facpob07</th>\n",
       "    </tr>\n",
       "  </thead>\n",
       "  <tbody>\n",
       "    <tr>\n",
       "      <th>0</th>\n",
       "      <td>superior no universitaria</td>\n",
       "      <td>hombre</td>\n",
       "      <td>210939.0</td>\n",
       "    </tr>\n",
       "    <tr>\n",
       "      <th>1</th>\n",
       "      <td>superior no universitaria</td>\n",
       "      <td>mujer</td>\n",
       "      <td>200060.6</td>\n",
       "    </tr>\n",
       "    <tr>\n",
       "      <th>2</th>\n",
       "      <td>superior universitaria</td>\n",
       "      <td>hombre</td>\n",
       "      <td>439976.1</td>\n",
       "    </tr>\n",
       "    <tr>\n",
       "      <th>3</th>\n",
       "      <td>superior universitaria</td>\n",
       "      <td>mujer</td>\n",
       "      <td>486278.7</td>\n",
       "    </tr>\n",
       "  </tbody>\n",
       "</table>\n",
       "</div>"
      ],
      "text/plain": [
       "           niv_superior_hijo    sexo  facpob07\n",
       "0  superior no universitaria  hombre  210939.0\n",
       "1  superior no universitaria   mujer  200060.6\n",
       "2     superior universitaria  hombre  439976.1\n",
       "3     superior universitaria   mujer  486278.7"
      ]
     },
     "execution_count": 31,
     "metadata": {},
     "output_type": "execute_result"
    }
   ],
   "source": [
    "por_sexo=data2017.groupby(['niv_superior_hijo','sexo']).facpob07.sum().round(1)\n",
    "por_sexo=por_sexo.reset_index()\n",
    "por_sexo"
   ]
  },
  {
   "cell_type": "markdown",
   "metadata": {},
   "source": [
    "#### Cuando se analiza por grupos de edades, la mayor parte de la población estudiantil se concentra hasta los 25 años, que es cercano a la edad normativa de estudios. Asimismo, se puede observar que durante esos grupos de edades la matrícula de mujeres es mayor a la de los hombres, tanto en la universitaria como en la técnica (salvo para éste último en el grupo de 20-25). En contraste, a medida que avanza la edad (grupos de edad mayores de 25 años),  la matrícula universitaria de mujeres cae con respecto a la de los hombres."
   ]
  },
  {
   "cell_type": "code",
   "execution_count": 32,
   "metadata": {},
   "outputs": [
    {
     "data": {
      "image/png": "[encoded data removed]",
      "text/plain": [
       "<Figure size 794.5x360 with 2 Axes>"
      ]
     },
     "metadata": {
      "needs_background": "light"
     },
     "output_type": "display_data"
    }
   ],
   "source": [
    "# se crea la variable por grupo de edades\n",
    "data2017['edad2']=data2017['edad']\n",
    "data2017['edad2']=pd.cut(data2017.edad, [17, 20, 25, 30, 35], labels=['hasta 20','De 20-25','De 25-30','De 30-35'])\n",
    "#se normaliza los números\n",
    "porsexyedad = (data2017.groupby(['niv_superior_hijo','sexo'])['edad2']\n",
    "                     .value_counts(normalize=True)\n",
    "                     .rename('percentage')\n",
    "                     .mul(100)\n",
    "                     .reset_index())\n",
    "p = sns.catplot(x=\"edad2\", y=\"percentage\", hue=\"sexo\", col= \"niv_superior_hijo\", data=porsexyedad, kind=\"bar\", order=['hasta 20','De 20-25','De 25-30','De 30-35'])\n",
    "\n"
   ]
  },
  {
   "cell_type": "markdown",
   "metadata": {},
   "source": [
    "### 2. Análisis exploratorio a partir del factor Ingresos en el hogar:\n",
    "#### Se observa que a mayor nivel del gasto del hogar, existe mayor población con nivel superior universitaria que con nivel no universitario. "
   ]
  },
  {
   "cell_type": "code",
   "execution_count": 33,
   "metadata": {
    "scrolled": true
   },
   "outputs": [
    {
     "data": {
      "text/plain": [
       "<seaborn.axisgrid.FacetGrid at 0x17402ebfa90>"
      ]
     },
     "execution_count": 33,
     "metadata": {},
     "output_type": "execute_result"
    },
    {
     "data": {
      "image/png": "[encoded data removed]",
      "text/plain": [
       "<Figure size 432x432 with 1 Axes>"
      ]
     },
     "metadata": {
      "needs_background": "light"
     },
     "output_type": "display_data"
    }
   ],
   "source": [
    "import seaborn as sns\n",
    "g = sns.catplot(data = data2017, x=\"niv_superior_hijo\", y=\"gashog2d\", \n",
    "                height=6, kind=\"bar\", palette=\"muted\")\n",
    "g.set_ylabels(\"Gasto del hogar (soles)\")\n",
    "g.set_xlabels(\"Nivel superior al que asiste\")"
   ]
  },
  {
   "cell_type": "markdown",
   "metadata": {},
   "source": [
    "#### Según los datos recogidos de pobreza, donde el hogar más pobre es \"pobre extremo\", y el menos pobre es \"no pobre\", se observa que a mayor nivel depobreza, cae drásticamente el número de matriculados. Asimismo, en los hogares más ricos, habría una gran número de estudiantes matrículados en educación universitaria y educación técnica."
   ]
  },
  {
   "cell_type": "code",
   "execution_count": 34,
   "metadata": {},
   "outputs": [
    {
     "data": {
      "text/plain": [
       "<seaborn.axisgrid.FacetGrid at 0x17402e40d30>"
      ]
     },
     "execution_count": 34,
     "metadata": {},
     "output_type": "execute_result"
    },
    {
     "data": {
      "image/png": "[encoded data removed]",
      "text/plain": [
       "<Figure size 907.2x432 with 3 Axes>"
      ]
     },
     "metadata": {
      "needs_background": "light"
     },
     "output_type": "display_data"
    }
   ],
   "source": [
    "g = sns.catplot(data = data2017, x=\"niv_superior_hijo\",\n",
    "                height=6, aspect=.7, kind=\"count\", palette=\"muted\", col=\"pobreza\")\n",
    "\n",
    "g.set_xlabels(\"Nivel superior al que asiste\")\n"
   ]
  },
  {
   "cell_type": "markdown",
   "metadata": {},
   "source": [
    "#### A nivel de estrato social, se observa que los estudiantes matriculados en educación universitaria provendrían de estratos más más ricos (como son \"A\" y \"B\") que en la educación técnica. O de estratos un poco más altos (estrato \"D\") en comparación a a los estratos \"E\" y \"rural\", donde predominaría la educación técnica."
   ]
  },
  {
   "cell_type": "code",
   "execution_count": 35,
   "metadata": {},
   "outputs": [
    {
     "data": {
      "text/plain": [
       "<matplotlib.axes._subplots.AxesSubplot at 0x17402df2e48>"
      ]
     },
     "execution_count": 35,
     "metadata": {},
     "output_type": "execute_result"
    },
    {
     "data": {
      "image/png": "[encoded data removed]",
      "text/plain": [
       "<Figure size 864x432 with 1 Axes>"
      ]
     },
     "metadata": {
      "needs_background": "light"
     },
     "output_type": "display_data"
    }
   ],
   "source": [
    "import dexplot as dxp\n",
    "dxp.aggplot(agg='estrsocial', data=data2017,  hue='niv_superior_hijo', normalize='niv_superior_hijo')"
   ]
  },
  {
   "cell_type": "markdown",
   "metadata": {},
   "source": [
    "#### Según sexo, y en términos normalizados, se observa que la matrícula universitaria de mujeres es más alta en casi todos los estratos sociales en comparación a la de los hombres. Sin embargo, en la educación técnica,la matrícula de hombres es más alta, mostrando las más altas diferencias en los sectores A y B. "
   ]
  },
  {
   "cell_type": "code",
   "execution_count": 36,
   "metadata": {},
   "outputs": [
    {
     "data": {
      "text/plain": [
       "(<Figure size 1440x432 with 6 Axes>,)"
      ]
     },
     "execution_count": 36,
     "metadata": {},
     "output_type": "execute_result"
    },
    {
     "data": {
      "image/png": "[encoded data removed]",
      "text/plain": [
       "<Figure size 1440x432 with 6 Axes>"
      ]
     },
     "metadata": {
      "needs_background": "light"
     },
     "output_type": "display_data"
    }
   ],
   "source": [
    "dxp.aggplot(agg='niv_superior_hijo', data=data2017, hue='sexo', kind='bar', \n",
    "            col='estrsocial', normalize=('sexo', 'estrsocial'))"
   ]
  },
  {
   "cell_type": "markdown",
   "metadata": {},
   "source": [
    "### 3. Análisis exploratorio a partir del nivel educativo de los padres (jefe o jefa de hogar):\n",
    "##### El gasto del hogar estaría relacionado positivamente con mayor nivel educativo del jefe del hogar"
   ]
  },
  {
   "cell_type": "code",
   "execution_count": 37,
   "metadata": {},
   "outputs": [
    {
     "data": {
      "text/plain": [
       "<seaborn.axisgrid.FacetGrid at 0x17402816be0>"
      ]
     },
     "execution_count": 37,
     "metadata": {},
     "output_type": "execute_result"
    },
    {
     "data": {
      "image/png": "[encoded data removed]",
      "text/plain": [
       "<Figure size 360x360 with 1 Axes>"
      ]
     },
     "metadata": {
      "needs_background": "light"
     },
     "output_type": "display_data"
    }
   ],
   "source": [
    "import seaborn as sns\n",
    "a=sns.catplot(data = data2017, x=\"cnivel_educat_jh\", y=\"gashog2d\", kind=\"bar\")\n",
    "a.set_xticklabels(['menos de superior', 'técnico', 'univeristario'])\n",
    "a.set_ylabels(\"Gasto del hogar (soles)\")\n",
    "a.set_xlabels(\"Nivel superior alcanzado por el jefe del hogar\")\n",
    "\n",
    "                  \n",
    "                  "
   ]
  },
  {
   "cell_type": "code",
   "execution_count": 38,
   "metadata": {
    "scrolled": true
   },
   "outputs": [
    {
     "data": {
      "text/html": [
       "<div>\n",
       "<style scoped>\n",
       "    .dataframe tbody tr th:only-of-type {\n",
       "        vertical-align: middle;\n",
       "    }\n",
       "\n",
       "    .dataframe tbody tr th {\n",
       "        vertical-align: top;\n",
       "    }\n",
       "\n",
       "    .dataframe thead th {\n",
       "        text-align: right;\n",
       "    }\n",
       "</style>\n",
       "<table border=\"1\" class=\"dataframe\">\n",
       "  <thead>\n",
       "    <tr style=\"text-align: right;\">\n",
       "      <th></th>\n",
       "      <th>conglome</th>\n",
       "      <th>vivienda</th>\n",
       "      <th>hogar</th>\n",
       "      <th>codperso</th>\n",
       "      <th>nivel_educat_hijo</th>\n",
       "      <th>cod_centro</th>\n",
       "      <th>centro_pub_priv</th>\n",
       "      <th>niv_superior_hijo</th>\n",
       "      <th>nivel_educat_jh</th>\n",
       "      <th>cnivel_educat_jh</th>\n",
       "      <th>...</th>\n",
       "      <th>mieho</th>\n",
       "      <th>sexo</th>\n",
       "      <th>edad</th>\n",
       "      <th>nacio_dist</th>\n",
       "      <th>gashog2d</th>\n",
       "      <th>mieperho</th>\n",
       "      <th>pobreza</th>\n",
       "      <th>estrsocial</th>\n",
       "      <th>edad2</th>\n",
       "      <th>nivel_educat_jh2</th>\n",
       "    </tr>\n",
       "  </thead>\n",
       "  <tbody>\n",
       "    <tr>\n",
       "      <th>0</th>\n",
       "      <td>5001</td>\n",
       "      <td>88</td>\n",
       "      <td>11</td>\n",
       "      <td>3</td>\n",
       "      <td>secundaria</td>\n",
       "      <td>NaN</td>\n",
       "      <td>estatal</td>\n",
       "      <td>NaN</td>\n",
       "      <td>primaria incompleta</td>\n",
       "      <td>1</td>\n",
       "      <td>...</td>\n",
       "      <td>si</td>\n",
       "      <td>hombre</td>\n",
       "      <td>18</td>\n",
       "      <td>nació en este distrito</td>\n",
       "      <td>29938.256674</td>\n",
       "      <td>6</td>\n",
       "      <td>no pobre</td>\n",
       "      <td>e</td>\n",
       "      <td>hasta 20</td>\n",
       "      <td>hasta prim</td>\n",
       "    </tr>\n",
       "    <tr>\n",
       "      <th>1</th>\n",
       "      <td>5001</td>\n",
       "      <td>88</td>\n",
       "      <td>11</td>\n",
       "      <td>4</td>\n",
       "      <td>NaN</td>\n",
       "      <td>160000076.0</td>\n",
       "      <td>estatal</td>\n",
       "      <td>NaN</td>\n",
       "      <td>primaria incompleta</td>\n",
       "      <td>1</td>\n",
       "      <td>...</td>\n",
       "      <td>si</td>\n",
       "      <td>mujer</td>\n",
       "      <td>30</td>\n",
       "      <td>nació en este distrito</td>\n",
       "      <td>29938.256674</td>\n",
       "      <td>6</td>\n",
       "      <td>no pobre</td>\n",
       "      <td>e</td>\n",
       "      <td>De 25-30</td>\n",
       "      <td>hasta prim</td>\n",
       "    </tr>\n",
       "    <tr>\n",
       "      <th>2</th>\n",
       "      <td>5002</td>\n",
       "      <td>34</td>\n",
       "      <td>11</td>\n",
       "      <td>2</td>\n",
       "      <td>superior universitaria</td>\n",
       "      <td>160000076.0</td>\n",
       "      <td>estatal</td>\n",
       "      <td>superior universitaria</td>\n",
       "      <td>secundaria completa</td>\n",
       "      <td>1</td>\n",
       "      <td>...</td>\n",
       "      <td>si</td>\n",
       "      <td>mujer</td>\n",
       "      <td>21</td>\n",
       "      <td>nació en este distrito</td>\n",
       "      <td>28569.724534</td>\n",
       "      <td>4</td>\n",
       "      <td>no pobre</td>\n",
       "      <td>d</td>\n",
       "      <td>De 20-25</td>\n",
       "      <td>hasta sec</td>\n",
       "    </tr>\n",
       "    <tr>\n",
       "      <th>3</th>\n",
       "      <td>5002</td>\n",
       "      <td>34</td>\n",
       "      <td>11</td>\n",
       "      <td>3</td>\n",
       "      <td>superior universitaria</td>\n",
       "      <td>160000076.0</td>\n",
       "      <td>estatal</td>\n",
       "      <td>superior universitaria</td>\n",
       "      <td>secundaria completa</td>\n",
       "      <td>1</td>\n",
       "      <td>...</td>\n",
       "      <td>si</td>\n",
       "      <td>mujer</td>\n",
       "      <td>20</td>\n",
       "      <td>nació en este distrito</td>\n",
       "      <td>28569.724534</td>\n",
       "      <td>4</td>\n",
       "      <td>no pobre</td>\n",
       "      <td>d</td>\n",
       "      <td>hasta 20</td>\n",
       "      <td>hasta sec</td>\n",
       "    </tr>\n",
       "    <tr>\n",
       "      <th>4</th>\n",
       "      <td>5002</td>\n",
       "      <td>34</td>\n",
       "      <td>11</td>\n",
       "      <td>4</td>\n",
       "      <td>superior universitaria</td>\n",
       "      <td>160000076.0</td>\n",
       "      <td>estatal</td>\n",
       "      <td>superior universitaria</td>\n",
       "      <td>secundaria completa</td>\n",
       "      <td>1</td>\n",
       "      <td>...</td>\n",
       "      <td>si</td>\n",
       "      <td>mujer</td>\n",
       "      <td>18</td>\n",
       "      <td>nació en este distrito</td>\n",
       "      <td>28569.724534</td>\n",
       "      <td>4</td>\n",
       "      <td>no pobre</td>\n",
       "      <td>d</td>\n",
       "      <td>hasta 20</td>\n",
       "      <td>hasta sec</td>\n",
       "    </tr>\n",
       "  </tbody>\n",
       "</table>\n",
       "<p>5 rows × 23 columns</p>\n",
       "</div>"
      ],
      "text/plain": [
       "   conglome  vivienda  hogar  codperso       nivel_educat_hijo   cod_centro  \\\n",
       "0      5001        88     11         3              secundaria          NaN   \n",
       "1      5001        88     11         4                     NaN  160000076.0   \n",
       "2      5002        34     11         2  superior universitaria  160000076.0   \n",
       "3      5002        34     11         3  superior universitaria  160000076.0   \n",
       "4      5002        34     11         4  superior universitaria  160000076.0   \n",
       "\n",
       "  centro_pub_priv       niv_superior_hijo      nivel_educat_jh  \\\n",
       "0         estatal                     NaN  primaria incompleta   \n",
       "1         estatal                     NaN  primaria incompleta   \n",
       "2         estatal  superior universitaria  secundaria completa   \n",
       "3         estatal  superior universitaria  secundaria completa   \n",
       "4         estatal  superior universitaria  secundaria completa   \n",
       "\n",
       "   cnivel_educat_jh       ...         mieho    sexo  edad  \\\n",
       "0                 1       ...            si  hombre    18   \n",
       "1                 1       ...            si   mujer    30   \n",
       "2                 1       ...            si   mujer    21   \n",
       "3                 1       ...            si   mujer    20   \n",
       "4                 1       ...            si   mujer    18   \n",
       "\n",
       "               nacio_dist      gashog2d  mieperho   pobreza  estrsocial  \\\n",
       "0  nació en este distrito  29938.256674         6  no pobre           e   \n",
       "1  nació en este distrito  29938.256674         6  no pobre           e   \n",
       "2  nació en este distrito  28569.724534         4  no pobre           d   \n",
       "3  nació en este distrito  28569.724534         4  no pobre           d   \n",
       "4  nació en este distrito  28569.724534         4  no pobre           d   \n",
       "\n",
       "      edad2 nivel_educat_jh2  \n",
       "0  hasta 20       hasta prim  \n",
       "1  De 25-30       hasta prim  \n",
       "2  De 20-25        hasta sec  \n",
       "3  hasta 20        hasta sec  \n",
       "4  hasta 20        hasta sec  \n",
       "\n",
       "[5 rows x 23 columns]"
      ]
     },
     "execution_count": 38,
     "metadata": {},
     "output_type": "execute_result"
    }
   ],
   "source": [
    "# se crea la variable con los niveles educativos por los padres (jefes de hogar)\n",
    "data2017['nivel_educat_jh2']=data2017['nivel_educat_jh']\n",
    "nivel_educat={'nivel_educat_jh2':{'sin nivel':'hasta prim','educación inicial':'hasta prim','primaria incompleta':'hasta prim','primaria completa':'hasta prim',\n",
    "                                  'secundaria incompleta':'hasta sec','secundaria completa':'hasta sec',\n",
    "                                  'superior no universitaria incompleta':'hasta técn','superior no universitaria completa':'hasta técn',\n",
    "                                  'superior universitaria incompleta':'hasta univ','superior universitaria completa':'hasta univ','postgrado universitario':'hasta univ'}}\n",
    "data2017.replace(nivel_educat,inplace=True)\n",
    "data2017.head()"
   ]
  },
  {
   "cell_type": "markdown",
   "metadata": {},
   "source": [
    "#### Cuando comparamos los niveles educativos alcanzados de los padres y el tipo de educación en el que están matriculados sus hijos, se observa que en el grupo de los matriculados en el nivel univeristario,  habría mayor proporción de padres que habrían alcanzado \"hasta nivel técnico\" o \"hasta nivel universitario\". Mientras que en el caso de los matriculados en educación técnica, los padres habrían alcanzado mayoritariamente \"Hasta primaria\" o \"Hasta secundaria\"."
   ]
  },
  {
   "cell_type": "code",
   "execution_count": 39,
   "metadata": {},
   "outputs": [
    {
     "data": {
      "text/plain": [
       "<matplotlib.axes._subplots.AxesSubplot at 0x17402d80c88>"
      ]
     },
     "execution_count": 39,
     "metadata": {},
     "output_type": "execute_result"
    },
    {
     "data": {
      "image/png": "[encoded data removed]",
      "text/plain": [
       "<Figure size 864x432 with 1 Axes>"
      ]
     },
     "metadata": {
      "needs_background": "light"
     },
     "output_type": "display_data"
    }
   ],
   "source": [
    "import dexplot as dxp\n",
    "dxp.aggplot(agg='nivel_educat_jh2', data=data2017,  hue='niv_superior_hijo', normalize='niv_superior_hijo')"
   ]
  },
  {
   "cell_type": "markdown",
   "metadata": {},
   "source": [
    "### 4. Análisis exploratorio a partir de otros factores:\n",
    "#### Se observa que en educación técnica, habría una mayor tasa de estudiantes que nacieron en el distrito, lo cual significaría que habría mayor probabilidad de estudiar en donde nacieron; mientras que en educación universitaria, habría mayor tasa de migración."
   ]
  },
  {
   "cell_type": "code",
   "execution_count": 40,
   "metadata": {},
   "outputs": [
    {
     "data": {
      "image/png": "[encoded data removed]",
      "text/plain": [
       "<Figure size 432x288 with 1 Axes>"
      ]
     },
     "metadata": {
      "needs_background": "light"
     },
     "output_type": "display_data"
    }
   ],
   "source": [
    "migra={'nacio_dist':{'nació en este distrito':'no migró','pase':'migró'}}\n",
    "data2017.replace(migra,inplace=True)\n",
    "g = sns.countplot(data = data2017, x=\"niv_superior_hijo\", hue=\"nacio_dist\", palette=\"Blues_d\" )\n"
   ]
  },
  {
   "cell_type": "code",
   "execution_count": 41,
   "metadata": {},
   "outputs": [],
   "source": [
    "matricula_niv_dist = data2017.groupby([\"niv_superior_hijo\", \"nacio_dist\",\"estrsocial\"]).agg({\"codperso\": \"sum\"})\n",
    "matricula_niv_dist=matricula_niv_dist.reset_index()\n",
    "matricula_niv_dist.rename(columns={'codperso':'matrícula'}, inplace=True)"
   ]
  },
  {
   "cell_type": "markdown",
   "metadata": {},
   "source": [
    "#### Se observa una tendencia de no migración en la mayoría de estratos por encima de las de migración tanto en la educación universitaria como técnica, lo cual indicaría que los estudiantes buscan un centro de estudios cercano a su lugar de origen. Sin embargo, en los estratos más ricos (A y B) de educacion universitaria, sí se evidenciaría una tendencia a la migración. "
   ]
  },
  {
   "cell_type": "code",
   "execution_count": 42,
   "metadata": {},
   "outputs": [
    {
     "data": {
      "text/plain": [
       "(<Figure size 864x432 with 2 Axes>,)"
      ]
     },
     "execution_count": 42,
     "metadata": {},
     "output_type": "execute_result"
    },
    {
     "data": {
      "image/png": "[encoded data removed]",
      "text/plain": [
       "<Figure size 864x432 with 2 Axes>"
      ]
     },
     "metadata": {
      "needs_background": "light"
     },
     "output_type": "display_data"
    }
   ],
   "source": [
    "dxp.aggplot(agg='matrícula', data=matricula_niv_dist, groupby='estrsocial', hue='nacio_dist', col= 'niv_superior_hijo', kind='line')"
   ]
  },
  {
   "cell_type": "markdown",
   "metadata": {},
   "source": [
    "#### A diferencia de los matriculados en educación técnica, en educación universitaria habría una mayor tasa de estudiantes provenientes de centros de estudios no estatales. "
   ]
  },
  {
   "cell_type": "code",
   "execution_count": 43,
   "metadata": {},
   "outputs": [
    {
     "data": {
      "image/png": "[encoded data removed]",
      "text/plain": [
       "<Figure size 432x288 with 1 Axes>"
      ]
     },
     "metadata": {
      "needs_background": "light"
     },
     "output_type": "display_data"
    }
   ],
   "source": [
    "g = sns.countplot(data = data2017, x=\"niv_superior_hijo\", hue=\"centro_pub_priv\", palette=\"muted\")\n"
   ]
  },
  {
   "cell_type": "code",
   "execution_count": 44,
   "metadata": {},
   "outputs": [],
   "source": [
    "matricula_niv_centro = data2017.groupby([\"niv_superior_hijo\", \"centro_pub_priv\",\"estrsocial\"]).agg({\"codperso\": \"sum\"})\n",
    "matricula_niv_centro=matricula_niv_centro.reset_index()\n",
    "matricula_niv_centro.rename(columns={'codperso':'matrícula'}, inplace=True)"
   ]
  },
  {
   "cell_type": "markdown",
   "metadata": {},
   "source": [
    "#### Según estrato social, se observa que por lo general tanto en educación universitaria como técnica, los estudiantes provienen de escuelas privadas, ya que hasta inclusive en estratdos de ingresos bajos como el \"D\", los estudiantes provenien de escuelas privadas. Lo cual podría explicar que habría una barrera para los provenientes de escuelas públicas, y oferta de universidades con precios medianamente accesibles para estratos de bajos recursos.  "
   ]
  },
  {
   "cell_type": "code",
   "execution_count": 45,
   "metadata": {},
   "outputs": [
    {
     "data": {
      "text/plain": [
       "(<Figure size 864x432 with 2 Axes>,)"
      ]
     },
     "execution_count": 45,
     "metadata": {},
     "output_type": "execute_result"
    },
    {
     "data": {
      "image/png": "[encoded data removed]",
      "text/plain": [
       "<Figure size 864x432 with 2 Axes>"
      ]
     },
     "metadata": {
      "needs_background": "light"
     },
     "output_type": "display_data"
    }
   ],
   "source": [
    "dxp.aggplot(agg='matrícula', data=matricula_niv_centro, groupby='estrsocial', hue='centro_pub_priv', col= 'niv_superior_hijo', kind='line')\n"
   ]
  },
  {
   "cell_type": "markdown",
   "metadata": {},
   "source": [
    "### 5. Análisis exploratorio a partir del factor Ubicación geográfica:\n"
   ]
  },
  {
   "cell_type": "code",
   "execution_count": 58,
   "metadata": {},
   "outputs": [],
   "source": [
    "import geopandas as gpd\n",
    "import geoplot.crs as gcrs\n",
    "import geoplot as gplt\n",
    "import matplotlib.pyplot as plt\n",
    "import numpy as np\n",
    "import pandas as pd\n",
    "import os\n",
    "\n",
    "data2017_dpto=pd.read_excel(\"https://www.dropbox.com/s/31yb8iiql9rn16u/data2017_dpto.xlsx?dl=1\", sheet_name='sheet1', index=False)\n",
    "\n"
   ]
  },
  {
   "cell_type": "code",
   "execution_count": 47,
   "metadata": {},
   "outputs": [
    {
     "data": {
      "text/html": [
       "<div>\n",
       "<style scoped>\n",
       "    .dataframe tbody tr th:only-of-type {\n",
       "        vertical-align: middle;\n",
       "    }\n",
       "\n",
       "    .dataframe tbody tr th {\n",
       "        vertical-align: top;\n",
       "    }\n",
       "\n",
       "    .dataframe thead th {\n",
       "        text-align: right;\n",
       "    }\n",
       "</style>\n",
       "<table border=\"1\" class=\"dataframe\">\n",
       "  <thead>\n",
       "    <tr style=\"text-align: right;\">\n",
       "      <th></th>\n",
       "      <th>dominio</th>\n",
       "      <th>niv_superior_hijo</th>\n",
       "      <th>codperso</th>\n",
       "    </tr>\n",
       "  </thead>\n",
       "  <tbody>\n",
       "    <tr>\n",
       "      <th>0</th>\n",
       "      <td>costa centro</td>\n",
       "      <td>superior no universitaria</td>\n",
       "      <td>121</td>\n",
       "    </tr>\n",
       "    <tr>\n",
       "      <th>1</th>\n",
       "      <td>costa centro</td>\n",
       "      <td>superior universitaria</td>\n",
       "      <td>365</td>\n",
       "    </tr>\n",
       "    <tr>\n",
       "      <th>2</th>\n",
       "      <td>costa norte</td>\n",
       "      <td>superior no universitaria</td>\n",
       "      <td>208</td>\n",
       "    </tr>\n",
       "    <tr>\n",
       "      <th>3</th>\n",
       "      <td>costa norte</td>\n",
       "      <td>superior universitaria</td>\n",
       "      <td>445</td>\n",
       "    </tr>\n",
       "    <tr>\n",
       "      <th>4</th>\n",
       "      <td>costa sur</td>\n",
       "      <td>superior no universitaria</td>\n",
       "      <td>89</td>\n",
       "    </tr>\n",
       "    <tr>\n",
       "      <th>5</th>\n",
       "      <td>costa sur</td>\n",
       "      <td>superior universitaria</td>\n",
       "      <td>270</td>\n",
       "    </tr>\n",
       "    <tr>\n",
       "      <th>6</th>\n",
       "      <td>lima metropolitana</td>\n",
       "      <td>superior no universitaria</td>\n",
       "      <td>201</td>\n",
       "    </tr>\n",
       "    <tr>\n",
       "      <th>7</th>\n",
       "      <td>lima metropolitana</td>\n",
       "      <td>superior universitaria</td>\n",
       "      <td>529</td>\n",
       "    </tr>\n",
       "    <tr>\n",
       "      <th>8</th>\n",
       "      <td>selva</td>\n",
       "      <td>superior no universitaria</td>\n",
       "      <td>265</td>\n",
       "    </tr>\n",
       "    <tr>\n",
       "      <th>9</th>\n",
       "      <td>selva</td>\n",
       "      <td>superior universitaria</td>\n",
       "      <td>467</td>\n",
       "    </tr>\n",
       "    <tr>\n",
       "      <th>10</th>\n",
       "      <td>sierra centro</td>\n",
       "      <td>superior no universitaria</td>\n",
       "      <td>231</td>\n",
       "    </tr>\n",
       "    <tr>\n",
       "      <th>11</th>\n",
       "      <td>sierra centro</td>\n",
       "      <td>superior universitaria</td>\n",
       "      <td>518</td>\n",
       "    </tr>\n",
       "    <tr>\n",
       "      <th>12</th>\n",
       "      <td>sierra norte</td>\n",
       "      <td>superior no universitaria</td>\n",
       "      <td>58</td>\n",
       "    </tr>\n",
       "    <tr>\n",
       "      <th>13</th>\n",
       "      <td>sierra norte</td>\n",
       "      <td>superior universitaria</td>\n",
       "      <td>147</td>\n",
       "    </tr>\n",
       "    <tr>\n",
       "      <th>14</th>\n",
       "      <td>sierra sur</td>\n",
       "      <td>superior no universitaria</td>\n",
       "      <td>219</td>\n",
       "    </tr>\n",
       "    <tr>\n",
       "      <th>15</th>\n",
       "      <td>sierra sur</td>\n",
       "      <td>superior universitaria</td>\n",
       "      <td>456</td>\n",
       "    </tr>\n",
       "  </tbody>\n",
       "</table>\n",
       "</div>"
      ],
      "text/plain": [
       "               dominio          niv_superior_hijo  codperso\n",
       "0         costa centro  superior no universitaria       121\n",
       "1         costa centro     superior universitaria       365\n",
       "2          costa norte  superior no universitaria       208\n",
       "3          costa norte     superior universitaria       445\n",
       "4            costa sur  superior no universitaria        89\n",
       "5            costa sur     superior universitaria       270\n",
       "6   lima metropolitana  superior no universitaria       201\n",
       "7   lima metropolitana     superior universitaria       529\n",
       "8                selva  superior no universitaria       265\n",
       "9                selva     superior universitaria       467\n",
       "10       sierra centro  superior no universitaria       231\n",
       "11       sierra centro     superior universitaria       518\n",
       "12        sierra norte  superior no universitaria        58\n",
       "13        sierra norte     superior universitaria       147\n",
       "14          sierra sur  superior no universitaria       219\n",
       "15          sierra sur     superior universitaria       456"
      ]
     },
     "execution_count": 47,
     "metadata": {},
     "output_type": "execute_result"
    }
   ],
   "source": [
    "estudiantessup_dominio = data2017.groupby([\"dominio\",\"niv_superior_hijo\"]).codperso.count()\n",
    "estudiantessup_dominio = estudiantessup_dominio.reset_index()\n",
    "estudiantessup_dominio"
   ]
  },
  {
   "cell_type": "code",
   "execution_count": 48,
   "metadata": {},
   "outputs": [],
   "source": [
    "conditions  = [(data2017['dominio']=='costa centro') | (data2017['dominio']=='costa norte')| (data2017['dominio']=='costa sur'),\n",
    "               (data2017['dominio']=='sierra centro') | (data2017['dominio']=='sierra norte')| (data2017['dominio']=='sierra sur'),\n",
    "               (data2017['dominio']=='selva'),\n",
    "              (data2017['dominio']=='lima metropolitana')]\n",
    "choices     = ['costa','sierra','selva','lima metropolitana']\n",
    "data2017[\"dominio2\"] = np.select(conditions, choices, default=data2017['dominio'])\n"
   ]
  },
  {
   "cell_type": "markdown",
   "metadata": {},
   "source": [
    "#### Cuando se analiza por área geográfica, se observa que la mayor parte proviene de las áreas de la sierra y la costa, tanto para el nivel universitario como para el técnico."
   ]
  },
  {
   "cell_type": "code",
   "execution_count": 49,
   "metadata": {},
   "outputs": [
    {
     "data": {
      "text/plain": [
       "<Figure size 1080x2160 with 0 Axes>"
      ]
     },
     "metadata": {},
     "output_type": "display_data"
    },
    {
     "data": {
      "image/png": "[encoded data removed]",
      "text/plain": [
       "<Figure size 720x360 with 2 Axes>"
      ]
     },
     "metadata": {
      "needs_background": "light"
     },
     "output_type": "display_data"
    }
   ],
   "source": [
    "\n",
    "import seaborn as sns\n",
    "plt.figure(figsize=(15,30))\n",
    "g = sns.catplot(data = data2017, kind = \"count\", x=\"dominio2\", col=\"niv_superior_hijo\",order=data2017.dominio2.value_counts().index ,palette=\"muted\")\n",
    "\n"
   ]
  },
  {
   "cell_type": "markdown",
   "metadata": {},
   "source": [
    "#### Sin embargo, en términos normalizados a uno, se puede observar si el área geográfica de origen puede estar relacionado o influenciar en llevar estudios universitarios o técnicos. Al respecto, habría indicios para señalar que hay mayor probabilidad de que los estudiantes provenientes de la costa y Lima Metropolitana estudien en una universidad que en un instituto técnico. Mientras que los provenientes de la selva y sierra, mayor probabilidad de cursar estudios técnicos."
   ]
  },
  {
   "cell_type": "code",
   "execution_count": 50,
   "metadata": {},
   "outputs": [
    {
     "data": {
      "text/plain": [
       "<matplotlib.axes._subplots.AxesSubplot at 0x1740740c908>"
      ]
     },
     "execution_count": 50,
     "metadata": {},
     "output_type": "execute_result"
    },
    {
     "data": {
      "image/png": "[encoded data removed]",
      "text/plain": [
       "<Figure size 864x432 with 1 Axes>"
      ]
     },
     "metadata": {
      "needs_background": "light"
     },
     "output_type": "display_data"
    }
   ],
   "source": [
    "dxp.aggplot(agg='dominio2', data=data2017,  hue='niv_superior_hijo', normalize='niv_superior_hijo')"
   ]
  },
  {
   "cell_type": "code",
   "execution_count": 51,
   "metadata": {},
   "outputs": [
    {
     "data": {
      "text/html": [
       "<div>\n",
       "<style scoped>\n",
       "    .dataframe tbody tr th:only-of-type {\n",
       "        vertical-align: middle;\n",
       "    }\n",
       "\n",
       "    .dataframe tbody tr th {\n",
       "        vertical-align: top;\n",
       "    }\n",
       "\n",
       "    .dataframe thead th {\n",
       "        text-align: right;\n",
       "    }\n",
       "</style>\n",
       "<table border=\"1\" class=\"dataframe\">\n",
       "  <thead>\n",
       "    <tr style=\"text-align: right;\">\n",
       "      <th></th>\n",
       "      <th>NOMBDEP</th>\n",
       "      <th>superior no universitaria</th>\n",
       "      <th>superior universitaria</th>\n",
       "      <th>matricula</th>\n",
       "    </tr>\n",
       "  </thead>\n",
       "  <tbody>\n",
       "    <tr>\n",
       "      <th>0</th>\n",
       "      <td>AMAZONAS</td>\n",
       "      <td>39</td>\n",
       "      <td>125</td>\n",
       "      <td>164</td>\n",
       "    </tr>\n",
       "    <tr>\n",
       "      <th>1</th>\n",
       "      <td>ANCASH</td>\n",
       "      <td>51</td>\n",
       "      <td>140</td>\n",
       "      <td>191</td>\n",
       "    </tr>\n",
       "    <tr>\n",
       "      <th>2</th>\n",
       "      <td>APURIMAC</td>\n",
       "      <td>20</td>\n",
       "      <td>74</td>\n",
       "      <td>94</td>\n",
       "    </tr>\n",
       "    <tr>\n",
       "      <th>3</th>\n",
       "      <td>AREQUIPA</td>\n",
       "      <td>91</td>\n",
       "      <td>174</td>\n",
       "      <td>265</td>\n",
       "    </tr>\n",
       "    <tr>\n",
       "      <th>4</th>\n",
       "      <td>AYACUCHO</td>\n",
       "      <td>35</td>\n",
       "      <td>71</td>\n",
       "      <td>106</td>\n",
       "    </tr>\n",
       "    <tr>\n",
       "      <th>5</th>\n",
       "      <td>CAJAMARCA</td>\n",
       "      <td>30</td>\n",
       "      <td>66</td>\n",
       "      <td>96</td>\n",
       "    </tr>\n",
       "    <tr>\n",
       "      <th>6</th>\n",
       "      <td>CALLAO</td>\n",
       "      <td>54</td>\n",
       "      <td>100</td>\n",
       "      <td>154</td>\n",
       "    </tr>\n",
       "    <tr>\n",
       "      <th>7</th>\n",
       "      <td>CUSCO</td>\n",
       "      <td>79</td>\n",
       "      <td>131</td>\n",
       "      <td>210</td>\n",
       "    </tr>\n",
       "    <tr>\n",
       "      <th>8</th>\n",
       "      <td>HUANCAVELICA</td>\n",
       "      <td>49</td>\n",
       "      <td>55</td>\n",
       "      <td>104</td>\n",
       "    </tr>\n",
       "    <tr>\n",
       "      <th>9</th>\n",
       "      <td>HUANUCO</td>\n",
       "      <td>37</td>\n",
       "      <td>98</td>\n",
       "      <td>135</td>\n",
       "    </tr>\n",
       "    <tr>\n",
       "      <th>10</th>\n",
       "      <td>ICA</td>\n",
       "      <td>72</td>\n",
       "      <td>181</td>\n",
       "      <td>253</td>\n",
       "    </tr>\n",
       "    <tr>\n",
       "      <th>11</th>\n",
       "      <td>JUNIN</td>\n",
       "      <td>68</td>\n",
       "      <td>172</td>\n",
       "      <td>240</td>\n",
       "    </tr>\n",
       "    <tr>\n",
       "      <th>12</th>\n",
       "      <td>LA LIBERTAD</td>\n",
       "      <td>60</td>\n",
       "      <td>133</td>\n",
       "      <td>193</td>\n",
       "    </tr>\n",
       "    <tr>\n",
       "      <th>13</th>\n",
       "      <td>LAMBAYEQUE</td>\n",
       "      <td>60</td>\n",
       "      <td>145</td>\n",
       "      <td>205</td>\n",
       "    </tr>\n",
       "    <tr>\n",
       "      <th>14</th>\n",
       "      <td>LIMA</td>\n",
       "      <td>190</td>\n",
       "      <td>569</td>\n",
       "      <td>759</td>\n",
       "    </tr>\n",
       "    <tr>\n",
       "      <th>15</th>\n",
       "      <td>LORETO</td>\n",
       "      <td>58</td>\n",
       "      <td>96</td>\n",
       "      <td>154</td>\n",
       "    </tr>\n",
       "    <tr>\n",
       "      <th>16</th>\n",
       "      <td>MADRE DE DIOS</td>\n",
       "      <td>30</td>\n",
       "      <td>48</td>\n",
       "      <td>78</td>\n",
       "    </tr>\n",
       "    <tr>\n",
       "      <th>17</th>\n",
       "      <td>MOQUEGUA</td>\n",
       "      <td>49</td>\n",
       "      <td>106</td>\n",
       "      <td>155</td>\n",
       "    </tr>\n",
       "    <tr>\n",
       "      <th>18</th>\n",
       "      <td>PASCO</td>\n",
       "      <td>39</td>\n",
       "      <td>93</td>\n",
       "      <td>132</td>\n",
       "    </tr>\n",
       "    <tr>\n",
       "      <th>19</th>\n",
       "      <td>PIURA</td>\n",
       "      <td>75</td>\n",
       "      <td>138</td>\n",
       "      <td>213</td>\n",
       "    </tr>\n",
       "    <tr>\n",
       "      <th>20</th>\n",
       "      <td>PUNO</td>\n",
       "      <td>40</td>\n",
       "      <td>102</td>\n",
       "      <td>142</td>\n",
       "    </tr>\n",
       "    <tr>\n",
       "      <th>21</th>\n",
       "      <td>SAN MARTIN</td>\n",
       "      <td>50</td>\n",
       "      <td>94</td>\n",
       "      <td>144</td>\n",
       "    </tr>\n",
       "    <tr>\n",
       "      <th>22</th>\n",
       "      <td>TACNA</td>\n",
       "      <td>44</td>\n",
       "      <td>170</td>\n",
       "      <td>214</td>\n",
       "    </tr>\n",
       "    <tr>\n",
       "      <th>23</th>\n",
       "      <td>TUMBES</td>\n",
       "      <td>38</td>\n",
       "      <td>75</td>\n",
       "      <td>113</td>\n",
       "    </tr>\n",
       "    <tr>\n",
       "      <th>24</th>\n",
       "      <td>UCAYALI</td>\n",
       "      <td>43</td>\n",
       "      <td>82</td>\n",
       "      <td>125</td>\n",
       "    </tr>\n",
       "  </tbody>\n",
       "</table>\n",
       "</div>"
      ],
      "text/plain": [
       "          NOMBDEP  superior no universitaria  superior universitaria  \\\n",
       "0        AMAZONAS                         39                     125   \n",
       "1          ANCASH                         51                     140   \n",
       "2        APURIMAC                         20                      74   \n",
       "3        AREQUIPA                         91                     174   \n",
       "4        AYACUCHO                         35                      71   \n",
       "5       CAJAMARCA                         30                      66   \n",
       "6          CALLAO                         54                     100   \n",
       "7           CUSCO                         79                     131   \n",
       "8    HUANCAVELICA                         49                      55   \n",
       "9         HUANUCO                         37                      98   \n",
       "10            ICA                         72                     181   \n",
       "11          JUNIN                         68                     172   \n",
       "12    LA LIBERTAD                         60                     133   \n",
       "13     LAMBAYEQUE                         60                     145   \n",
       "14           LIMA                        190                     569   \n",
       "15         LORETO                         58                      96   \n",
       "16  MADRE DE DIOS                         30                      48   \n",
       "17       MOQUEGUA                         49                     106   \n",
       "18          PASCO                         39                      93   \n",
       "19          PIURA                         75                     138   \n",
       "20           PUNO                         40                     102   \n",
       "21     SAN MARTIN                         50                      94   \n",
       "22          TACNA                         44                     170   \n",
       "23         TUMBES                         38                      75   \n",
       "24        UCAYALI                         43                      82   \n",
       "\n",
       "    matricula  \n",
       "0         164  \n",
       "1         191  \n",
       "2          94  \n",
       "3         265  \n",
       "4         106  \n",
       "5          96  \n",
       "6         154  \n",
       "7         210  \n",
       "8         104  \n",
       "9         135  \n",
       "10        253  \n",
       "11        240  \n",
       "12        193  \n",
       "13        205  \n",
       "14        759  \n",
       "15        154  \n",
       "16         78  \n",
       "17        155  \n",
       "18        132  \n",
       "19        213  \n",
       "20        142  \n",
       "21        144  \n",
       "22        214  \n",
       "23        113  \n",
       "24        125  "
      ]
     },
     "execution_count": 51,
     "metadata": {},
     "output_type": "execute_result"
    }
   ],
   "source": [
    "data2017_dpto['matricula']=data2017_dpto['superior no universitaria']+data2017_dpto['superior universitaria']\n",
    "data2017_dpto"
   ]
  },
  {
   "cell_type": "markdown",
   "metadata": {},
   "source": [
    "#### Se observa una matrícula muy alta en el departamento de Lima en comparación a otros departamentos."
   ]
  },
  {
   "cell_type": "code",
   "execution_count": 52,
   "metadata": {},
   "outputs": [
    {
     "data": {
      "text/plain": [
       "Text(0.5, 1.0, 'Matrícula Educación Superior por Dpto, 2017')"
      ]
     },
     "execution_count": 52,
     "metadata": {},
     "output_type": "execute_result"
    },
    {
     "data": {
      "image/png": "[encoded data removed]",
      "text/plain": [
       "<Figure size 842.4x595.44 with 1 Axes>"
      ]
     },
     "metadata": {
      "needs_background": "light"
     },
     "output_type": "display_data"
    }
   ],
   "source": [
    "fig, ax = plt.subplots()\n",
    "# the size of A4 paper\n",
    "fig.set_size_inches(11.7, 8.27)\n",
    "ax = sns.swarmplot(y=\"NOMBDEP\", x=\"matricula\", data=data2017_dpto)\n",
    "plt.title(\"Matrícula Educación Superior por Dpto, 2017\")\n",
    "#fig.savefig('example.png')"
   ]
  },
  {
   "cell_type": "code",
   "execution_count": 66,
   "metadata": {},
   "outputs": [
    {
     "data": {
      "text/html": [
       "<div>\n",
       "<style scoped>\n",
       "    .dataframe tbody tr th:only-of-type {\n",
       "        vertical-align: middle;\n",
       "    }\n",
       "\n",
       "    .dataframe tbody tr th {\n",
       "        vertical-align: top;\n",
       "    }\n",
       "\n",
       "    .dataframe thead th {\n",
       "        text-align: right;\n",
       "    }\n",
       "</style>\n",
       "<table border=\"1\" class=\"dataframe\">\n",
       "  <thead>\n",
       "    <tr style=\"text-align: right;\">\n",
       "      <th></th>\n",
       "      <th>NOMBDEP</th>\n",
       "      <th>COUNT</th>\n",
       "      <th>FIRST_IDDP</th>\n",
       "      <th>HECTARES</th>\n",
       "      <th>geometry</th>\n",
       "      <th>superior no universitaria</th>\n",
       "      <th>superior universitaria</th>\n",
       "      <th>_merge</th>\n",
       "    </tr>\n",
       "  </thead>\n",
       "  <tbody>\n",
       "    <tr>\n",
       "      <th>0</th>\n",
       "      <td>AMAZONAS</td>\n",
       "      <td>84</td>\n",
       "      <td>01</td>\n",
       "      <td>3930646.567</td>\n",
       "      <td>POLYGON ((212372.2836290381 9332652.146199502,...</td>\n",
       "      <td>39</td>\n",
       "      <td>125</td>\n",
       "      <td>both</td>\n",
       "    </tr>\n",
       "    <tr>\n",
       "      <th>1</th>\n",
       "      <td>ANCASH</td>\n",
       "      <td>166</td>\n",
       "      <td>02</td>\n",
       "      <td>3596224.600</td>\n",
       "      <td>POLYGON ((150666.940918701 9058816.781521223, ...</td>\n",
       "      <td>51</td>\n",
       "      <td>140</td>\n",
       "      <td>both</td>\n",
       "    </tr>\n",
       "    <tr>\n",
       "      <th>2</th>\n",
       "      <td>APURIMAC</td>\n",
       "      <td>80</td>\n",
       "      <td>03</td>\n",
       "      <td>2111415.170</td>\n",
       "      <td>POLYGON ((781311.0345077661 8490376.525884271,...</td>\n",
       "      <td>20</td>\n",
       "      <td>74</td>\n",
       "      <td>both</td>\n",
       "    </tr>\n",
       "    <tr>\n",
       "      <th>3</th>\n",
       "      <td>AREQUIPA</td>\n",
       "      <td>109</td>\n",
       "      <td>04</td>\n",
       "      <td>6325588.935</td>\n",
       "      <td>POLYGON ((518459.3050167466 8278798.441885059,...</td>\n",
       "      <td>91</td>\n",
       "      <td>174</td>\n",
       "      <td>both</td>\n",
       "    </tr>\n",
       "    <tr>\n",
       "      <th>4</th>\n",
       "      <td>AYACUCHO</td>\n",
       "      <td>111</td>\n",
       "      <td>05</td>\n",
       "      <td>4350381.783</td>\n",
       "      <td>POLYGON ((571155.261461679 8654149.130620057, ...</td>\n",
       "      <td>35</td>\n",
       "      <td>71</td>\n",
       "      <td>both</td>\n",
       "    </tr>\n",
       "  </tbody>\n",
       "</table>\n",
       "</div>"
      ],
      "text/plain": [
       "    NOMBDEP  COUNT FIRST_IDDP     HECTARES  \\\n",
       "0  AMAZONAS     84         01  3930646.567   \n",
       "1    ANCASH    166         02  3596224.600   \n",
       "2  APURIMAC     80         03  2111415.170   \n",
       "3  AREQUIPA    109         04  6325588.935   \n",
       "4  AYACUCHO    111         05  4350381.783   \n",
       "\n",
       "                                            geometry  \\\n",
       "0  POLYGON ((212372.2836290381 9332652.146199502,...   \n",
       "1  POLYGON ((150666.940918701 9058816.781521223, ...   \n",
       "2  POLYGON ((781311.0345077661 8490376.525884271,...   \n",
       "3  POLYGON ((518459.3050167466 8278798.441885059,...   \n",
       "4  POLYGON ((571155.261461679 8654149.130620057, ...   \n",
       "\n",
       "   superior no universitaria  superior universitaria _merge  \n",
       "0                         39                     125   both  \n",
       "1                         51                     140   both  \n",
       "2                         20                      74   both  \n",
       "3                         91                     174   both  \n",
       "4                         35                      71   both  "
      ]
     },
     "execution_count": 66,
     "metadata": {},
     "output_type": "execute_result"
    }
   ],
   "source": [
    "# se agregan los formatos shapes de los limites geograficos\n",
    "shp = gpd.GeoDataFrame.from_file('BAS_LIM_DEPARTAMENTO.shp')\n",
    "#shp = gpd.GeoDataFrame.from_file('https://www.dropbox.com/s/hqwkt691qaz9x0n/BAS_LIM_DEPARTAMENTO.shp?dl=1')\n",
    "#shp2=pd.read_excel(\"https://www.dropbox.com/s/8g20ur2yga97tny/shp2.xlsx?dl=1\", sheet_name='sheet1', index=False)\n",
    "shp2=pd.merge(shp,data2017_dpto, how='outer',on=['NOMBDEP'],indicator=True,left_index=True)\n",
    "shp2.head()\n"
   ]
  },
  {
   "cell_type": "markdown",
   "metadata": {},
   "source": [
    "#### Se encontró que los cinco departamentos que concentran la mayor cantidad de matrícula en educación técnica, superan los 68 estudiantes por departamento, y estarían ubicados en el centro-sur y selva (norte)"
   ]
  },
  {
   "cell_type": "code",
   "execution_count": 67,
   "metadata": {},
   "outputs": [
    {
     "data": {
      "text/plain": [
       "Text(0.5, 1.0, 'Matrícula Educación Técnica por Dpto, 2017')"
      ]
     },
     "execution_count": 67,
     "metadata": {},
     "output_type": "execute_result"
    },
    {
     "data": {
      "image/png": "[encoded data removed]",
      "text/plain": [
       "<Figure size 1440x720 with 1 Axes>"
      ]
     },
     "metadata": {
      "needs_background": "light"
     },
     "output_type": "display_data"
    }
   ],
   "source": [
    "fig, ax = plt.subplots(1, figsize=(20,10))\n",
    "shp2.plot(ax=ax,column='superior no universitaria', cmap='Purples', legend=True, scheme='quantiles')\n",
    "_ = ax.axis('off')\n",
    "ax.set_title(\"Matrícula Educación Técnica por Dpto, 2017\")"
   ]
  },
  {
   "cell_type": "markdown",
   "metadata": {},
   "source": [
    "#### Mientras que en el caso de educación universitaria, los cinco departamentos que concentran la mayor cantidad de matrícula  superan los 150 estudiantes por departamento, y estarían ubicados en el centro - norte y  sur."
   ]
  },
  {
   "cell_type": "code",
   "execution_count": 68,
   "metadata": {},
   "outputs": [
    {
     "data": {
      "text/plain": [
       "Text(0.5, 1.0, 'Matrícula Educación Universitaria por Dpto, 2017')"
      ]
     },
     "execution_count": 68,
     "metadata": {},
     "output_type": "execute_result"
    },
    {
     "data": {
      "image/png": "[encoded data removed]",
      "text/plain": [
       "<Figure size 1440x720 with 1 Axes>"
      ]
     },
     "metadata": {
      "needs_background": "light"
     },
     "output_type": "display_data"
    }
   ],
   "source": [
    "fig, ax = plt.subplots(1, figsize=(20,10))\n",
    "shp2.plot(ax=ax,column='superior universitaria', cmap='Blues', legend=True, scheme='quantiles')\n",
    "_ = ax.axis('off')\n",
    "ax.set_title(\"Matrícula Educación Universitaria por Dpto, 2017\")\n",
    "\n"
   ]
  },
  {
   "cell_type": "markdown",
   "metadata": {},
   "source": [
    "### 6. Análisis de la oferta educativa, según si es privada o pública"
   ]
  },
  {
   "cell_type": "code",
   "execution_count": 69,
   "metadata": {},
   "outputs": [],
   "source": [
    "import numpy as np\n",
    "import pandas as pd\n",
    "import os\n",
    "import seaborn as sns\n",
    "\n",
    "os.getcwd()\n",
    "path=\"C:/Users/claud/Documents/master_data_science/2.herramientas/modulo_ipython/data_python/bases\"\n",
    "os.chdir(path)\n",
    "\n",
    "data2=pd.read_excel(\"data2.xlsx\", sheet_name='sheet1', index=False)\n",
    "data3=pd.read_excel(\"data3.xlsx\", sheet_name='sheet1', index=False)\n",
    "data_costos=pd.read_excel(\"data_costos.xlsx\", sheet_name='sheet1', index=False)"
   ]
  },
  {
   "cell_type": "code",
   "execution_count": 70,
   "metadata": {},
   "outputs": [
    {
     "data": {
      "text/html": [
       "<div>\n",
       "<style scoped>\n",
       "    .dataframe tbody tr th:only-of-type {\n",
       "        vertical-align: middle;\n",
       "    }\n",
       "\n",
       "    .dataframe tbody tr th {\n",
       "        vertical-align: top;\n",
       "    }\n",
       "\n",
       "    .dataframe thead th {\n",
       "        text-align: right;\n",
       "    }\n",
       "</style>\n",
       "<table border=\"1\" class=\"dataframe\">\n",
       "  <thead>\n",
       "    <tr style=\"text-align: right;\">\n",
       "      <th>codigo1</th>\n",
       "      <th>IEST Priv.</th>\n",
       "      <th>IEST Púb.</th>\n",
       "      <th>U. Priv</th>\n",
       "      <th>U. Púb.</th>\n",
       "    </tr>\n",
       "    <tr>\n",
       "      <th>niv2</th>\n",
       "      <th></th>\n",
       "      <th></th>\n",
       "      <th></th>\n",
       "      <th></th>\n",
       "    </tr>\n",
       "  </thead>\n",
       "  <tbody>\n",
       "    <tr>\n",
       "      <th>superior no universitaria</th>\n",
       "      <td>842.0</td>\n",
       "      <td>344.0</td>\n",
       "      <td>NaN</td>\n",
       "      <td>NaN</td>\n",
       "    </tr>\n",
       "    <tr>\n",
       "      <th>superior universitaria</th>\n",
       "      <td>NaN</td>\n",
       "      <td>NaN</td>\n",
       "      <td>1772.0</td>\n",
       "      <td>1338.0</td>\n",
       "    </tr>\n",
       "  </tbody>\n",
       "</table>\n",
       "</div>"
      ],
      "text/plain": [
       "codigo1                    IEST Priv.  IEST Púb.  U. Priv  U. Púb.\n",
       "niv2                                                              \n",
       "superior no universitaria       842.0      344.0      NaN      NaN\n",
       "superior universitaria            NaN        NaN   1772.0   1338.0"
      ]
     },
     "execution_count": 70,
     "metadata": {},
     "output_type": "execute_result"
    }
   ],
   "source": [
    "data3.pivot_table(\"ubigeo\",index=[\"niv2\"],columns=[\"codigo1\"],aggfunc=\"count\")"
   ]
  },
  {
   "cell_type": "markdown",
   "metadata": {},
   "source": [
    "#### Se observa que la mayor parte de la matrícula superior se concentra en universidades privadas (41%), seguido de las universidades públicas (31%), los institutos privados (19%) y los institutos públicos (8%)"
   ]
  },
  {
   "cell_type": "code",
   "execution_count": 71,
   "metadata": {},
   "outputs": [
    {
     "data": {
      "text/plain": [
       "Text(0.5, 1.0, 'Distribución porcentual de estudiantes en educación superior , por tipo de institución')"
      ]
     },
     "execution_count": 71,
     "metadata": {},
     "output_type": "execute_result"
    },
    {
     "data": {
      "image/png": "[encoded data removed]",
      "text/plain": [
       "<Figure size 432x288 with 1 Axes>"
      ]
     },
     "metadata": {},
     "output_type": "display_data"
    }
   ],
   "source": [
    "data3.dropna(subset=[\"niv2\"], inplace=True)\n",
    "import matplotlib.pyplot as plt\n",
    "estudiantes_centro = data3.groupby(\"codigo1\").niv_superior_hijo.count()\n",
    "estudiantes_centro\n",
    "estudiantes_centro.plot.pie(autopct='%1.1f%%', pctdistance=0.5, labeldistance=1.3, shadow=True, startangle=90, radius=0.9)\n",
    "plt.title(\"Distribución porcentual de estudiantes en educación superior , por tipo de institución\")"
   ]
  },
  {
   "cell_type": "markdown",
   "metadata": {},
   "source": [
    "#### Se observa una alta presencia de la educacion privada en los estratos sociales más altos (A y B), pero sigue siendo importante también en los  estratos sociales más bajos (D y E), donde la matrícula en institutos y universidades privadas estaría por encima del 40%."
   ]
  },
  {
   "cell_type": "code",
   "execution_count": 72,
   "metadata": {},
   "outputs": [
    {
     "data": {
      "text/plain": [
       "(<Figure size 1440x432 with 6 Axes>,)"
      ]
     },
     "execution_count": 72,
     "metadata": {},
     "output_type": "execute_result"
    },
    {
     "data": {
      "image/png": "[encoded data removed]",
      "text/plain": [
       "<Figure size 1440x432 with 6 Axes>"
      ]
     },
     "metadata": {
      "needs_background": "light"
     },
     "output_type": "display_data"
    }
   ],
   "source": [
    "import seaborn as sns\n",
    "dxp.aggplot(agg='codigo1', data=data3,  hue='niv_superior_hijo', col=\"estrsocial\", normalize=('niv_superior_hijo','estrsocial'))"
   ]
  },
  {
   "cell_type": "markdown",
   "metadata": {},
   "source": [
    "#### Las diez universidades con mayor matrícula"
   ]
  },
  {
   "cell_type": "code",
   "execution_count": 73,
   "metadata": {},
   "outputs": [
    {
     "data": {
      "text/html": [
       "<div>\n",
       "<style scoped>\n",
       "    .dataframe tbody tr th:only-of-type {\n",
       "        vertical-align: middle;\n",
       "    }\n",
       "\n",
       "    .dataframe tbody tr th {\n",
       "        vertical-align: top;\n",
       "    }\n",
       "\n",
       "    .dataframe thead th {\n",
       "        text-align: right;\n",
       "    }\n",
       "</style>\n",
       "<table border=\"1\" class=\"dataframe\">\n",
       "  <thead>\n",
       "    <tr style=\"text-align: right;\">\n",
       "      <th></th>\n",
       "      <th>niv2</th>\n",
       "    </tr>\n",
       "    <tr>\n",
       "      <th>nombre</th>\n",
       "      <th></th>\n",
       "    </tr>\n",
       "  </thead>\n",
       "  <tbody>\n",
       "    <tr>\n",
       "      <th>Universidad Alas Peruanas</th>\n",
       "      <td>232</td>\n",
       "    </tr>\n",
       "    <tr>\n",
       "      <th>Universidad Particular César Vallejo</th>\n",
       "      <td>173</td>\n",
       "    </tr>\n",
       "    <tr>\n",
       "      <th>Universidad Nacional San Luis Gonzaga</th>\n",
       "      <td>112</td>\n",
       "    </tr>\n",
       "    <tr>\n",
       "      <th>Universidad Nacional de San Agustín</th>\n",
       "      <td>80</td>\n",
       "    </tr>\n",
       "    <tr>\n",
       "      <th>Universidad Particular del Norte</th>\n",
       "      <td>77</td>\n",
       "    </tr>\n",
       "    <tr>\n",
       "      <th>Universidad Nacional Daniel Alcídes Carrión</th>\n",
       "      <td>75</td>\n",
       "    </tr>\n",
       "    <tr>\n",
       "      <th>Universidad Católica Los Ángeles de Chimbote</th>\n",
       "      <td>75</td>\n",
       "    </tr>\n",
       "    <tr>\n",
       "      <th>Universidad José Carlos Mariátegui</th>\n",
       "      <td>68</td>\n",
       "    </tr>\n",
       "    <tr>\n",
       "      <th>Universidad P. Antenor Orrego</th>\n",
       "      <td>68</td>\n",
       "    </tr>\n",
       "    <tr>\n",
       "      <th>Universidad Nacional Jorge Basadre Grohmann</th>\n",
       "      <td>64</td>\n",
       "    </tr>\n",
       "  </tbody>\n",
       "</table>\n",
       "</div>"
      ],
      "text/plain": [
       "                                              niv2\n",
       "nombre                                            \n",
       "Universidad Alas Peruanas                      232\n",
       "Universidad Particular César Vallejo           173\n",
       "Universidad Nacional San Luis Gonzaga          112\n",
       "Universidad Nacional de San Agustín             80\n",
       "Universidad Particular del Norte                77\n",
       "Universidad Nacional Daniel Alcídes Carrión     75\n",
       "Universidad Católica Los Ángeles de Chimbote    75\n",
       "Universidad José Carlos Mariátegui              68\n",
       "Universidad P. Antenor Orrego                   68\n",
       "Universidad Nacional Jorge Basadre Grohmann     64"
      ]
     },
     "execution_count": 73,
     "metadata": {},
     "output_type": "execute_result"
    }
   ],
   "source": [
    "cols = [\"nombre\", \"niv2\"]\n",
    "data3[data3.niv2 == 'superior universitaria'][cols].groupby(\"nombre\").count().sort_values(\"niv2\", ascending=False).head(10)\n",
    "#presentar en porcentaje mejor"
   ]
  },
  {
   "cell_type": "markdown",
   "metadata": {},
   "source": [
    "#### Los diez institutos técnicos con mayor matrícula"
   ]
  },
  {
   "cell_type": "code",
   "execution_count": 74,
   "metadata": {},
   "outputs": [
    {
     "data": {
      "text/html": [
       "<div>\n",
       "<style scoped>\n",
       "    .dataframe tbody tr th:only-of-type {\n",
       "        vertical-align: middle;\n",
       "    }\n",
       "\n",
       "    .dataframe tbody tr th {\n",
       "        vertical-align: top;\n",
       "    }\n",
       "\n",
       "    .dataframe thead th {\n",
       "        text-align: right;\n",
       "    }\n",
       "</style>\n",
       "<table border=\"1\" class=\"dataframe\">\n",
       "  <thead>\n",
       "    <tr style=\"text-align: right;\">\n",
       "      <th></th>\n",
       "      <th>niv2</th>\n",
       "    </tr>\n",
       "    <tr>\n",
       "      <th>nombre</th>\n",
       "      <th></th>\n",
       "    </tr>\n",
       "  </thead>\n",
       "  <tbody>\n",
       "    <tr>\n",
       "      <th>Instituto de Educación Superior Tecnológica (IEST) Escuela Superior Privada De Tecnologia Senati</th>\n",
       "      <td>283</td>\n",
       "    </tr>\n",
       "    <tr>\n",
       "      <th>Instituto de Educación Superior Tecnológica (IEST) Sabio Nacional Antunez De Mayolo-Telesup</th>\n",
       "      <td>32</td>\n",
       "    </tr>\n",
       "    <tr>\n",
       "      <th>Instituto de Educación Superior Tecnológica (IEST) De Formacion Bancaria Ifb</th>\n",
       "      <td>31</td>\n",
       "    </tr>\n",
       "    <tr>\n",
       "      <th>Instituto de Educación Superior Tecnológica (IEST) Cibertec</th>\n",
       "      <td>23</td>\n",
       "    </tr>\n",
       "    <tr>\n",
       "      <th>Instituto de Educación Superior Tecnológica (IEST) Idat</th>\n",
       "      <td>19</td>\n",
       "    </tr>\n",
       "    <tr>\n",
       "      <th>Instituto de Educación Superior Tecnológica (IEST) Peruano De Sistemas Sise</th>\n",
       "      <td>16</td>\n",
       "    </tr>\n",
       "    <tr>\n",
       "      <th>Instituto de Educación Superior Tecnológica (IEST) San Ignacio De Loyola - Lima</th>\n",
       "      <td>13</td>\n",
       "    </tr>\n",
       "    <tr>\n",
       "      <th>Instituto de Educación Superior Tecnológica (IEST) Huancavelica</th>\n",
       "      <td>12</td>\n",
       "    </tr>\n",
       "    <tr>\n",
       "      <th>Instituto de Educación Superior Tecnológica (IEST) Santa Angela</th>\n",
       "      <td>11</td>\n",
       "    </tr>\n",
       "    <tr>\n",
       "      <th>Instituto de Educación Superior Tecnológica (IEST) Instituto Peruano De Administracion De Empresas - Ipae</th>\n",
       "      <td>10</td>\n",
       "    </tr>\n",
       "  </tbody>\n",
       "</table>\n",
       "</div>"
      ],
      "text/plain": [
       "                                                    niv2\n",
       "nombre                                                  \n",
       "Instituto de Educación Superior Tecnológica (IE...   283\n",
       "Instituto de Educación Superior Tecnológica (IE...    32\n",
       "Instituto de Educación Superior Tecnológica (IE...    31\n",
       "Instituto de Educación Superior Tecnológica (IE...    23\n",
       "Instituto de Educación Superior Tecnológica (IE...    19\n",
       "Instituto de Educación Superior Tecnológica (IE...    16\n",
       "Instituto de Educación Superior Tecnológica (IE...    13\n",
       "Instituto de Educación Superior Tecnológica (IE...    12\n",
       "Instituto de Educación Superior Tecnológica (IE...    11\n",
       "Instituto de Educación Superior Tecnológica (IE...    10"
      ]
     },
     "execution_count": 74,
     "metadata": {},
     "output_type": "execute_result"
    }
   ],
   "source": [
    "cols = [\"nombre\", \"niv2\"]\n",
    "data3[data3.niv2 == 'superior no universitaria'][cols].groupby(\"nombre\").count().sort_values(\"niv2\", ascending=False).head(10)\n"
   ]
  },
  {
   "cell_type": "markdown",
   "metadata": {},
   "source": [
    "### SECCIÓN C: CONCLUSIONES\n",
    "Se analizó 6 grupos de variables, de las cuales se puede concluir que\n",
    "- A nivel individual (edad y sexo): La educación técnica sería predominantemente masculina, mientras que la universitaria, predominantemente femenina. La mayor parte de la población estudiantil se concentra hasta los 25 años, que es cercano a la edad normativa de estudios, y durante esos grupos de edades, la matrícula de mujeres es mayor a la de los hombres.\n",
    "\n",
    "- A nivel del hogar (nivel de ingresos, pobreza, y estrato social): se observa que a mayor nivel depobreza, cae drásticamente el número de matriculados en educación superior. Asimismo, a mayor nivel del gasto del hogar, existe mayor población con nivel superior universitaria que con nivel no universitario. Según estrato social, se observa que los estudiantes matriculados en educación universitaria provendrían de estratos más ricos (como son \"A\" y \"B\") que en la educación técnica. O de estratos un poco más altos (estrato \"D\") en comparación a a los estratos \"E\" y \"rural\", donde predominaría la educación técnica.\n",
    "\n",
    "- A nivel de los padres (nivel educativo alcanzado): Cuando comparamos los niveles educativos alcanzados de los padres y el tipo de educación en el que están matriculados sus hijos, se observa que en el grupo de los matriculados en el nivel univeristario, habría mayor proporción de padres que habrían alcanzado \"hasta nivel técnico\" o \"hasta nivel universitario\". Mientras que en el caso de los matriculados en educación técnica, los padres habrían alcanzado mayoritariamente \"Hasta primaria\" o \"Hasta secundaria\".\n",
    "\n",
    "- Otros factores: Se observa una tendencia de no migración en la mayoría de estratos tanto en la educación universitaria como técnica, lo cual indicaría que los estudiantes buscan un centro de estudios cercano a su lugar de origen. Sin embargo, en los estratos más ricos (A y B) de educacion universitaria, sí se evidenciaría una tendencia a la migración. Por otro lado, en educación universitaria habría una mayor tasa de estudiantes provenientes de centros de estudios privados, en comparación a los matriculados en educación técnica. \n",
    "\n",
    "- A nivel de la ubicación geográfica: Cuando se analiza por área geográfica, se observa que la mayor parte proviene de las áreas de la sierra y la costa, tanto para el nivel universitario como para el técnico.  En términos normalizados a uno, se puede observar si el área geográfica de origen puede estar relacionado o influenciar en llevar estudios universitarios o técnicos. Al respecto, habría indicios para señalar que hay mayor probabilidad de que los estudiantes provenientes de la costa y Lima Metropolitana estudien en una universidad que en un instituto técnico. Mientras que los provenientes de la selva y sierra, mayor probabilidad de cursar estudios técnicos. Se observa una matrícula muy alta en el departamento de Lima en comparación a otros departamentos.\n",
    "\n",
    "- Según si la oferta educativa es privada o pública: Se observa que la mayor parte de la matrícula superior se concentra en universidades privadas (41%), seguido de las universidades públicas (31%), los institutos privados (19%) y los institutos públicos (8%). Se observa una alta presencia de la educacion privada en los estratos sociales más altos (A y B), pero sigue siendo importante también en los estratos sociales más bajos (D y E), donde la matrícula en institutos y universidades privadas estaría por encima del 40%."
   ]
  }
 ],
 "metadata": {
  "kernelspec": {
   "display_name": "Python 3",
   "language": "python",
   "name": "python3"
  },
  "language_info": {
   "codemirror_mode": {
    "name": "ipython",
    "version": 3
   },
   "file_extension": ".py",
   "mimetype": "text/x-python",
   "name": "python",
   "nbconvert_exporter": "python",
   "pygments_lexer": "ipython3",
   "version": "3.6.8"
  }
 },
 "nbformat": 4,
 "nbformat_minor": 2
}
